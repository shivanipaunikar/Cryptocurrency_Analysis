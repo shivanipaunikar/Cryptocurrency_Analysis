{
 "cells": [
  {
   "cell_type": "code",
   "execution_count": 1,
   "id": "5ebe49c1",
   "metadata": {},
   "outputs": [
    {
     "name": "stdout",
     "output_type": "stream",
     "text": [
      "Processing: /Users/shivanipaunikar/Downloads/Project- crypto/Cardano/CC.zst\n",
      "Completed: /Users/shivanipaunikar/Downloads/Project- crypto/Cardano/CC.zst -> /Users/shivanipaunikar/Downloads/Project- crypto/output/CC.json\n",
      "Processing: /Users/shivanipaunikar/Downloads/Project- crypto/Cardano/CS.zst\n",
      "Completed: /Users/shivanipaunikar/Downloads/Project- crypto/Cardano/CS.zst -> /Users/shivanipaunikar/Downloads/Project- crypto/output/CS.json\n",
      "All files processed.\n"
     ]
    }
   ],
   "source": [
    "import zstandard as zstd\n",
    "import shutil\n",
    "import os\n",
    "\n",
    "def decompress_zst(input_file, output_file, max_samples):\n",
    "    with open(input_file, 'rb') as compressed_file:\n",
    "        decomp = zstd.ZstdDecompressor()\n",
    "        with open(output_file, 'wb') as output:\n",
    "            total_samples = 0\n",
    "            for chunk in decomp.read_to_iter(compressed_file):\n",
    "                output.write(chunk)\n",
    "                total_samples += chunk.count(b'\\n')\n",
    "                if total_samples >= max_samples:\n",
    "                    break\n",
    "\n",
    "# List of input files\n",
    "input_files = ['/Users/shivanipaunikar/Downloads/Project- crypto/Cardano/CC.zst', '/Users/shivanipaunikar/Downloads/Project- crypto/Cardano/CS.zst']\n",
    "\n",
    "# Output directory where decompressed files will be stored\n",
    "output_directory = '/Users/shivanipaunikar/Downloads/Project- crypto/output'\n",
    "\n",
    "# Maximum number of samples you want to use\n",
    "max_samples = 5000\n",
    "\n",
    "# Create the output directory if it doesn't exist\n",
    "os.makedirs(output_directory, exist_ok=True)\n",
    "\n",
    "# Loop through each input file and decompress\n",
    "for input_file in input_files:\n",
    "    # Generate the output file path by removing the .zst extension and adding .json\n",
    "    output_file = os.path.join(output_directory, os.path.splitext(os.path.basename(input_file))[0] + '.json')\n",
    "    \n",
    "    print(f\"Processing: {input_file}\")\n",
    "    \n",
    "    # Decompress the input file, limiting to max_samples, and save it to the output file path\n",
    "    decompress_zst(input_file, output_file, max_samples)\n",
    "    \n",
    "    print(f\"Completed: {input_file} -> {output_file}\")\n",
    "\n",
    "print(\"All files processed.\")\n"
   ]
  },
  {
   "cell_type": "code",
   "execution_count": 2,
   "id": "247f9063",
   "metadata": {},
   "outputs": [
    {
     "name": "stdout",
     "output_type": "stream",
     "text": [
      "Skipping line due to JSON syntax error: {\"archived\":false,\"author\":\"SnowflakeXY\",\"author_flair_css_class\":null,\"author_flair_text\":null,\"brand_safe\":true,\"contest_mode\":false,\"created_utc\":1516690253,\"distinguished\":null,\"domain\":\"youtube.com\",\"edited\":false,\"gilded\":0,\"hidden\":false,\"hide_score\":false,\"id\":\"7scmzc\",\"is_crosspostable\":false,\"is_reddit_media_domain\":false,\"is_self\":false,\"is_video\":false,\"link_flair_css_class\":null,\"link_flair_text\":null,\"locked\":false,\"media\":{\"oembed\":{\"author_name\":\"Cedric Dahl\",\"author_url\":\"https://www.youtube.com/user/inspiredeye\",\"height\":338,\"html\":\"&lt;iframe width=\\\"600\\\" height=\\\"338\\\" src=\\\"https://www.youtube.com/embed/hVBi8rVkQms?feature=oembed&amp;enablejsapi=1\\\" frameborder=\\\"0\\\" allow=\\\"autoplay; encrypted-media\\\" allowfullscreen&gt;&lt;/iframe&gt;\",\"provider_name\":\"YouTube\",\"provider_url\":\"https://www.youtube.com/\",\"thumbnail_height\":360,\"thumbnail_url\":\"https://i.ytimg.com/vi/hVBi8rVkQms/hqdefault.jpg\",\"thumbnail_width\":480,\"title\":\"\\ud83e\\uddd0 The next Ethereum killer? \\ud83e\\uddd0 (Hunting for 1000x returns - Part 3)\",\"type\":\"video\",\"version\":\"1.0\",\"width\":600},\"type\":\"youtube.com\"},\"media_embed\":{\"content\":\"&lt;iframe width=\\\"600\\\" height=\\\"338\\\" src=\\\"https://www.youtube.com/embed/hVBi8rVkQms?feature=oembed&amp;enablejsapi=1\\\" frameborder=\\\"0\\\" allow=\\\"autoplay; e\n",
      "Skipping line due to JSON syntax error: {\"author\":\"tothjm\",\"author_flair_css_class\":null,\"author_flair_text\":null,\"body\":\"are you saying if you buy ltc or eth with bank account it comes through instant ?\",\"can_gild\":true,\"controversiality\":0,\"created_utc\":1511\n"
     ]
    }
   ],
   "source": [
    "import pandas as pd\n",
    "import json\n",
    "import os\n",
    "\n",
    "# Define the output directory where the JSON files were decompressed\n",
    "output_directory = '/Users/shivanipaunikar/Downloads/Project- crypto/output'\n",
    "\n",
    "# Function to fix JSON syntax errors\n",
    "def fix_json_syntax(input_file, output_file):\n",
    "    with open(input_file, 'r') as input_json, open(output_file, 'w') as output_json:\n",
    "        for line in input_json:\n",
    "            try:\n",
    "                json_obj = json.loads(line)\n",
    "                corrected_line = json.dumps(json_obj) + '\\n'\n",
    "                output_json.write(corrected_line)\n",
    "            except json.JSONDecodeError as e:\n",
    "                # Handle JSON syntax errors here or simply skip problematic lines\n",
    "                print(f\"Skipping line due to JSON syntax error: {line.strip()}\")\n",
    "                continue\n",
    "\n",
    "# Specify your input and output file paths for fixing 'Ds.json' syntax\n",
    "input_file_path_CS = os.path.join(output_directory, 'CS.json')\n",
    "output_file_path_CS = os.path.join(output_directory, 'CS_fixed.json')\n",
    "\n",
    "# Call the function to fix JSON syntax errors in 'Bs.json'\n",
    "fix_json_syntax(input_file_path_CS, output_file_path_CS)\n",
    "\n",
    "# Specify your input and output file paths for fixing 'Bc.json' syntax\n",
    "input_file_path_CC = os.path.join(output_directory, 'CC.json')\n",
    "output_file_path_CC = os.path.join(output_directory, 'CC_fixed.json')\n",
    "\n",
    "# Call the function to fix JSON syntax errors in 'Bc.json'\n",
    "fix_json_syntax(input_file_path_CC, output_file_path_CC)\n",
    "\n",
    "# Define a function to read JSON data line by line\n",
    "def read_json_lines(file_path):\n",
    "    with open(file_path, 'r') as file:\n",
    "        for line in file:\n",
    "            yield json.loads(line)\n",
    "\n",
    "# Use os.path.join to construct file paths\n",
    "submission_data = list(read_json_lines(output_file_path_CS))  \n",
    "comment_data = list(read_json_lines(output_file_path_CC))  \n",
    "\n",
    "# Create DataFrames\n",
    "submission_df = pd.DataFrame(submission_data)\n",
    "comment_df = pd.DataFrame(comment_data)\n",
    "\n",
    "# Filter for Dogecoin-related data (you may need to adjust the filter)\n",
    "Cardano_submissions = submission_df[submission_df['title'].str.contains('Cardano', case=False, na=False)]\n",
    "Cardano_comments = comment_df[comment_df['body'].str.contains('Cardano', case=False, na=False)]\n",
    "\n",
    "# Sample 5000 observations with replacement\n",
    "Cardano_submissions_sample = Cardano_submissions.sample(n=5000, replace=True)\n",
    "Cardano_comments_sample = Cardano_comments.sample(n=5000, replace=True)\n",
    "\n",
    "# Export to CSV\n",
    "Cardano_submissions_sample.to_csv('Cardano_submissions_sample.csv', index=False)\n",
    "Cardano_comments_sample.to_csv('Cardano_comments_sample.csv', index=False)\n"
   ]
  },
  {
   "cell_type": "code",
   "execution_count": 3,
   "id": "e9b26b40",
   "metadata": {},
   "outputs": [],
   "source": [
    "# Load the CSV files\n",
    "Cardano_submissions_df = pd.read_csv('Cardano_submissions_sample.csv')\n",
    "Cardano_comments_df = pd.read_csv('Cardano_comments_sample.csv')\n"
   ]
  },
  {
   "cell_type": "code",
   "execution_count": 4,
   "id": "0a31e46c",
   "metadata": {},
   "outputs": [
    {
     "name": "stdout",
     "output_type": "stream",
     "text": [
      "Columns in Cardanon_submissions_df:\n",
      "Index(['url', 'link_flair_css_class', 'preview', 'brand_safe', 'secure_media',\n",
      "       'suggested_sort', 'link_flair_text', 'quarantine', 'domain',\n",
      "       'subreddit', 'num_comments', 'stickied', 'over_18', 'created_utc',\n",
      "       'locked', 'author_flair_text', 'title', 'archived', 'retrieved_on',\n",
      "       'is_self', 'contest_mode', 'gilded', 'author_flair_css_class',\n",
      "       'hide_score', 'author', 'id', 'media', 'subreddit_id',\n",
      "       'secure_media_embed', 'score', 'hidden', 'view_count',\n",
      "       'thumbnail_height', 'spoiler', 'media_embed', 'edited', 'post_hint',\n",
      "       'thumbnail', 'thumbnail_width', 'can_gild', 'selftext', 'permalink',\n",
      "       'distinguished', 'is_video', 'approved_at_utc', 'banned_at_utc',\n",
      "       'can_mod_post', 'is_crosspostable', 'num_crossposts',\n",
      "       'parent_whitelist_status', 'whitelist_status', 'is_reddit_media_domain',\n",
      "       'pinned', 'subreddit_type', 'author_cakeday', 'crosspost_parent',\n",
      "       'crosspost_parent_list', 'mod_note', 'mod_reason_by',\n",
      "       'mod_reason_title'],\n",
      "      dtype='object')\n",
      "Sample data in Cardano_submissions_df:\n",
      "                                                 url  link_flair_css_class  \\\n",
      "0  https://hoskinsoncharles.blogspot.com/2018/01/...                   NaN   \n",
      "1                https://i.redd.it/uwnrf8wsv7601.png                   NaN   \n",
      "2  https://www.reddit.com/r/cardano/comments/7q2y...                   NaN   \n",
      "3  https://www.reddit.com/r/cardano/comments/7nud...                   NaN   \n",
      "4  https://www.reddit.com/r/cardano/comments/7q5d...                   NaN   \n",
      "\n",
      "                                             preview  brand_safe secure_media  \\\n",
      "0                                                NaN        True          NaN   \n",
      "1  {'enabled': True, 'images': [{'id': 'xWxbrnS35...        True          NaN   \n",
      "2                                                NaN        True          NaN   \n",
      "3                                                NaN        True          NaN   \n",
      "4                                                NaN        True          NaN   \n",
      "\n",
      "   suggested_sort  link_flair_text quarantine                         domain  \\\n",
      "0             NaN              NaN        NaN  hoskinsoncharles.blogspot.com   \n",
      "1             NaN              NaN        NaN                      i.redd.it   \n",
      "2             NaN              NaN        NaN                   self.cardano   \n",
      "3             NaN              NaN        NaN                   self.cardano   \n",
      "4             NaN              NaN        NaN                   self.cardano   \n",
      "\n",
      "  subreddit  ...  whitelist_status  is_reddit_media_domain  pinned  \\\n",
      "0   cardano  ...           all_ads                   False   False   \n",
      "1   cardano  ...           all_ads                    True   False   \n",
      "2   cardano  ...           all_ads                   False   False   \n",
      "3   cardano  ...           all_ads                   False   False   \n",
      "4   cardano  ...           all_ads                   False   False   \n",
      "\n",
      "   subreddit_type  author_cakeday crosspost_parent crosspost_parent_list  \\\n",
      "0          public             NaN              NaN                   NaN   \n",
      "1          public             NaN              NaN                   NaN   \n",
      "2          public             NaN              NaN                   NaN   \n",
      "3          public             NaN              NaN                   NaN   \n",
      "4          public             NaN              NaN                   NaN   \n",
      "\n",
      "   mod_note  mod_reason_by  mod_reason_title  \n",
      "0       NaN            NaN               NaN  \n",
      "1       NaN            NaN               NaN  \n",
      "2       NaN            NaN               NaN  \n",
      "3       NaN            NaN               NaN  \n",
      "4       NaN            NaN               NaN  \n",
      "\n",
      "[5 rows x 60 columns]\n",
      "Columns in Cardano_comments_df:\n",
      "Index(['approved_at_utc', 'author', 'author_flair_css_class',\n",
      "       'author_flair_text', 'banned_at_utc', 'body', 'can_gild',\n",
      "       'can_mod_post', 'collapsed', 'collapsed_reason', 'controversiality',\n",
      "       'created_utc', 'distinguished', 'edited', 'gilded', 'id',\n",
      "       'is_submitter', 'link_id', 'parent_id', 'retrieved_on', 'score',\n",
      "       'stickied', 'subreddit', 'subreddit_id', 'permalink', 'author_cakeday',\n",
      "       'subreddit_type'],\n",
      "      dtype='object')\n",
      "Sample data in Cardano_comments_df:\n",
      "   approved_at_utc          author  author_flair_css_class  author_flair_text  \\\n",
      "0              NaN         oizuros                     NaN                NaN   \n",
      "1              NaN  necromancer007                     NaN                NaN   \n",
      "2              NaN       tz1tzikas                     NaN                NaN   \n",
      "3              NaN      _youtubot_                     NaN                NaN   \n",
      "4              NaN       skytte_dk                     NaN                NaN   \n",
      "\n",
      "   banned_at_utc                                               body  can_gild  \\\n",
      "0            NaN  Yeah I thought I read on one of your sites tha...      True   \n",
      "1            NaN  I don't need to be FUDder to earn money for fo...      True   \n",
      "2            NaN  ETC will be haunting Cardano for a long time. ...      True   \n",
      "3            NaN  Video linked by /u/icedbeverage:\\n\\nTitle|Chan...      True   \n",
      "4            NaN  One easy thing we can do is to find youtube vi...      True   \n",
      "\n",
      "  can_mod_post collapsed  collapsed_reason  ...    link_id   parent_id  \\\n",
      "0        False     False               NaN  ...  t3_669f2l  t1_dkdmbmb   \n",
      "1          NaN       NaN               NaN  ...  t3_7ahod6  t1_dpa57nu   \n",
      "2          NaN       NaN               NaN  ...  t3_76ksgc   t3_76ksgc   \n",
      "3          NaN       NaN               NaN  ...  t3_7a2lr6  t1_dp6pz7u   \n",
      "4          NaN       NaN               NaN  ...  t3_7b5z9o   t3_7b5z9o   \n",
      "\n",
      "   retrieved_on score  stickied subreddit  subreddit_id  \\\n",
      "0    1501353282     1     False   cardano      t5_3jns3   \n",
      "1    1512080503    -7     False   cardano      t5_3jns3   \n",
      "2    1509858935     5     False   cardano      t5_3jns3   \n",
      "3    1512013068     1     False   cardano      t5_3jns3   \n",
      "4    1512197492     3     False   cardano      t5_3jns3   \n",
      "\n",
      "                                           permalink author_cakeday  \\\n",
      "0                                                NaN            NaN   \n",
      "1  /r/cardano/comments/7ahod6/price_analysis_betw...            NaN   \n",
      "2  /r/cardano/comments/76ksgc/is_cardano_a_scam_r...            NaN   \n",
      "3  /r/cardano/comments/7a2lr6/full_disclosure_on_...            NaN   \n",
      "4  /r/cardano/comments/7b5z9o/we_need_to_spread_t...            NaN   \n",
      "\n",
      "   subreddit_type  \n",
      "0             NaN  \n",
      "1          public  \n",
      "2             NaN  \n",
      "3          public  \n",
      "4          public  \n",
      "\n",
      "[5 rows x 27 columns]\n"
     ]
    }
   ],
   "source": [
    "# Display the columns of the DataFrame\n",
    "print(\"Columns in Cardanon_submissions_df:\")\n",
    "print(Cardano_submissions_df.columns)\n",
    "\n",
    "# Display a sample of the DataFrame\n",
    "print(\"Sample data in Cardano_submissions_df:\")\n",
    "print(Cardano_submissions_df.head())\n",
    "\n",
    "# Repeat the same for Dogecoin_comments_df if needed\n",
    "print(\"Columns in Cardano_comments_df:\")\n",
    "print(Cardano_comments_df.columns)\n",
    "\n",
    "print(\"Sample data in Cardano_comments_df:\")\n",
    "print(Cardano_comments_df.head())\n"
   ]
  },
  {
   "cell_type": "code",
   "execution_count": 5,
   "id": "36df1c76",
   "metadata": {},
   "outputs": [
    {
     "name": "stdout",
     "output_type": "stream",
     "text": [
      "Range of dates available in Cardano_submissions_df: (Timestamp('2017-04-19 10:46:04'), Timestamp('2018-01-23 04:31:05'))\n",
      "Range of dates available in Cardano_comments_df: (Timestamp('2017-07-18 13:14:24'), Timestamp('2017-11-29 04:07:26'))\n",
      "\n",
      "Number of posts per day in Cardano_submissions_df:\n",
      "created_utc\n",
      "2017-04-19     2\n",
      "2017-05-10     6\n",
      "2017-05-11     2\n",
      "2017-05-19     4\n",
      "2017-06-14     3\n",
      "              ..\n",
      "2018-01-19    38\n",
      "2018-01-20    51\n",
      "2018-01-21    35\n",
      "2018-01-22    43\n",
      "2018-01-23    11\n",
      "Length: 129, dtype: int64\n",
      "\n",
      "Number of comments per day in Cardano_comments_df:\n",
      "created_utc\n",
      "2017-07-18     20\n",
      "2017-09-04      5\n",
      "2017-09-12     10\n",
      "2017-09-29      5\n",
      "2017-09-30      5\n",
      "             ... \n",
      "2017-11-25     65\n",
      "2017-11-26     53\n",
      "2017-11-27    195\n",
      "2017-11-28    563\n",
      "2017-11-29    132\n",
      "Length: 65, dtype: int64\n",
      "\n",
      "Number of unique authors per day in Cardano_submissions_df:\n",
      "created_utc\n",
      "2017-04-19     1\n",
      "2017-05-10     1\n",
      "2017-05-11     1\n",
      "2017-05-19     1\n",
      "2017-06-14     1\n",
      "              ..\n",
      "2018-01-19     8\n",
      "2018-01-20    18\n",
      "2018-01-21    13\n",
      "2018-01-22    11\n",
      "2018-01-23     1\n",
      "Name: author, Length: 129, dtype: int64\n"
     ]
    }
   ],
   "source": [
    "import pandas as pd\n",
    "\n",
    "# Load the data into DataFrames (assuming you already have them loaded)\n",
    "Cardano_submissions_df = pd.read_csv('Cardano_submissions_sample.csv')\n",
    "Cardano_comments_df = pd.read_csv('Cardano_comments_sample.csv')\n",
    "\n",
    "# Convert 'created_utc' columns to datetime objects\n",
    "Cardano_submissions_df['created_utc'] = pd.to_datetime(Cardano_submissions_df['created_utc'], unit='s')\n",
    "Cardano_comments_df['created_utc'] = pd.to_datetime(Cardano_comments_df['created_utc'], unit='s')\n",
    "\n",
    "# Calculate the range of dates available\n",
    "date_range_submissions = Cardano_submissions_df['created_utc'].min(), Cardano_submissions_df['created_utc'].max()\n",
    "date_range_comments = Cardano_comments_df['created_utc'].min(), Cardano_comments_df['created_utc'].max()\n",
    "\n",
    "print(\"Range of dates available in Cardano_submissions_df:\", date_range_submissions)\n",
    "print(\"Range of dates available in Cardano_comments_df:\", date_range_comments)\n",
    "\n",
    "# Calculate the number of posts, comments, and authors for each day\n",
    "posts_per_day_submissions = Cardano_submissions_df.groupby(Cardano_submissions_df['created_utc'].dt.date).size()\n",
    "comments_per_day = Cardano_comments_df.groupby(Cardano_comments_df['created_utc'].dt.date).size()\n",
    "unique_authors_per_day_submissions = Cardano_submissions_df.groupby(Cardano_submissions_df['created_utc'].dt.date)['author'].nunique()\n",
    "\n",
    "# Display the results\n",
    "print(\"\\nNumber of posts per day in Cardano_submissions_df:\")\n",
    "print(posts_per_day_submissions)\n",
    "print(\"\\nNumber of comments per day in Cardano_comments_df:\")\n",
    "print(comments_per_day)\n",
    "print(\"\\nNumber of unique authors per day in Cardano_submissions_df:\")\n",
    "print(unique_authors_per_day_submissions)\n"
   ]
  },
  {
   "cell_type": "markdown",
   "id": "78726375",
   "metadata": {},
   "source": [
    "# Topic Modeling"
   ]
  },
  {
   "cell_type": "code",
   "execution_count": 6,
   "id": "e87d1494",
   "metadata": {},
   "outputs": [],
   "source": [
    "import pandas as pd\n",
    "import numpy as np\n",
    "import nltk\n",
    "from nltk.corpus import stopwords\n",
    "from nltk.tokenize import word_tokenize\n",
    "from nltk.stem import WordNetLemmatizer\n",
    "from sklearn.feature_extraction.text import TfidfVectorizer\n",
    "from gensim import models\n",
    "import gensim.corpora as corpora\n",
    "import gensim"
   ]
  },
  {
   "cell_type": "code",
   "execution_count": 7,
   "id": "231c6ab8",
   "metadata": {},
   "outputs": [],
   "source": [
    "# Load the data into DataFrames (assuming you already have them loaded)\n",
    "Cardano_submissions_df = pd.read_csv('Cardano_submissions_sample.csv')\n",
    "Cardano_comments_df = pd.read_csv('Cardano_comments_sample.csv')\n",
    "\n",
    "# Convert 'created_utc' columns to datetime objects\n",
    "Cardano_submissions_df['created_utc'] = pd.to_datetime(Cardano_submissions_df['created_utc'], unit='s')\n",
    "Cardano_comments_df['created_utc'] = pd.to_datetime(Cardano_comments_df['created_utc'], unit='s')\n",
    "\n",
    "# Combine comments and submissions text\n",
    "Cardano_text = Cardano_submissions_df['selftext'].dropna().tolist() + Cardano_comments_df['body'].dropna().tolist()\n"
   ]
  },
  {
   "cell_type": "code",
   "execution_count": 8,
   "id": "080e64cb",
   "metadata": {},
   "outputs": [
    {
     "name": "stderr",
     "output_type": "stream",
     "text": [
      "[nltk_data] Downloading package stopwords to\n",
      "[nltk_data]     /Users/shivanipaunikar/nltk_data...\n",
      "[nltk_data]   Package stopwords is already up-to-date!\n",
      "[nltk_data] Downloading package punkt to\n",
      "[nltk_data]     /Users/shivanipaunikar/nltk_data...\n",
      "[nltk_data]   Package punkt is already up-to-date!\n"
     ]
    }
   ],
   "source": [
    "# Text preprocessing\n",
    "nltk.download('stopwords')\n",
    "nltk.download('punkt')\n",
    "stop_words = set(stopwords.words('english'))\n",
    "lemmatizer = WordNetLemmatizer()\n",
    "\n",
    "def preprocess_text(text):\n",
    "    tokens = word_tokenize(text.lower())\n",
    "    tokens = [lemmatizer.lemmatize(token) for token in tokens if token.isalnum()]\n",
    "    tokens = [token for token in tokens if token not in stop_words]\n",
    "    return tokens\n",
    "\n",
    "Cardano_text = [preprocess_text(text) for text in Cardano_text]\n"
   ]
  },
  {
   "cell_type": "code",
   "execution_count": 9,
   "id": "2125bc2e",
   "metadata": {},
   "outputs": [],
   "source": [
    "# Create a TF-IDF vectorizer\n",
    "tfidf_vectorizer = TfidfVectorizer(max_df=0.95, min_df=2, max_features=1000)"
   ]
  },
  {
   "cell_type": "code",
   "execution_count": 10,
   "id": "8a6d00ce",
   "metadata": {},
   "outputs": [],
   "source": [
    "# Apply TF-IDF vectorization\n",
    "Cardano_tfidf = tfidf_vectorizer.fit_transform([' '.join(tokens) for tokens in Cardano_text])"
   ]
  },
  {
   "cell_type": "code",
   "execution_count": 11,
   "id": "15ac1684",
   "metadata": {},
   "outputs": [
    {
     "name": "stdout",
     "output_type": "stream",
     "text": [
      "Requirement already satisfied: gensim in ./opt/anaconda3/lib/python3.9/site-packages (4.3.0)\n",
      "Requirement already satisfied: matplotlib in ./opt/anaconda3/lib/python3.9/site-packages (3.7.0)\n",
      "Requirement already satisfied: pyLDAvis in ./opt/anaconda3/lib/python3.9/site-packages (3.4.0)\n",
      "Requirement already satisfied: scipy>=1.7.0 in ./opt/anaconda3/lib/python3.9/site-packages (from gensim) (1.10.0)\n",
      "Requirement already satisfied: smart-open>=1.8.1 in ./opt/anaconda3/lib/python3.9/site-packages (from gensim) (5.2.1)\n",
      "Requirement already satisfied: FuzzyTM>=0.4.0 in ./opt/anaconda3/lib/python3.9/site-packages (from gensim) (2.0.5)\n",
      "Requirement already satisfied: numpy>=1.18.5 in ./opt/anaconda3/lib/python3.9/site-packages (from gensim) (1.23.5)\n",
      "Requirement already satisfied: python-dateutil>=2.7 in ./opt/anaconda3/lib/python3.9/site-packages (from matplotlib) (2.8.2)\n",
      "Requirement already satisfied: pillow>=6.2.0 in ./opt/anaconda3/lib/python3.9/site-packages (from matplotlib) (9.4.0)\n",
      "Requirement already satisfied: pyparsing>=2.3.1 in ./opt/anaconda3/lib/python3.9/site-packages (from matplotlib) (3.0.9)\n",
      "Requirement already satisfied: fonttools>=4.22.0 in ./opt/anaconda3/lib/python3.9/site-packages (from matplotlib) (4.25.0)\n",
      "Requirement already satisfied: contourpy>=1.0.1 in ./opt/anaconda3/lib/python3.9/site-packages (from matplotlib) (1.0.5)\n",
      "Requirement already satisfied: kiwisolver>=1.0.1 in ./opt/anaconda3/lib/python3.9/site-packages (from matplotlib) (1.4.4)\n",
      "Requirement already satisfied: cycler>=0.10 in ./opt/anaconda3/lib/python3.9/site-packages (from matplotlib) (0.11.0)\n",
      "Requirement already satisfied: packaging>=20.0 in ./opt/anaconda3/lib/python3.9/site-packages (from matplotlib) (22.0)\n",
      "Requirement already satisfied: importlib-resources>=3.2.0 in ./opt/anaconda3/lib/python3.9/site-packages (from matplotlib) (5.2.0)\n",
      "Requirement already satisfied: scikit-learn>=1.0.0 in ./opt/anaconda3/lib/python3.9/site-packages (from pyLDAvis) (1.2.1)\n",
      "Requirement already satisfied: jinja2 in ./opt/anaconda3/lib/python3.9/site-packages (from pyLDAvis) (3.1.2)\n",
      "Requirement already satisfied: setuptools in ./opt/anaconda3/lib/python3.9/site-packages (from pyLDAvis) (65.6.3)\n",
      "Requirement already satisfied: numexpr in ./opt/anaconda3/lib/python3.9/site-packages (from pyLDAvis) (2.8.4)\n",
      "Requirement already satisfied: funcy in ./opt/anaconda3/lib/python3.9/site-packages (from pyLDAvis) (1.18)\n",
      "Requirement already satisfied: pandas>=1.3.4 in ./opt/anaconda3/lib/python3.9/site-packages (from pyLDAvis) (1.5.3)\n",
      "Requirement already satisfied: joblib>=1.2.0 in ./opt/anaconda3/lib/python3.9/site-packages (from pyLDAvis) (1.2.0)\n",
      "Requirement already satisfied: pyfume in ./opt/anaconda3/lib/python3.9/site-packages (from FuzzyTM>=0.4.0->gensim) (0.2.25)\n",
      "Requirement already satisfied: zipp>=3.1.0 in ./opt/anaconda3/lib/python3.9/site-packages (from importlib-resources>=3.2.0->matplotlib) (3.11.0)\n",
      "Requirement already satisfied: pytz>=2020.1 in ./opt/anaconda3/lib/python3.9/site-packages (from pandas>=1.3.4->pyLDAvis) (2022.7)\n",
      "Requirement already satisfied: six>=1.5 in ./opt/anaconda3/lib/python3.9/site-packages (from python-dateutil>=2.7->matplotlib) (1.16.0)\n",
      "Requirement already satisfied: threadpoolctl>=2.0.0 in ./opt/anaconda3/lib/python3.9/site-packages (from scikit-learn>=1.0.0->pyLDAvis) (2.2.0)\n",
      "Requirement already satisfied: MarkupSafe>=2.0 in ./opt/anaconda3/lib/python3.9/site-packages (from jinja2->pyLDAvis) (2.1.1)\n",
      "Requirement already satisfied: fst-pso in ./opt/anaconda3/lib/python3.9/site-packages (from pyfume->FuzzyTM>=0.4.0->gensim) (1.8.1)\n",
      "Requirement already satisfied: simpful in ./opt/anaconda3/lib/python3.9/site-packages (from pyfume->FuzzyTM>=0.4.0->gensim) (2.10.0)\n",
      "Requirement already satisfied: miniful in ./opt/anaconda3/lib/python3.9/site-packages (from fst-pso->pyfume->FuzzyTM>=0.4.0->gensim) (0.0.6)\n",
      "Requirement already satisfied: requests in ./opt/anaconda3/lib/python3.9/site-packages (from simpful->pyfume->FuzzyTM>=0.4.0->gensim) (2.28.1)\n",
      "Requirement already satisfied: charset-normalizer<3,>=2 in ./opt/anaconda3/lib/python3.9/site-packages (from requests->simpful->pyfume->FuzzyTM>=0.4.0->gensim) (2.0.4)\n",
      "Requirement already satisfied: idna<4,>=2.5 in ./opt/anaconda3/lib/python3.9/site-packages (from requests->simpful->pyfume->FuzzyTM>=0.4.0->gensim) (3.4)\n",
      "Requirement already satisfied: certifi>=2017.4.17 in ./opt/anaconda3/lib/python3.9/site-packages (from requests->simpful->pyfume->FuzzyTM>=0.4.0->gensim) (2022.12.7)\n",
      "Requirement already satisfied: urllib3<1.27,>=1.21.1 in ./opt/anaconda3/lib/python3.9/site-packages (from requests->simpful->pyfume->FuzzyTM>=0.4.0->gensim) (1.26.14)\n",
      "Note: you may need to restart the kernel to use updated packages.\n"
     ]
    }
   ],
   "source": [
    "pip install gensim matplotlib pyLDAvis"
   ]
  },
  {
   "cell_type": "code",
   "execution_count": 12,
   "id": "eb532c4e",
   "metadata": {},
   "outputs": [],
   "source": [
    "from gensim.corpora import Dictionary\n",
    "from gensim.models import LdaModel\n",
    "import pyLDAvis.gensim_models as gensimvis\n",
    "import pyLDAvis\n",
    "import matplotlib.pyplot as plt\n",
    "\n",
    "# Assuming you have a list of preprocessed tokens called 'bitcoin_text'\n",
    "# You can replace 'bitcoin_text' with your actual data\n",
    "dictionary = Dictionary([tokens for tokens in Cardano_text])\n",
    "corpus = [dictionary.doc2bow(tokens) for tokens in Cardano_text]\n",
    "\n",
    "# Perform LDA topic modeling\n",
    "lda_model_Cardano = LdaModel(corpus=corpus, id2word=dictionary, num_topics=5, passes=2)"
   ]
  },
  {
   "cell_type": "code",
   "execution_count": 13,
   "id": "f2d1dd8d",
   "metadata": {},
   "outputs": [
    {
     "name": "stdout",
     "output_type": "stream",
     "text": [
      "Coherence Score: 0.4128\n"
     ]
    }
   ],
   "source": [
    "from gensim.models import CoherenceModel\n",
    "\n",
    "coherence_model_lda = CoherenceModel(model=lda_model_Cardano, texts=Cardano_text, dictionary=dictionary, coherence='c_v')\n",
    "coherence_lda = coherence_model_lda.get_coherence()\n",
    "print(f'Coherence Score: {coherence_lda:.4f}')\n"
   ]
  },
  {
   "cell_type": "code",
   "execution_count": 14,
   "id": "4935859a",
   "metadata": {},
   "outputs": [
    {
     "data": {
      "image/png": "[encoded data removed]",
      "text/plain": [
       "<Figure size 1000x600 with 1 Axes>"
      ]
     },
     "metadata": {},
     "output_type": "display_data"
    }
   ],
   "source": [
    "# Define a range of topic numbers to test\n",
    "topics_range = range(2, 11)\n",
    "coherence_scores = []\n",
    "\n",
    "# Calculate coherence scores for different numbers of topics\n",
    "for num_topics in topics_range:\n",
    "    lda_model = LdaModel(corpus=corpus, id2word=dictionary, num_topics=num_topics, passes=2)\n",
    "    coherence_model = CoherenceModel(model=lda_model, texts=Cardano_text, dictionary=dictionary, coherence='c_v')\n",
    "    coherence_score = coherence_model.get_coherence()\n",
    "    coherence_scores.append(coherence_score)\n",
    "\n",
    "# Plot the coherence scores\n",
    "plt.figure(figsize=(10, 6))\n",
    "plt.plot(topics_range, coherence_scores, marker='o', linestyle='-', color='b')\n",
    "plt.title('Coherence Scores for Different Numbers of Topics')\n",
    "plt.xlabel('Number of Topics')\n",
    "plt.ylabel('Coherence Score (C_v)')\n",
    "plt.xticks(topics_range)\n",
    "plt.grid(True)\n",
    "plt.show()\n"
   ]
  },
  {
   "cell_type": "code",
   "execution_count": 15,
   "id": "714c7229",
   "metadata": {},
   "outputs": [
    {
     "name": "stdout",
     "output_type": "stream",
     "text": [
      "(0, '0.039*\"cardano\" + 0.026*\"http\" + 0.018*\"amp\" + 0.012*\"wa\" + 0.011*\"wallet\" + 0.009*\"ada\" + 0.008*\"sometimes\"')\n",
      "(1, '0.024*\"cardano\" + 0.019*\"ada\" + 0.014*\"coin\" + 0.011*\"would\" + 0.010*\"market\" + 0.009*\"people\" + 0.009*\"bitcoin\"')\n",
      "(2, '0.040*\"cardano\" + 0.012*\"platform\" + 0.011*\"ha\" + 0.011*\"also\" + 0.008*\"http\" + 0.007*\"think\" + 0.007*\"blockchain\"')\n",
      "(3, '0.044*\"cardano\" + 0.011*\"project\" + 0.010*\"ha\" + 0.009*\"roadmap\" + 0.009*\"year\" + 0.008*\"like\" + 0.008*\"also\"')\n",
      "(4, '0.037*\"cardano\" + 0.020*\"coin\" + 0.018*\"year\" + 0.013*\"removed\" + 0.011*\"5\" + 0.010*\"ada\" + 0.009*\"like\"')\n"
     ]
    }
   ],
   "source": [
    "# Print the topics generated by the LDA model\n",
    "topics = lda_model_Cardano.print_topics(num_words=7)  # You can adjust the number of words per topic\n",
    "for topic in topics:\n",
    "    print(topic)\n"
   ]
  },
  {
   "cell_type": "markdown",
   "id": "7eb41148",
   "metadata": {},
   "source": [
    "# Sentiment Analysis"
   ]
  },
  {
   "cell_type": "code",
   "execution_count": 16,
   "id": "10f56fb0",
   "metadata": {},
   "outputs": [
    {
     "name": "stderr",
     "output_type": "stream",
     "text": [
      "[nltk_data] Downloading package stopwords to\n",
      "[nltk_data]     /Users/shivanipaunikar/nltk_data...\n",
      "[nltk_data]   Package stopwords is already up-to-date!\n",
      "[nltk_data] Downloading package punkt to\n",
      "[nltk_data]     /Users/shivanipaunikar/nltk_data...\n",
      "[nltk_data]   Package punkt is already up-to-date!\n"
     ]
    }
   ],
   "source": [
    "from textblob import TextBlob\n",
    "\n",
    "Cardano_text = Cardano_submissions_df['selftext'].dropna().tolist() + Cardano_comments_df['body'].dropna().tolist()\n",
    "\n",
    "# Preprocess the text data (if you haven't done this already)\n",
    "nltk.download('stopwords')\n",
    "nltk.download('punkt')\n",
    "stop_words = set(stopwords.words('english'))\n",
    "lemmatizer = WordNetLemmatizer()\n",
    "\n",
    "def preprocess_text(text):\n",
    "    tokens = word_tokenize(text.lower())\n",
    "    tokens = [lemmatizer.lemmatize(token) for token in tokens if token.isalnum()]\n",
    "    tokens = [token for token in tokens if token not in stop_words]\n",
    "    return ' '.join(tokens)  # Join tokens into a single string\n",
    "\n",
    "Cardano_text = [preprocess_text(text) for text in Cardano_text]"
   ]
  },
  {
   "cell_type": "code",
   "execution_count": 17,
   "id": "532734db",
   "metadata": {},
   "outputs": [
    {
     "name": "stderr",
     "output_type": "stream",
     "text": [
      "[nltk_data] Downloading package stopwords to\n",
      "[nltk_data]     /Users/shivanipaunikar/nltk_data...\n",
      "[nltk_data]   Package stopwords is already up-to-date!\n",
      "[nltk_data] Downloading package punkt to\n",
      "[nltk_data]     /Users/shivanipaunikar/nltk_data...\n",
      "[nltk_data]   Package punkt is already up-to-date!\n"
     ]
    }
   ],
   "source": [
    "# Example preprocessing using NLTK\n",
    "import nltk\n",
    "from nltk.corpus import stopwords\n",
    "from nltk.tokenize import word_tokenize\n",
    "\n",
    "nltk.download('stopwords')\n",
    "nltk.download('punkt')\n",
    "\n",
    "# Define a function to preprocess text\n",
    "def preprocess_text(text):\n",
    "    # Tokenize the text\n",
    "    tokens = word_tokenize(text)\n",
    "    \n",
    "    # Remove stopwords\n",
    "    tokens = [word for word in tokens if word.lower() not in stopwords.words('english')]\n",
    "    \n",
    "    # Other text cleaning steps (e.g., removing punctuation, stemming) can be added\n",
    "    \n",
    "    return \" \".join(tokens)  # Convert tokens back to text\n",
    "\n",
    "# Apply preprocessing to your text data\n",
    "Cardano_comments_df['cleaned_text'] = Cardano_comments_df['body'].apply(preprocess_text)\n"
   ]
  },
  {
   "cell_type": "code",
   "execution_count": 19,
   "id": "a9354d43",
   "metadata": {},
   "outputs": [],
   "source": [
    "# Define a function to get sentiment\n",
    "def get_sentiment(text):\n",
    "    analysis = TextBlob(text)\n",
    "    polarity = analysis.sentiment.polarity\n",
    "\n",
    "    if polarity > 0.1:\n",
    "        return \"positive\"\n",
    "    elif polarity < -0.1:\n",
    "        return \"negative\"\n",
    "    else:\n",
    "        return \"neutral\""
   ]
  },
  {
   "cell_type": "code",
   "execution_count": 20,
   "id": "e7f659ce",
   "metadata": {},
   "outputs": [],
   "source": [
    "# Apply sentiment analysis to your preprocessed text data\n",
    "sentiments = [get_sentiment(text) for text in Cardano_text]"
   ]
  },
  {
   "cell_type": "code",
   "execution_count": 21,
   "id": "b1e7c28e",
   "metadata": {},
   "outputs": [],
   "source": [
    "# Create a DataFrame to store sentiments (optional)\n",
    "sentiments_df = pd.DataFrame({'Sentiment': sentiments})"
   ]
  },
  {
   "cell_type": "code",
   "execution_count": 22,
   "id": "d05f44d4",
   "metadata": {},
   "outputs": [
    {
     "name": "stdout",
     "output_type": "stream",
     "text": [
      "neutral     4619\n",
      "positive    3069\n",
      "negative     411\n",
      "Name: Sentiment, dtype: int64\n"
     ]
    }
   ],
   "source": [
    "# Print or analyze the sentiment results as needed\n",
    "print(sentiments_df['Sentiment'].value_counts())  # Display sentiment counts"
   ]
  },
  {
   "cell_type": "code",
   "execution_count": 23,
   "id": "625125de",
   "metadata": {},
   "outputs": [
    {
     "name": "stdout",
     "output_type": "stream",
     "text": [
      "Comment 1:\n",
      "Text: [removed]\n",
      "Sentiment: neutral\n",
      "\n",
      "Comment 2:\n",
      "Text: Hi guys,\n",
      "\n",
      "i would like to buy cardano buy it seem that bittrex is closed for new registrations. Is there any way to buy cardano without an BTC/ETH Exchange but directly for USD?\n",
      "\n",
      "Hope someone can help me :)\n",
      "Sentiment: neutral\n",
      "\n",
      "Comment 3:\n",
      "Text: Before you read my question please note that I am not an expert in blockchain and others area, so my question might seem noobish.\n",
      "\n",
      "So I researched Cardano a bit and I like the idea behind it, but looking at the transaction fees, they seem a bit excessive to me. \n",
      "\n",
      "The equation is this: 0.155381 ADA + 0.000043946 ADA/byte\n",
      "\n",
      "Looking at the first term as it is the major source of cost (set aside the very large transactions). If ADA cost 1 USD, the transaction cost is 0,15 USD regardless of what you buy with it (a drink, a sandwich, a car). But if the market cap goes at 10 times than the current cc. 25 billion. (assuming massive adoption, etc, than the transaction fee will be at least 1,5 USD (1 ADA = 10 USD), which seems excessive to me. If you buy a sandwich the transaction cost will be almost the same as the price of the sandwich.\n",
      "\n",
      "So my question is that is there a way to reduce the transaction fee-s to more reasonable levels and if so, than will it be still high enough to prevent  DDoS attacks?\n",
      "\n",
      "Thank you for your answer and I would like to emphasize again, I like very much the project and the idea behind it.\n",
      "Sentiment: neutral\n",
      "\n",
      "Comment 4:\n",
      "Text: [removed]\n",
      "Sentiment: neutral\n",
      "\n",
      "Comment 5:\n",
      "Text: [removed]\n",
      "Sentiment: neutral\n",
      "\n",
      "Submission 1:\n",
      "Text: [deleted]\n",
      "Sentiment: neutral\n",
      "\n",
      "Submission 2:\n",
      "Text: [removed]\n",
      "Sentiment: neutral\n",
      "\n",
      "Submission 3:\n",
      "Text: What does cardano have that ethereum doesn't? Since both are anticipating PoS protocall in the near future (Casper for ETH) but neither has it yet.\n",
      "\n",
      "ELI5?\n",
      "Sentiment: neutral\n",
      "\n",
      "Submission 4:\n",
      "Text: For those who want to get into cryptos but don't have as much money as they would like to invest, this gives you the opportunity to build a modest yet diverse cryptocurrency portfolio at no expense. You never know which will be the next one to hit $20,000.\n",
      "\n",
      "[earncrypto.com](https://www.earncrypto.com/earn-free-ada/?r=65118)\n",
      "\n",
      "What I do is go to Earn ADA at the top left, and then Watch Videos. Load up a video, and let it run when you're not using the computer/s. Chrome browser seems to work best for me with the mouse left hovering over the video. Yes, I get referral commission. But I do believe in their service, and wouldn't be wasting my time if I hadn't seen significant earnings in my account.\n",
      "\n",
      "It won't make you rich overnight, but if you want a little free cryptos and you're willing to hold for a while, a buck or two a day might make a big difference if you are patient, and choose your currencies wisely : - ). As we have seen with LTC/BTC/ETH and many others, it doesn't take long for a buck or two to be a thousand or two in the crypto sector.\n",
      "\n",
      "I'm happy to answer any questions if you have any.\n",
      "\n",
      "Tl;dr: Loop videos when you're not using the PC -- get free cryptocurrencies.\n",
      "Sentiment: positive\n",
      "\n",
      "Submission 5:\n",
      "Text: [deleted]\n",
      "Sentiment: neutral\n",
      "\n"
     ]
    }
   ],
   "source": [
    "# Assuming you have already performed sentiment analysis and stored results in 'sentiments' list\n",
    "# Combine both comments and submissions text into a single list\n",
    "Cardano_text = Cardano_submissions_df['selftext'].dropna().tolist() + Cardano_comments_df['body'].dropna().tolist()\n",
    "\n",
    "\n",
    "# Print the first few comments and submissions with their sentiments\n",
    "for i, (text, sentiment) in enumerate(zip(Cardano_text, sentiments)):\n",
    "    if i >= 10:  # Print the first 10 (5 comments + 5 submissions)\n",
    "        break\n",
    "    if i < 5:\n",
    "        print(f\"Comment {i + 1}:\")\n",
    "    else:\n",
    "        print(f\"Submission {i - 4}:\")\n",
    "    print(\"Text:\", text)\n",
    "    print(\"Sentiment:\", sentiment)\n",
    "    print()\n"
   ]
  },
  {
   "cell_type": "code",
   "execution_count": 24,
   "id": "8d43aa0f",
   "metadata": {},
   "outputs": [
    {
     "data": {
      "image/png": "[encoded data removed]",
      "text/plain": [
       "<Figure size 800x600 with 1 Axes>"
      ]
     },
     "metadata": {},
     "output_type": "display_data"
    }
   ],
   "source": [
    "import matplotlib.pyplot as plt\n",
    "import pandas as pd\n",
    "\n",
    "# Assuming you have already performed sentiment analysis and have a DataFrame 'sentiments_df'\n",
    "# with a 'Sentiment' column containing sentiment labels (positive, negative, neutral)\n",
    "\n",
    "# Count the occurrences of each sentiment label\n",
    "sentiment_counts = sentiments_df['Sentiment'].value_counts()\n",
    "\n",
    "# Create a bar plot\n",
    "plt.figure(figsize=(8, 6))\n",
    "sentiment_counts.plot(kind='bar', color=['green', 'red', 'blue'], alpha=0.7)\n",
    "plt.title('Sentiment Analysis of Cardano ')\n",
    "plt.xlabel('Sentiment')\n",
    "plt.ylabel('Count')\n",
    "\n",
    "# Annotate the bars with counts\n",
    "for i, count in enumerate(sentiment_counts):\n",
    "    plt.text(i, count, str(count), ha='center', va='bottom', fontsize=12)\n",
    "\n",
    "# Show the plot\n",
    "plt.xticks(rotation=0)\n",
    "plt.tight_layout()\n",
    "plt.show()\n"
   ]
  },
  {
   "cell_type": "markdown",
   "id": "023ba070",
   "metadata": {},
   "source": [
    "# Emotion Analysis"
   ]
  },
  {
   "cell_type": "code",
   "execution_count": 25,
   "id": "39df1de5",
   "metadata": {},
   "outputs": [
    {
     "name": "stdout",
     "output_type": "stream",
     "text": [
      "Requirement already satisfied: transformers in ./opt/anaconda3/lib/python3.9/site-packages (4.24.0)\n",
      "Requirement already satisfied: torch in ./opt/anaconda3/lib/python3.9/site-packages (1.12.1)\n",
      "Requirement already satisfied: regex!=2019.12.17 in ./opt/anaconda3/lib/python3.9/site-packages (from transformers) (2022.7.9)\n",
      "Requirement already satisfied: tokenizers!=0.11.3,<0.14,>=0.11.1 in ./opt/anaconda3/lib/python3.9/site-packages (from transformers) (0.11.4)\n",
      "Requirement already satisfied: filelock in ./opt/anaconda3/lib/python3.9/site-packages (from transformers) (3.9.0)\n",
      "Requirement already satisfied: requests in ./opt/anaconda3/lib/python3.9/site-packages (from transformers) (2.28.1)\n",
      "Requirement already satisfied: tqdm>=4.27 in ./opt/anaconda3/lib/python3.9/site-packages (from transformers) (4.64.1)\n",
      "Requirement already satisfied: pyyaml>=5.1 in ./opt/anaconda3/lib/python3.9/site-packages (from transformers) (6.0)\n",
      "Requirement already satisfied: huggingface-hub<1.0,>=0.10.0 in ./opt/anaconda3/lib/python3.9/site-packages (from transformers) (0.10.1)\n",
      "Requirement already satisfied: packaging>=20.0 in ./opt/anaconda3/lib/python3.9/site-packages (from transformers) (22.0)\n",
      "Requirement already satisfied: numpy>=1.17 in ./opt/anaconda3/lib/python3.9/site-packages (from transformers) (1.23.5)\n",
      "Requirement already satisfied: typing_extensions in ./opt/anaconda3/lib/python3.9/site-packages (from torch) (4.4.0)\n",
      "Requirement already satisfied: charset-normalizer<3,>=2 in ./opt/anaconda3/lib/python3.9/site-packages (from requests->transformers) (2.0.4)\n",
      "Requirement already satisfied: urllib3<1.27,>=1.21.1 in ./opt/anaconda3/lib/python3.9/site-packages (from requests->transformers) (1.26.14)\n",
      "Requirement already satisfied: idna<4,>=2.5 in ./opt/anaconda3/lib/python3.9/site-packages (from requests->transformers) (3.4)\n",
      "Requirement already satisfied: certifi>=2017.4.17 in ./opt/anaconda3/lib/python3.9/site-packages (from requests->transformers) (2022.12.7)\n",
      "Note: you may need to restart the kernel to use updated packages.\n"
     ]
    }
   ],
   "source": [
    "pip install transformers torch"
   ]
  },
  {
   "cell_type": "code",
   "execution_count": null,
   "id": "212de77c",
   "metadata": {},
   "outputs": [],
   "source": [
    "from transformers import AutoModelForSequenceClassification, AutoTokenizer\n",
    "import torch\n",
    "\n",
    "# Load the pre-trained emotion classification model and tokenizer\n",
    "model_name = \"michellejieli/emotion_text_classifier\"\n",
    "tokenizer = AutoTokenizer.from_pretrained(model_name)\n",
    "model = AutoModelForSequenceClassification.from_pretrained(model_name)\n",
    "\n",
    "# Combine both comments and submissions text into a single list\n",
    "Cardano_text = Cardano_submissions_df['selftext'].dropna().tolist() + Cardano_comments_df['body'].dropna().tolist()\n"
   ]
  },
  {
   "cell_type": "code",
   "execution_count": null,
   "id": "e76d9b82",
   "metadata": {},
   "outputs": [],
   "source": [
    "def get_emotion(text):\n",
    "    inputs = tokenizer(text, return_tensors=\"pt\", truncation=True, padding=True)\n",
    "    with torch.no_grad():\n",
    "        logits = model(**inputs).logits\n",
    "    predicted_class = torch.argmax(logits, dim=1).item()\n",
    "    \n",
    "    # Define the emotion labels corresponding to model output\n",
    "    emotion_labels = [\"anger\", \"fear\", \"joy\", \"sadness\", \"surprise\"]\n",
    "    return emotion_labels[predicted_class]"
   ]
  },
  {
   "cell_type": "code",
   "execution_count": null,
   "id": "5ccac4b8",
   "metadata": {},
   "outputs": [],
   "source": [
    "Cardano_combined_df['emotion'] = combined_text.apply(get_emotion)"
   ]
  }
 ],
 "metadata": {
  "kernelspec": {
   "display_name": "Python 3 (ipykernel)",
   "language": "python",
   "name": "python3"
  },
  "language_info": {
   "codemirror_mode": {
    "name": "ipython",
    "version": 3
   },
   "file_extension": ".py",
   "mimetype": "text/x-python",
   "name": "python",
   "nbconvert_exporter": "python",
   "pygments_lexer": "ipython3",
   "version": "3.9.16"
  }
 },
 "nbformat": 4,
 "nbformat_minor": 5
}
