{
 "cells": [
  {
   "cell_type": "markdown",
   "id": "612b502a",
   "metadata": {},
   "source": [
    "# Dogecoin Analysis"
   ]
  },
  {
   "cell_type": "code",
   "execution_count": 1,
   "id": "c27e31e3",
   "metadata": {},
   "outputs": [
    {
     "name": "stdout",
     "output_type": "stream",
     "text": [
      "Processing: /Users/shivanipaunikar/Downloads/Project- crypto/Dogecoin/DC.zst\n",
      "Completed: /Users/shivanipaunikar/Downloads/Project- crypto/Dogecoin/DC.zst -> /Users/shivanipaunikar/Downloads/Project- crypto/output/DC.json\n",
      "Processing: /Users/shivanipaunikar/Downloads/Project- crypto/Dogecoin/DS.zst\n",
      "Completed: /Users/shivanipaunikar/Downloads/Project- crypto/Dogecoin/DS.zst -> /Users/shivanipaunikar/Downloads/Project- crypto/output/DS.json\n",
      "All files processed.\n"
     ]
    }
   ],
   "source": [
    "import zstandard as zstd\n",
    "import shutil\n",
    "import os\n",
    "\n",
    "def decompress_zst(input_file, output_file, max_samples):\n",
    "    with open(input_file, 'rb') as compressed_file:\n",
    "        decomp = zstd.ZstdDecompressor()\n",
    "        with open(output_file, 'wb') as output:\n",
    "            total_samples = 0\n",
    "            for chunk in decomp.read_to_iter(compressed_file):\n",
    "                output.write(chunk)\n",
    "                total_samples += chunk.count(b'\\n')\n",
    "                if total_samples >= max_samples:\n",
    "                    break\n",
    "\n",
    "# List of input files\n",
    "input_files = ['/Users/shivanipaunikar/Downloads/Project- crypto/Dogecoin/DC.zst', '/Users/shivanipaunikar/Downloads/Project- crypto/Dogecoin/DS.zst']\n",
    "\n",
    "# Output directory where decompressed files will be stored\n",
    "output_directory = '/Users/shivanipaunikar/Downloads/Project- crypto/output'\n",
    "\n",
    "# Maximum number of samples you want to use\n",
    "max_samples = 5000\n",
    "\n",
    "# Create the output directory if it doesn't exist\n",
    "os.makedirs(output_directory, exist_ok=True)\n",
    "\n",
    "# Loop through each input file and decompress\n",
    "for input_file in input_files:\n",
    "    # Generate the output file path by removing the .zst extension and adding .json\n",
    "    output_file = os.path.join(output_directory, os.path.splitext(os.path.basename(input_file))[0] + '.json')\n",
    "    \n",
    "    print(f\"Processing: {input_file}\")\n",
    "    \n",
    "    # Decompress the input file, limiting to max_samples, and save it to the output file path\n",
    "    decompress_zst(input_file, output_file, max_samples)\n",
    "    \n",
    "    print(f\"Completed: {input_file} -> {output_file}\")\n",
    "\n",
    "print(\"All files processed.\")\n"
   ]
  },
  {
   "cell_type": "code",
   "execution_count": 2,
   "id": "af0b4c14",
   "metadata": {},
   "outputs": [
    {
     "name": "stdout",
     "output_type": "stream",
     "text": [
      "Skipping line due to JSON syntax error: {\"edited\":false,\"report_reasons\":null,\"distinguished\":null,\"downs\":0,\"thumbnail\":\"self\",\"selftext_html\":\"&lt;!-- SC_OFF --&gt;&lt;div class=\\\"md\\\"&gt;&lt;p&gt;I leave r/dogecoin for 2 hours and suddenly there&amp;#39;s like 50 new posts, and all the threads I&amp;#39;ve posted in have tons of replies, and there&amp;#39;s hundreds of upvotes being thrown about.&lt;/p&gt;\\n\\n&lt;p&gt;I check r/litecoin after those same 2 hours, and two posts have maybe four new replies between them.&lt;/p&gt;\\n\\n&lt;p&gt;This subreddit is taking over the cryptoreddit world by storm.&lt;/p&gt;\\n\\n&lt;pre&gt;&lt;code&gt;such posting\\n        wow\\n                         very\n",
      "Skipping line due to JSON syntax error: {\"name\":\"t1_ce28rrd\",\"ups\":1,\"subreddit_id\":\"t5_2zcp2\",\"downs\":0,\"link_id\":\"t3_1sxcad\",\"retrieved_on\":1428124939,\"distinguished\":null,\"author_flair_css_class\":null,\"parent_id\":\n"
     ]
    }
   ],
   "source": [
    "import pandas as pd\n",
    "import json\n",
    "import os\n",
    "\n",
    "# Define the output directory where the JSON files were decompressed\n",
    "output_directory = '/Users/shivanipaunikar/Downloads/Project- crypto/output'\n",
    "\n",
    "# Function to fix JSON syntax errors\n",
    "def fix_json_syntax(input_file, output_file):\n",
    "    with open(input_file, 'r') as input_json, open(output_file, 'w') as output_json:\n",
    "        for line in input_json:\n",
    "            try:\n",
    "                json_obj = json.loads(line)\n",
    "                corrected_line = json.dumps(json_obj) + '\\n'\n",
    "                output_json.write(corrected_line)\n",
    "            except json.JSONDecodeError as e:\n",
    "                # Handle JSON syntax errors here or simply skip problematic lines\n",
    "                print(f\"Skipping line due to JSON syntax error: {line.strip()}\")\n",
    "                continue\n",
    "\n",
    "# Specify your input and output file paths for fixing 'Ds.json' syntax\n",
    "input_file_path_DS = os.path.join(output_directory, 'DS.json')\n",
    "output_file_path_DS = os.path.join(output_directory, 'DS_fixed.json')\n",
    "\n",
    "# Call the function to fix JSON syntax errors in 'Bs.json'\n",
    "fix_json_syntax(input_file_path_DS, output_file_path_DS)\n",
    "\n",
    "# Specify your input and output file paths for fixing 'Bc.json' syntax\n",
    "input_file_path_DC = os.path.join(output_directory, 'DC.json')\n",
    "output_file_path_DC = os.path.join(output_directory, 'DC_fixed.json')\n",
    "\n",
    "# Call the function to fix JSON syntax errors in 'Bc.json'\n",
    "fix_json_syntax(input_file_path_DC, output_file_path_DC)\n",
    "\n",
    "# Define a function to read JSON data line by line\n",
    "def read_json_lines(file_path):\n",
    "    with open(file_path, 'r') as file:\n",
    "        for line in file:\n",
    "            yield json.loads(line)\n",
    "\n",
    "# Use os.path.join to construct file paths\n",
    "submission_data = list(read_json_lines(output_file_path_DS))  \n",
    "comment_data = list(read_json_lines(output_file_path_DC))  \n",
    "\n",
    "# Create DataFrames\n",
    "submission_df = pd.DataFrame(submission_data)\n",
    "comment_df = pd.DataFrame(comment_data)\n",
    "\n",
    "# Filter for Dogecoin-related data (you may need to adjust the filter)\n",
    "Dogecoin_submissions = submission_df[submission_df['title'].str.contains('Dogecoin', case=False, na=False)]\n",
    "Dogecoin_comments = comment_df[comment_df['body'].str.contains('Dogecoin', case=False, na=False)]\n",
    "\n",
    "# Sample 5000 observations with replacement\n",
    "Dogecoin_submissions_sample = Dogecoin_submissions.sample(n=5000, replace=True)\n",
    "Dogecoin_comments_sample = Dogecoin_comments.sample(n=5000, replace=True)\n",
    "\n",
    "# Export to CSV\n",
    "Dogecoin_submissions_sample.to_csv('Dogecoin_submissions_sample.csv', index=False)\n",
    "Dogecoin_comments_sample.to_csv('Dogecoin_comments_sample.csv', index=False)\n"
   ]
  },
  {
   "cell_type": "code",
   "execution_count": 3,
   "id": "91b364ab",
   "metadata": {},
   "outputs": [],
   "source": [
    "# Load the CSV files\n",
    "Dogecoin_submissions_df = pd.read_csv('Dogecoin_submissions_sample.csv')\n",
    "Dogecoin_comments_df = pd.read_csv('Dogecoin_comments_sample.csv')\n"
   ]
  },
  {
   "cell_type": "code",
   "execution_count": 4,
   "id": "5d696e8c",
   "metadata": {},
   "outputs": [
    {
     "name": "stdout",
     "output_type": "stream",
     "text": [
      "Columns in Dogecoin_submissions_df:\n",
      "Index(['thumbnail', 'edited', 'distinguished', 'report_reasons', 'downs',\n",
      "       'mod_reports', 'selftext_html', 'retrieved_on', 'domain', 'permalink',\n",
      "       'score', 'media_embed', 'gilded', 'secure_media_embed', 'over_18', 'id',\n",
      "       'num_comments', 'user_reports', 'subreddit_id', 'title', 'author',\n",
      "       'url', 'stickied', 'subreddit', 'banned_by', 'author_flair_text',\n",
      "       'secure_media', 'link_flair_text', 'link_flair_css_class', 'media',\n",
      "       'author_flair_css_class', 'ups', 'created_utc', 'selftext', 'is_self'],\n",
      "      dtype='object')\n",
      "Sample data in Dogecoin_submissions_df:\n",
      "                                           thumbnail      edited  \\\n",
      "0  http://c.thumbs.redditmedia.com/BOTuCXuJmACHl4...       False   \n",
      "1                                               self  1387550658   \n",
      "2                                            default       False   \n",
      "3                                               self       False   \n",
      "4                                               self       False   \n",
      "\n",
      "  distinguished  report_reasons  downs mod_reports  \\\n",
      "0           NaN             NaN      0          []   \n",
      "1           NaN             NaN      0          []   \n",
      "2           NaN             NaN      0          []   \n",
      "3           NaN             NaN      0          []   \n",
      "4           NaN             NaN      0          []   \n",
      "\n",
      "                                       selftext_html  retrieved_on  \\\n",
      "0                                                NaN    1411457265   \n",
      "1  &lt;!-- SC_OFF --&gt;&lt;div class=\"md\"&gt;&lt...    1411453335   \n",
      "2  &lt;!-- SC_OFF --&gt;&lt;div class=\"md\"&gt;&lt...    1411463617   \n",
      "3  &lt;!-- SC_OFF --&gt;&lt;div class=\"md\"&gt;&lt...    1411443873   \n",
      "4  &lt;!-- SC_OFF --&gt;&lt;div class=\"md\"&gt;&lt...    1411449951   \n",
      "\n",
      "          domain                                          permalink  ...  \\\n",
      "0      imgur.com  /r/dogecoin/comments/1t6dmk/doge_owners_around...  ...   \n",
      "1  self.dogecoin  /r/dogecoin/comments/1t95wh/dogecoin_community...  ...   \n",
      "2  self.dogecoin  /r/dogecoin/comments/1t1qaq/want_to_buy_dogeco...  ...   \n",
      "3  self.dogecoin  /r/dogecoin/comments/1tf9o9/eli5_whats_the_saf...  ...   \n",
      "4  self.dogecoin  /r/dogecoin/comments/1tbcck/dogecoin_11_lets_d...  ...   \n",
      "\n",
      "        author_flair_text secure_media  link_flair_text link_flair_css_class  \\\n",
      "0   shibedoge of optimism          NaN              NaN                  NaN   \n",
      "1  sex doge and rocknroll          NaN              NaN                  NaN   \n",
      "2            dogeconomist          NaN              NaN                  NaN   \n",
      "3                     NaN          NaN              NaN                  NaN   \n",
      "4              poor shibe          NaN              NaN                  NaN   \n",
      "\n",
      "   media author_flair_css_class  ups created_utc  \\\n",
      "0    NaN                    NaN    1  1387384939   \n",
      "1    NaN                    NaN    6  1387470423   \n",
      "2    NaN          economistdoge    1  1387238752   \n",
      "3    NaN                    NaN    3  1387666823   \n",
      "4    NaN                  brown    3  1387530152   \n",
      "\n",
      "                                            selftext is_self  \n",
      "0                                                NaN   False  \n",
      "1  I just had a great idea to use the power of th...    True  \n",
      "2                                                NaN    True  \n",
      "3                          Will Tip Much to Helpers!    True  \n",
      "4  According to [Coinmarketcap](http://coinmarket...    True  \n",
      "\n",
      "[5 rows x 35 columns]\n",
      "Columns in Dogecoin_comments_df:\n",
      "Index(['author', 'score_hidden', 'controversiality', 'distinguished',\n",
      "       'retrieved_on', 'created_utc', 'author_flair_text', 'parent_id',\n",
      "       'link_id', 'subreddit_id', 'ups', 'gilded', 'archived', 'body',\n",
      "       'subreddit', 'score', 'author_flair_css_class', 'id', 'downs', 'edited',\n",
      "       'name'],\n",
      "      dtype='object')\n",
      "Sample data in Dogecoin_comments_df:\n",
      "        author  score_hidden  controversiality distinguished  retrieved_on  \\\n",
      "0  p-o-t-a-t-o         False                 0           NaN    1428152792   \n",
      "1   dogefaucet         False                 0           NaN    1428148661   \n",
      "2    NeoTheFox         False                 0           NaN    1428159450   \n",
      "3  p-o-t-a-t-o         False                 0           NaN    1428125896   \n",
      "4   dogetipbot         False                 0           NaN    1428124992   \n",
      "\n",
      "   created_utc author_flair_text   parent_id    link_id subreddit_id  ...  \\\n",
      "0   1386911389               NaN  t1_ce0lzdh  t3_1srqi0     t5_2zcp2  ...   \n",
      "1   1386949273     dogefaucet.tk   t3_1sr2y5  t3_1sr2y5     t5_2zcp2  ...   \n",
      "2   1386879702               NaN  t1_ce087r7  t3_1spi8t     t5_2zcp2  ...   \n",
      "3   1387109170               NaN   t3_1swp38  t3_1swp38     t5_2zcp2  ...   \n",
      "4   1387120394      twitch shibe  t1_ce28nle  t3_1sv7oy     t5_2zcp2  ...   \n",
      "\n",
      "   gilded  archived                                               body  \\\n",
      "0       0      True  Let's hope so. These are dangerous days. \\n\\nR...   \n",
      "1       0      True  Had (and still have...) some trouble due to th...   \n",
      "2       0      True  You have to create dogecoin.conf in dogecoin d...   \n",
      "3       0      True  Dogecoin is from space?\\n\\nI'm confused. Thoug...   \n",
      "4       0      True  ^__[Verified]__: ^/u/Bokitoman ^-&gt; ^/u/Pear...   \n",
      "\n",
      "  subreddit score  author_flair_css_class       id downs      edited  \\\n",
      "0  dogecoin     3                     NaN  ce0mel2     0       False   \n",
      "1  dogecoin     1                     NaN  ce0v3uy     0  1386952857   \n",
      "2  dogecoin     2                     NaN  ce08cpj     0       False   \n",
      "3  dogecoin     3                     NaN  ce26pxc     0       False   \n",
      "4  dogecoin     2                  twitch  ce28nrd     0       False   \n",
      "\n",
      "         name  \n",
      "0  t1_ce0mel2  \n",
      "1  t1_ce0v3uy  \n",
      "2  t1_ce08cpj  \n",
      "3  t1_ce26pxc  \n",
      "4  t1_ce28nrd  \n",
      "\n",
      "[5 rows x 21 columns]\n"
     ]
    }
   ],
   "source": [
    "# Display the columns of the DataFrame\n",
    "print(\"Columns in Dogecoin_submissions_df:\")\n",
    "print(Dogecoin_submissions_df.columns)\n",
    "\n",
    "# Display a sample of the DataFrame\n",
    "print(\"Sample data in Dogecoin_submissions_df:\")\n",
    "print(Dogecoin_submissions_df.head())\n",
    "\n",
    "# Repeat the same for Dogecoin_comments_df if needed\n",
    "print(\"Columns in Dogecoin_comments_df:\")\n",
    "print(Dogecoin_comments_df.columns)\n",
    "\n",
    "print(\"Sample data in Dogecoin_comments_df:\")\n",
    "print(Dogecoin_comments_df.head())\n"
   ]
  },
  {
   "cell_type": "code",
   "execution_count": 5,
   "id": "6af11c79",
   "metadata": {},
   "outputs": [
    {
     "name": "stdout",
     "output_type": "stream",
     "text": [
      "Range of dates available in Dogecoin_submissions_df: (Timestamp('2013-12-08 18:27:58'), Timestamp('2013-12-21 23:58:47'))\n",
      "Range of dates available in Dogecoin_comments_df: (Timestamp('2013-12-08 22:54:50'), Timestamp('2013-12-15 15:16:51'))\n",
      "\n",
      "Number of posts per day in Dogecoin_submissions_df:\n",
      "created_utc\n",
      "2013-12-08       3\n",
      "2013-12-09      38\n",
      "2013-12-10     131\n",
      "2013-12-11      97\n",
      "2013-12-12      54\n",
      "2013-12-13     100\n",
      "2013-12-14     169\n",
      "2013-12-15     327\n",
      "2013-12-16     393\n",
      "2013-12-17     270\n",
      "2013-12-18     906\n",
      "2013-12-19    1056\n",
      "2013-12-20    1028\n",
      "2013-12-21     428\n",
      "dtype: int64\n",
      "\n",
      "Number of comments per day in Dogecoin_comments_df:\n",
      "created_utc\n",
      "2013-12-08      12\n",
      "2013-12-09     295\n",
      "2013-12-10    1049\n",
      "2013-12-11     676\n",
      "2013-12-12     284\n",
      "2013-12-13     666\n",
      "2013-12-14     833\n",
      "2013-12-15    1185\n",
      "dtype: int64\n",
      "\n",
      "Number of unique authors per day in Dogecoin_submissions_df:\n",
      "created_utc\n",
      "2013-12-08      1\n",
      "2013-12-09     14\n",
      "2013-12-10     31\n",
      "2013-12-11     22\n",
      "2013-12-12     13\n",
      "2013-12-13     27\n",
      "2013-12-14     36\n",
      "2013-12-15     70\n",
      "2013-12-16     83\n",
      "2013-12-17     58\n",
      "2013-12-18    175\n",
      "2013-12-19    223\n",
      "2013-12-20    223\n",
      "2013-12-21     91\n",
      "Name: author, dtype: int64\n"
     ]
    }
   ],
   "source": [
    "import pandas as pd\n",
    "\n",
    "# Load the data into DataFrames (assuming you already have them loaded)\n",
    "Dogecoin_submissions_df = pd.read_csv('Dogecoin_submissions_sample.csv')\n",
    "Dogecoin_comments_df = pd.read_csv('Dogecoin_comments_sample.csv')\n",
    "\n",
    "# Convert 'created_utc' columns to datetime objects\n",
    "Dogecoin_submissions_df['created_utc'] = pd.to_datetime(Dogecoin_submissions_df['created_utc'], unit='s')\n",
    "Dogecoin_comments_df['created_utc'] = pd.to_datetime(Dogecoin_comments_df['created_utc'], unit='s')\n",
    "\n",
    "# Calculate the range of dates available\n",
    "date_range_submissions = Dogecoin_submissions_df['created_utc'].min(), Dogecoin_submissions_df['created_utc'].max()\n",
    "date_range_comments = Dogecoin_comments_df['created_utc'].min(), Dogecoin_comments_df['created_utc'].max()\n",
    "\n",
    "print(\"Range of dates available in Dogecoin_submissions_df:\", date_range_submissions)\n",
    "print(\"Range of dates available in Dogecoin_comments_df:\", date_range_comments)\n",
    "\n",
    "# Calculate the number of posts, comments, and authors for each day\n",
    "posts_per_day_submissions = Dogecoin_submissions_df.groupby(Dogecoin_submissions_df['created_utc'].dt.date).size()\n",
    "comments_per_day = Dogecoin_comments_df.groupby(Dogecoin_comments_df['created_utc'].dt.date).size()\n",
    "unique_authors_per_day_submissions = Dogecoin_submissions_df.groupby(Dogecoin_submissions_df['created_utc'].dt.date)['author'].nunique()\n",
    "\n",
    "# Display the results\n",
    "print(\"\\nNumber of posts per day in Dogecoin_submissions_df:\")\n",
    "print(posts_per_day_submissions)\n",
    "print(\"\\nNumber of comments per day in Dogecoin_comments_df:\")\n",
    "print(comments_per_day)\n",
    "print(\"\\nNumber of unique authors per day in Dogecoin_submissions_df:\")\n",
    "print(unique_authors_per_day_submissions)\n"
   ]
  },
  {
   "cell_type": "markdown",
   "id": "de7bbf7e",
   "metadata": {},
   "source": [
    "# Topic Modeling "
   ]
  },
  {
   "cell_type": "code",
   "execution_count": 6,
   "id": "c895ab40",
   "metadata": {},
   "outputs": [],
   "source": [
    "import pandas as pd\n",
    "import numpy as np\n",
    "import nltk\n",
    "from nltk.corpus import stopwords\n",
    "from nltk.tokenize import word_tokenize\n",
    "from nltk.stem import WordNetLemmatizer\n",
    "from sklearn.feature_extraction.text import TfidfVectorizer\n",
    "from gensim import models\n",
    "import gensim.corpora as corpora\n",
    "import gensim"
   ]
  },
  {
   "cell_type": "code",
   "execution_count": 7,
   "id": "db72d536",
   "metadata": {},
   "outputs": [],
   "source": [
    "# Load the data into DataFrames (assuming you already have them loaded)\n",
    "Dogecoin_submissions_df = pd.read_csv('Dogecoin_submissions_sample.csv')\n",
    "Dogecoin_comments_df = pd.read_csv('Dogecoin_comments_sample.csv')\n",
    "\n",
    "# Convert 'created_utc' columns to datetime objects\n",
    "Dogecoin_submissions_df['created_utc'] = pd.to_datetime(Dogecoin_submissions_df['created_utc'], unit='s')\n",
    "Dogecoin_comments_df['created_utc'] = pd.to_datetime(Dogecoin_comments_df['created_utc'], unit='s')\n",
    "\n",
    "# Combine comments and submissions text\n",
    "Dogecoin_text = Dogecoin_submissions_df['selftext'].dropna().tolist() + Dogecoin_comments_df['body'].dropna().tolist()\n"
   ]
  },
  {
   "cell_type": "code",
   "execution_count": 8,
   "id": "8974575a",
   "metadata": {},
   "outputs": [
    {
     "name": "stderr",
     "output_type": "stream",
     "text": [
      "[nltk_data] Downloading package stopwords to\n",
      "[nltk_data]     /Users/shivanipaunikar/nltk_data...\n",
      "[nltk_data]   Package stopwords is already up-to-date!\n",
      "[nltk_data] Downloading package punkt to\n",
      "[nltk_data]     /Users/shivanipaunikar/nltk_data...\n",
      "[nltk_data]   Package punkt is already up-to-date!\n"
     ]
    }
   ],
   "source": [
    "# Text preprocessing\n",
    "nltk.download('stopwords')\n",
    "nltk.download('punkt')\n",
    "stop_words = set(stopwords.words('english'))\n",
    "lemmatizer = WordNetLemmatizer()\n",
    "\n",
    "def preprocess_text(text):\n",
    "    tokens = word_tokenize(text.lower())\n",
    "    tokens = [lemmatizer.lemmatize(token) for token in tokens if token.isalnum()]\n",
    "    tokens = [token for token in tokens if token not in stop_words]\n",
    "    return tokens\n",
    "\n",
    "Dogecoin_text = [preprocess_text(text) for text in Dogecoin_text]\n"
   ]
  },
  {
   "cell_type": "code",
   "execution_count": 9,
   "id": "72bfa8c8",
   "metadata": {},
   "outputs": [],
   "source": [
    "# Create a TF-IDF vectorizer\n",
    "tfidf_vectorizer = TfidfVectorizer(max_df=0.95, min_df=2, max_features=1000)"
   ]
  },
  {
   "cell_type": "code",
   "execution_count": 10,
   "id": "965ba558",
   "metadata": {},
   "outputs": [],
   "source": [
    "# Apply TF-IDF vectorization\n",
    "Litecoin_tfidf = tfidf_vectorizer.fit_transform([' '.join(tokens) for tokens in Dogecoin_text])"
   ]
  },
  {
   "cell_type": "code",
   "execution_count": 11,
   "id": "ca4e86b2",
   "metadata": {},
   "outputs": [
    {
     "name": "stdout",
     "output_type": "stream",
     "text": [
      "Requirement already satisfied: gensim in ./opt/anaconda3/lib/python3.9/site-packages (4.3.0)\n",
      "Requirement already satisfied: matplotlib in ./opt/anaconda3/lib/python3.9/site-packages (3.7.0)\n",
      "Requirement already satisfied: pyLDAvis in ./opt/anaconda3/lib/python3.9/site-packages (3.4.0)\n",
      "Requirement already satisfied: numpy>=1.18.5 in ./opt/anaconda3/lib/python3.9/site-packages (from gensim) (1.23.5)\n",
      "Requirement already satisfied: scipy>=1.7.0 in ./opt/anaconda3/lib/python3.9/site-packages (from gensim) (1.10.0)\n",
      "Requirement already satisfied: smart-open>=1.8.1 in ./opt/anaconda3/lib/python3.9/site-packages (from gensim) (5.2.1)\n",
      "Requirement already satisfied: FuzzyTM>=0.4.0 in ./opt/anaconda3/lib/python3.9/site-packages (from gensim) (2.0.5)\n",
      "Requirement already satisfied: kiwisolver>=1.0.1 in ./opt/anaconda3/lib/python3.9/site-packages (from matplotlib) (1.4.4)\n",
      "Requirement already satisfied: contourpy>=1.0.1 in ./opt/anaconda3/lib/python3.9/site-packages (from matplotlib) (1.0.5)\n",
      "Requirement already satisfied: packaging>=20.0 in ./opt/anaconda3/lib/python3.9/site-packages (from matplotlib) (22.0)\n",
      "Requirement already satisfied: python-dateutil>=2.7 in ./opt/anaconda3/lib/python3.9/site-packages (from matplotlib) (2.8.2)\n",
      "Requirement already satisfied: fonttools>=4.22.0 in ./opt/anaconda3/lib/python3.9/site-packages (from matplotlib) (4.25.0)\n",
      "Requirement already satisfied: importlib-resources>=3.2.0 in ./opt/anaconda3/lib/python3.9/site-packages (from matplotlib) (5.2.0)\n",
      "Requirement already satisfied: cycler>=0.10 in ./opt/anaconda3/lib/python3.9/site-packages (from matplotlib) (0.11.0)\n",
      "Requirement already satisfied: pillow>=6.2.0 in ./opt/anaconda3/lib/python3.9/site-packages (from matplotlib) (9.4.0)\n",
      "Requirement already satisfied: pyparsing>=2.3.1 in ./opt/anaconda3/lib/python3.9/site-packages (from matplotlib) (3.0.9)\n",
      "Requirement already satisfied: joblib>=1.2.0 in ./opt/anaconda3/lib/python3.9/site-packages (from pyLDAvis) (1.2.0)\n",
      "Requirement already satisfied: scikit-learn>=1.0.0 in ./opt/anaconda3/lib/python3.9/site-packages (from pyLDAvis) (1.2.1)\n",
      "Requirement already satisfied: setuptools in ./opt/anaconda3/lib/python3.9/site-packages (from pyLDAvis) (65.6.3)\n",
      "Requirement already satisfied: funcy in ./opt/anaconda3/lib/python3.9/site-packages (from pyLDAvis) (1.18)\n",
      "Requirement already satisfied: numexpr in ./opt/anaconda3/lib/python3.9/site-packages (from pyLDAvis) (2.8.4)\n",
      "Requirement already satisfied: pandas>=1.3.4 in ./opt/anaconda3/lib/python3.9/site-packages (from pyLDAvis) (1.5.3)\n",
      "Requirement already satisfied: jinja2 in ./opt/anaconda3/lib/python3.9/site-packages (from pyLDAvis) (3.1.2)\n",
      "Requirement already satisfied: pyfume in ./opt/anaconda3/lib/python3.9/site-packages (from FuzzyTM>=0.4.0->gensim) (0.2.25)\n",
      "Requirement already satisfied: zipp>=3.1.0 in ./opt/anaconda3/lib/python3.9/site-packages (from importlib-resources>=3.2.0->matplotlib) (3.11.0)\n",
      "Requirement already satisfied: pytz>=2020.1 in ./opt/anaconda3/lib/python3.9/site-packages (from pandas>=1.3.4->pyLDAvis) (2022.7)\n",
      "Requirement already satisfied: six>=1.5 in ./opt/anaconda3/lib/python3.9/site-packages (from python-dateutil>=2.7->matplotlib) (1.16.0)\n",
      "Requirement already satisfied: threadpoolctl>=2.0.0 in ./opt/anaconda3/lib/python3.9/site-packages (from scikit-learn>=1.0.0->pyLDAvis) (2.2.0)\n",
      "Requirement already satisfied: MarkupSafe>=2.0 in ./opt/anaconda3/lib/python3.9/site-packages (from jinja2->pyLDAvis) (2.1.1)\n",
      "Requirement already satisfied: simpful in ./opt/anaconda3/lib/python3.9/site-packages (from pyfume->FuzzyTM>=0.4.0->gensim) (2.10.0)\n",
      "Requirement already satisfied: fst-pso in ./opt/anaconda3/lib/python3.9/site-packages (from pyfume->FuzzyTM>=0.4.0->gensim) (1.8.1)\n",
      "Requirement already satisfied: miniful in ./opt/anaconda3/lib/python3.9/site-packages (from fst-pso->pyfume->FuzzyTM>=0.4.0->gensim) (0.0.6)\n",
      "Requirement already satisfied: requests in ./opt/anaconda3/lib/python3.9/site-packages (from simpful->pyfume->FuzzyTM>=0.4.0->gensim) (2.28.1)\n",
      "Requirement already satisfied: certifi>=2017.4.17 in ./opt/anaconda3/lib/python3.9/site-packages (from requests->simpful->pyfume->FuzzyTM>=0.4.0->gensim) (2022.12.7)\n",
      "Requirement already satisfied: idna<4,>=2.5 in ./opt/anaconda3/lib/python3.9/site-packages (from requests->simpful->pyfume->FuzzyTM>=0.4.0->gensim) (3.4)\n",
      "Requirement already satisfied: charset-normalizer<3,>=2 in ./opt/anaconda3/lib/python3.9/site-packages (from requests->simpful->pyfume->FuzzyTM>=0.4.0->gensim) (2.0.4)\n",
      "Requirement already satisfied: urllib3<1.27,>=1.21.1 in ./opt/anaconda3/lib/python3.9/site-packages (from requests->simpful->pyfume->FuzzyTM>=0.4.0->gensim) (1.26.14)\n",
      "Note: you may need to restart the kernel to use updated packages.\n"
     ]
    }
   ],
   "source": [
    "pip install gensim matplotlib pyLDAvis"
   ]
  },
  {
   "cell_type": "code",
   "execution_count": 12,
   "id": "c1215867",
   "metadata": {},
   "outputs": [],
   "source": [
    "from gensim.corpora import Dictionary\n",
    "from gensim.models import LdaModel\n",
    "import pyLDAvis.gensim_models as gensimvis\n",
    "import pyLDAvis\n",
    "import matplotlib.pyplot as plt\n",
    "\n",
    "# Assuming you have a list of preprocessed tokens called 'bitcoin_text'\n",
    "# You can replace 'bitcoin_text' with your actual data\n",
    "dictionary = Dictionary([tokens for tokens in Dogecoin_text])\n",
    "corpus = [dictionary.doc2bow(tokens) for tokens in Dogecoin_text]\n",
    "\n",
    "# Perform LDA topic modeling\n",
    "lda_model_Dogecoin = LdaModel(corpus=corpus, id2word=dictionary, num_topics=5, passes=2)"
   ]
  },
  {
   "cell_type": "code",
   "execution_count": 13,
   "id": "49f0a760",
   "metadata": {},
   "outputs": [
    {
     "name": "stdout",
     "output_type": "stream",
     "text": [
      "Coherence Score: 0.3086\n"
     ]
    }
   ],
   "source": [
    "from gensim.models import CoherenceModel\n",
    "\n",
    "coherence_model_lda = CoherenceModel(model=lda_model_Dogecoin, texts=Dogecoin_text, dictionary=dictionary, coherence='c_v')\n",
    "coherence_lda = coherence_model_lda.get_coherence()\n",
    "print(f'Coherence Score: {coherence_lda:.4f}')\n"
   ]
  },
  {
   "cell_type": "code",
   "execution_count": 14,
   "id": "989cb372",
   "metadata": {},
   "outputs": [
    {
     "data": {
      "image/png": "[encoded data removed]",
      "text/plain": [
       "<Figure size 1000x600 with 1 Axes>"
      ]
     },
     "metadata": {},
     "output_type": "display_data"
    }
   ],
   "source": [
    "# Define a range of topic numbers to test\n",
    "topics_range = range(2, 11)\n",
    "coherence_scores = []\n",
    "\n",
    "# Calculate coherence scores for different numbers of topics\n",
    "for num_topics in topics_range:\n",
    "    lda_model = LdaModel(corpus=corpus, id2word=dictionary, num_topics=num_topics, passes=2)\n",
    "    coherence_model = CoherenceModel(model=lda_model, texts=Dogecoin_text, dictionary=dictionary, coherence='c_v')\n",
    "    coherence_score = coherence_model.get_coherence()\n",
    "    coherence_scores.append(coherence_score)\n",
    "\n",
    "# Plot the coherence scores\n",
    "plt.figure(figsize=(10, 6))\n",
    "plt.plot(topics_range, coherence_scores, marker='o', linestyle='-', color='b')\n",
    "plt.title('Coherence Scores for Different Numbers of Topics')\n",
    "plt.xlabel('Number of Topics')\n",
    "plt.ylabel('Coherence Score (C_v)')\n",
    "plt.xticks(topics_range)\n",
    "plt.grid(True)\n",
    "plt.show()\n"
   ]
  },
  {
   "cell_type": "code",
   "execution_count": 15,
   "id": "505dd5cd",
   "metadata": {},
   "outputs": [
    {
     "name": "stdout",
     "output_type": "stream",
     "text": [
      "(0, '0.034*\"dogecoin\" + 0.016*\"http\" + 0.012*\"doge\"')\n",
      "(1, '0.029*\"dogecoin\" + 0.018*\"file\" + 0.017*\"dogecoins\"')\n",
      "(2, '0.038*\"dogecoin\" + 0.033*\"doge\" + 0.021*\"much\"')\n",
      "(3, '0.030*\"dogecoin\" + 0.021*\"http\" + 0.011*\"get\"')\n",
      "(4, '0.039*\"dogecoin\" + 0.023*\"http\" + 0.015*\"gt\"')\n"
     ]
    }
   ],
   "source": [
    "# Print the topics generated by the LDA model\n",
    "topics = lda_model_Dogecoin.print_topics(num_words=3)  # You can adjust the number of words per topic\n",
    "for topic in topics:\n",
    "    print(topic)\n"
   ]
  },
  {
   "cell_type": "markdown",
   "id": "b3b6a668",
   "metadata": {},
   "source": [
    "# Sentiment Analysis"
   ]
  },
  {
   "cell_type": "code",
   "execution_count": 16,
   "id": "bf3b6eb1",
   "metadata": {},
   "outputs": [
    {
     "name": "stderr",
     "output_type": "stream",
     "text": [
      "[nltk_data] Downloading package stopwords to\n",
      "[nltk_data]     /Users/shivanipaunikar/nltk_data...\n",
      "[nltk_data]   Package stopwords is already up-to-date!\n",
      "[nltk_data] Downloading package punkt to\n",
      "[nltk_data]     /Users/shivanipaunikar/nltk_data...\n",
      "[nltk_data]   Package punkt is already up-to-date!\n"
     ]
    }
   ],
   "source": [
    "from textblob import TextBlob\n",
    "\n",
    "Dogecoin_text = Dogecoin_submissions_df['selftext'].dropna().tolist() + Dogecoin_comments_df['body'].dropna().tolist()\n",
    "\n",
    "# Preprocess the text data (if you haven't done this already)\n",
    "nltk.download('stopwords')\n",
    "nltk.download('punkt')\n",
    "stop_words = set(stopwords.words('english'))\n",
    "lemmatizer = WordNetLemmatizer()\n",
    "\n",
    "def preprocess_text(text):\n",
    "    tokens = word_tokenize(text.lower())\n",
    "    tokens = [lemmatizer.lemmatize(token) for token in tokens if token.isalnum()]\n",
    "    tokens = [token for token in tokens if token not in stop_words]\n",
    "    return ' '.join(tokens)  # Join tokens into a single string\n",
    "\n",
    "Dogecoin_text = [preprocess_text(text) for text in Dogecoin_text]"
   ]
  },
  {
   "cell_type": "code",
   "execution_count": 17,
   "id": "9341901d",
   "metadata": {},
   "outputs": [
    {
     "name": "stderr",
     "output_type": "stream",
     "text": [
      "[nltk_data] Downloading package stopwords to\n",
      "[nltk_data]     /Users/shivanipaunikar/nltk_data...\n",
      "[nltk_data]   Package stopwords is already up-to-date!\n",
      "[nltk_data] Downloading package punkt to\n",
      "[nltk_data]     /Users/shivanipaunikar/nltk_data...\n",
      "[nltk_data]   Package punkt is already up-to-date!\n"
     ]
    }
   ],
   "source": [
    "# Example preprocessing using NLTK\n",
    "import nltk\n",
    "from nltk.corpus import stopwords\n",
    "from nltk.tokenize import word_tokenize\n",
    "\n",
    "nltk.download('stopwords')\n",
    "nltk.download('punkt')\n",
    "\n",
    "# Define a function to preprocess text\n",
    "def preprocess_text(text):\n",
    "    # Tokenize the text\n",
    "    tokens = word_tokenize(text)\n",
    "    \n",
    "    # Remove stopwords\n",
    "    tokens = [word for word in tokens if word.lower() not in stopwords.words('english')]\n",
    "    \n",
    "    # Other text cleaning steps (e.g., removing punctuation, stemming) can be added\n",
    "    \n",
    "    return \" \".join(tokens)  # Convert tokens back to text\n",
    "\n",
    "# Apply preprocessing to your text data\n",
    "Dogecoin_comments_df['cleaned_text'] = Dogecoin_comments_df['body'].apply(preprocess_text)\n"
   ]
  },
  {
   "cell_type": "code",
   "execution_count": 18,
   "id": "3f83a877",
   "metadata": {},
   "outputs": [],
   "source": [
    "# Define a function to get sentiment\n",
    "def get_sentiment(text):\n",
    "    analysis = TextBlob(text)\n",
    "    polarity = analysis.sentiment.polarity\n",
    "\n",
    "    if polarity > 0.1:\n",
    "        return \"positive\"\n",
    "    elif polarity < -0.1:\n",
    "        return \"negative\"\n",
    "    else:\n",
    "        return \"neutral\""
   ]
  },
  {
   "cell_type": "code",
   "execution_count": 19,
   "id": "20a83bbc",
   "metadata": {},
   "outputs": [],
   "source": [
    "# Apply sentiment analysis to your preprocessed text data\n",
    "sentiments = [get_sentiment(text) for text in Dogecoin_text]\n"
   ]
  },
  {
   "cell_type": "code",
   "execution_count": 20,
   "id": "39bbf8db",
   "metadata": {},
   "outputs": [],
   "source": [
    "# Create a DataFrame to store sentiments (optional)\n",
    "sentiments_df = pd.DataFrame({'Sentiment': sentiments})"
   ]
  },
  {
   "cell_type": "code",
   "execution_count": 21,
   "id": "6a9f9002",
   "metadata": {},
   "outputs": [
    {
     "name": "stdout",
     "output_type": "stream",
     "text": [
      "neutral     3576\n",
      "positive    3502\n",
      "negative     529\n",
      "Name: Sentiment, dtype: int64\n"
     ]
    }
   ],
   "source": [
    "# Print or analyze the sentiment results as needed\n",
    "print(sentiments_df['Sentiment'].value_counts())  # Display sentiment counts"
   ]
  },
  {
   "cell_type": "code",
   "execution_count": 22,
   "id": "676f5f56",
   "metadata": {},
   "outputs": [
    {
     "name": "stdout",
     "output_type": "stream",
     "text": [
      "Comment 1:\n",
      "Text: I just had a great idea to use the power of this quickly growing cryptocurrency to make a charity project. I want to know what causes we should support as a community. \n",
      "\n",
      "Edit.1 I feel like the lack of response is due to people think im scamming them for DOGE.  This is not my purpose I simply wish get people to think more positively about dogecoin. Instead of thinking it as sketchy and possibly illegal.  I want people to hear about dogecoin as both a means to become such wealthy in doge and also an engine of good people doing good things. \n",
      "\n",
      "TO THE MOON\n",
      "Sentiment: positive\n",
      "\n",
      "Comment 2:\n",
      "Text: Will Tip Much to Helpers!\n",
      "Sentiment: positive\n",
      "\n",
      "Comment 3:\n",
      "Text: According to [Coinmarketcap](http://coinmarketcap.com/), Dogecoin is now #11 among crypto-currencies. And up to 300-400% in the last 24 hours according to [Digital Trends](http://www.digitaltrends.com/cool-tech/dogecoin-price-value-jump-bitcoin/#ixzz2nxlgSYRK). We can truly reach for the moon ! Do it for the money. Do it for the lulz.\n",
      "Sentiment: neutral\n",
      "\n",
      "Comment 4:\n",
      "Text: Only threw like 10k at it, but it's been 25 minutes and my patience is getting a little thin. I wanna get trading! Has anyone else had any success? \n",
      "Sentiment: negative\n",
      "\n",
      "Comment 5:\n",
      "Text: Because it sure didn't go into my account...\n",
      "Sentiment: positive\n",
      "\n",
      "Submission 1:\n",
      "Text: I left my computer on all night mining and came back to 50 doges in the morning. Such slow, wow! Using CPU, is that why?\n",
      "Sentiment: neutral\n",
      "\n",
      "Submission 2:\n",
      "Text: It sounds like right now is the time to buy in. I'm new to this. What's a way I can obtain some coins other than mining? \n",
      "Sentiment: positive\n",
      "\n",
      "Submission 3:\n",
      "Text: Or will I never achieve results because other miners will get to the block I'm slowly working on before I finish it?\n",
      "Sentiment: negative\n",
      "\n",
      "Submission 4:\n",
      "Text: Help                    dogecoinpool              such stuck             \n",
      "\n",
      "           hard block                       many hours         \n",
      "\n",
      "\n",
      "      no success                                 900% Est. shares         \n",
      "           \n",
      "                           y miners leave                              such wow\n",
      "\n",
      "\n",
      "NEW NEWS FROM POOL OWNER: SERVER WAS MESSED UP, TONS OF BLOCKS WERE ACTUALLY MINED, GOING TO FIX IT IN TWO HOURS +bonuses for accounts who suffered.\n",
      "\n",
      "EDIT EDIT EDIT: SERVER NOW PAYING OUT! MUCH JOY!\n",
      "Sentiment: positive\n",
      "\n",
      "Submission 5:\n",
      "Text: So here's the goal. I would like to spend one month living on nothing but Dogecoin for my shopping and necessities. I want to prove the value of this currency. I want to prove that it can be done, and I want other people to try this after I've show that it's possible.\n",
      "\n",
      "It's not going to be so easy, however, I have only about 100k Doge in my wallet, and a wife &amp; child. This isn't to be construed as begging, I am by no means a poor Shibe, but donations will be greatly accepted to help this endeavor because 100k isn't going to cut it for a whole family for a month, and I'm not taking stuff out of our account to finance it.\n",
      "\n",
      "If any rich Shibes out there want to help finance this project, it would be greatly appreciated. I will be keeping all of my transactions open and logged for 1 month starting from the beginning so people can see how I've navigated through life using mere Dogecoin for a whole month.\n",
      "\n",
      "If I raise enough funds and interest in this project over the next couple days, I will start on Jan. 1st.\n",
      "\n",
      "Thoughts, ideas, support? Chime in, let me know what you think.\n",
      "\n",
      "PS: I already have a thread up for my first shopping list, excluding the electronics on it because they aren't essentials (neither is the foam finger). http://www.reddit.com/r/dogemarket/comments/1tf17b/wts_doge_for_my_shopping_list/\n",
      "Sentiment: neutral\n",
      "\n"
     ]
    }
   ],
   "source": [
    "# Assuming you have already performed sentiment analysis and stored results in 'sentiments' list\n",
    "# Combine both comments and submissions text into a single list\n",
    "Dogecoin_text = Dogecoin_submissions_df['selftext'].dropna().tolist() + Dogecoin_comments_df['body'].dropna().tolist()\n",
    "\n",
    "\n",
    "# Print the first few comments and submissions with their sentiments\n",
    "for i, (text, sentiment) in enumerate(zip(Dogecoin_text, sentiments)):\n",
    "    if i >= 10:  # Print the first 10 (5 comments + 5 submissions)\n",
    "        break\n",
    "    if i < 5:\n",
    "        print(f\"Comment {i + 1}:\")\n",
    "    else:\n",
    "        print(f\"Submission {i - 4}:\")\n",
    "    print(\"Text:\", text)\n",
    "    print(\"Sentiment:\", sentiment)\n",
    "    print()\n"
   ]
  },
  {
   "cell_type": "code",
   "execution_count": 23,
   "id": "2ab0317b",
   "metadata": {},
   "outputs": [
    {
     "data": {
      "image/png": "[encoded data removed]",
      "text/plain": [
       "<Figure size 800x600 with 1 Axes>"
      ]
     },
     "metadata": {},
     "output_type": "display_data"
    }
   ],
   "source": [
    "import matplotlib.pyplot as plt\n",
    "import pandas as pd\n",
    "\n",
    "# Assuming you have already performed sentiment analysis and have a DataFrame 'sentiments_df'\n",
    "# with a 'Sentiment' column containing sentiment labels (positive, negative, neutral)\n",
    "\n",
    "# Count the occurrences of each sentiment label\n",
    "sentiment_counts = sentiments_df['Sentiment'].value_counts()\n",
    "\n",
    "# Create a bar plot\n",
    "plt.figure(figsize=(8, 6))\n",
    "sentiment_counts.plot(kind='bar', color=['green', 'red', 'blue'], alpha=0.7)\n",
    "plt.title('Sentiment Analysis of Dogecoin ')\n",
    "plt.xlabel('Sentiment')\n",
    "plt.ylabel('Count')\n",
    "\n",
    "# Annotate the bars with counts\n",
    "for i, count in enumerate(sentiment_counts):\n",
    "    plt.text(i, count, str(count), ha='center', va='bottom', fontsize=12)\n",
    "\n",
    "# Show the plot\n",
    "plt.xticks(rotation=0)\n",
    "plt.tight_layout()\n",
    "plt.show()\n"
   ]
  },
  {
   "cell_type": "markdown",
   "id": "7d7afb92",
   "metadata": {},
   "source": [
    "# Emotion Analysis"
   ]
  },
  {
   "cell_type": "code",
   "execution_count": 24,
   "id": "337be3e2",
   "metadata": {},
   "outputs": [
    {
     "name": "stdout",
     "output_type": "stream",
     "text": [
      "Requirement already satisfied: transformers in ./opt/anaconda3/lib/python3.9/site-packages (4.24.0)\n",
      "Requirement already satisfied: torch in ./opt/anaconda3/lib/python3.9/site-packages (1.12.1)\n",
      "Requirement already satisfied: tqdm>=4.27 in ./opt/anaconda3/lib/python3.9/site-packages (from transformers) (4.64.1)\n",
      "Requirement already satisfied: regex!=2019.12.17 in ./opt/anaconda3/lib/python3.9/site-packages (from transformers) (2022.7.9)\n",
      "Requirement already satisfied: tokenizers!=0.11.3,<0.14,>=0.11.1 in ./opt/anaconda3/lib/python3.9/site-packages (from transformers) (0.11.4)\n",
      "Requirement already satisfied: huggingface-hub<1.0,>=0.10.0 in ./opt/anaconda3/lib/python3.9/site-packages (from transformers) (0.10.1)\n",
      "Requirement already satisfied: pyyaml>=5.1 in ./opt/anaconda3/lib/python3.9/site-packages (from transformers) (6.0)\n",
      "Requirement already satisfied: packaging>=20.0 in ./opt/anaconda3/lib/python3.9/site-packages (from transformers) (22.0)\n",
      "Requirement already satisfied: filelock in ./opt/anaconda3/lib/python3.9/site-packages (from transformers) (3.9.0)\n",
      "Requirement already satisfied: requests in ./opt/anaconda3/lib/python3.9/site-packages (from transformers) (2.28.1)\n",
      "Requirement already satisfied: numpy>=1.17 in ./opt/anaconda3/lib/python3.9/site-packages (from transformers) (1.23.5)\n",
      "Requirement already satisfied: typing_extensions in ./opt/anaconda3/lib/python3.9/site-packages (from torch) (4.4.0)\n",
      "Requirement already satisfied: urllib3<1.27,>=1.21.1 in ./opt/anaconda3/lib/python3.9/site-packages (from requests->transformers) (1.26.14)\n",
      "Requirement already satisfied: idna<4,>=2.5 in ./opt/anaconda3/lib/python3.9/site-packages (from requests->transformers) (3.4)\n",
      "Requirement already satisfied: charset-normalizer<3,>=2 in ./opt/anaconda3/lib/python3.9/site-packages (from requests->transformers) (2.0.4)\n",
      "Requirement already satisfied: certifi>=2017.4.17 in ./opt/anaconda3/lib/python3.9/site-packages (from requests->transformers) (2022.12.7)\n",
      "Note: you may need to restart the kernel to use updated packages.\n"
     ]
    }
   ],
   "source": [
    "pip install transformers torch"
   ]
  },
  {
   "cell_type": "code",
   "execution_count": null,
   "id": "7df485cf",
   "metadata": {},
   "outputs": [],
   "source": [
    "from transformers import AutoModelForSequenceClassification, AutoTokenizer\n",
    "import torch\n",
    "\n",
    "# Load the pre-trained emotion classification model and tokenizer\n",
    "model_name = \"michellejieli/emotion_text_classifier\"\n",
    "tokenizer = AutoTokenizer.from_pretrained(model_name)\n",
    "model = AutoModelForSequenceClassification.from_pretrained(model_name)\n",
    "\n",
    "# Combine both comments and submissions text into a single list\n",
    "Dogecoin_text = Dogecoin_submissions_df['selftext'].dropna().tolist() + Dogecoin_comments_df['body'].dropna().tolist()\n"
   ]
  },
  {
   "cell_type": "code",
   "execution_count": null,
   "id": "00d35990",
   "metadata": {},
   "outputs": [],
   "source": [
    "def get_emotion(text):\n",
    "    inputs = tokenizer(text, return_tensors=\"pt\", truncation=True, padding=True)\n",
    "    with torch.no_grad():\n",
    "        logits = model(**inputs).logits\n",
    "    predicted_class = torch.argmax(logits, dim=1).item()\n",
    "    \n",
    "    # Define the emotion labels corresponding to model output\n",
    "    emotion_labels = [\"anger\", \"fear\", \"joy\", \"sadness\", \"surprise\"]\n",
    "    return emotion_labels[predicted_class]"
   ]
  },
  {
   "cell_type": "code",
   "execution_count": null,
   "id": "dc491f93",
   "metadata": {},
   "outputs": [],
   "source": [
    "dogecoin_combined_df['emotion'] = combined_text.apply(get_emotion)"
   ]
  }
 ],
 "metadata": {
  "kernelspec": {
   "display_name": "Python 3 (ipykernel)",
   "language": "python",
   "name": "python3"
  },
  "language_info": {
   "codemirror_mode": {
    "name": "ipython",
    "version": 3
   },
   "file_extension": ".py",
   "mimetype": "text/x-python",
   "name": "python",
   "nbconvert_exporter": "python",
   "pygments_lexer": "ipython3",
   "version": "3.9.16"
  }
 },
 "nbformat": 4,
 "nbformat_minor": 5
}
