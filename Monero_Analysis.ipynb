{
 "cells": [
  {
   "cell_type": "markdown",
   "id": "137f3a41",
   "metadata": {},
   "source": [
    "# Monero Data Analysis "
   ]
  },
  {
   "cell_type": "code",
   "execution_count": 1,
   "id": "b58442ef",
   "metadata": {},
   "outputs": [
    {
     "name": "stdout",
     "output_type": "stream",
     "text": [
      "Processing: /Users/shivanipaunikar/Downloads/Project- crypto/Monero/MC.zst\n",
      "Completed: /Users/shivanipaunikar/Downloads/Project- crypto/Monero/MC.zst -> /Users/shivanipaunikar/Downloads/Project- crypto/output/MC.json\n",
      "Processing: /Users/shivanipaunikar/Downloads/Project- crypto/Monero/MS.zst\n",
      "Completed: /Users/shivanipaunikar/Downloads/Project- crypto/Monero/MS.zst -> /Users/shivanipaunikar/Downloads/Project- crypto/output/MS.json\n",
      "All files processed.\n"
     ]
    }
   ],
   "source": [
    "import zstandard as zstd\n",
    "import shutil\n",
    "import os\n",
    "\n",
    "def decompress_zst(input_file, output_file, max_samples):\n",
    "    with open(input_file, 'rb') as compressed_file:\n",
    "        decomp = zstd.ZstdDecompressor()\n",
    "        with open(output_file, 'wb') as output:\n",
    "            total_samples = 0\n",
    "            for chunk in decomp.read_to_iter(compressed_file):\n",
    "                output.write(chunk)\n",
    "                total_samples += chunk.count(b'\\n')\n",
    "                if total_samples >= max_samples:\n",
    "                    break\n",
    "\n",
    "# List of input files\n",
    "input_files = ['/Users/shivanipaunikar/Downloads/Project- crypto/Monero/MC.zst', '/Users/shivanipaunikar/Downloads/Project- crypto/Monero/MS.zst']\n",
    "\n",
    "# Output directory where decompressed files will be stored\n",
    "output_directory = '/Users/shivanipaunikar/Downloads/Project- crypto/output'\n",
    "\n",
    "# Maximum number of samples you want to use\n",
    "max_samples = 5000\n",
    "\n",
    "# Create the output directory if it doesn't exist\n",
    "os.makedirs(output_directory, exist_ok=True)\n",
    "\n",
    "# Loop through each input file and decompress\n",
    "for input_file in input_files:\n",
    "    # Generate the output file path by removing the .zst extension and adding .json\n",
    "    output_file = os.path.join(output_directory, os.path.splitext(os.path.basename(input_file))[0] + '.json')\n",
    "    \n",
    "    print(f\"Processing: {input_file}\")\n",
    "    \n",
    "    # Decompress the input file, limiting to max_samples, and save it to the output file path\n",
    "    decompress_zst(input_file, output_file, max_samples)\n",
    "    \n",
    "    print(f\"Completed: {input_file} -> {output_file}\")\n",
    "\n",
    "print(\"All files processed.\")\n"
   ]
  },
  {
   "cell_type": "code",
   "execution_count": 3,
   "id": "112c2411",
   "metadata": {},
   "outputs": [
    {
     "name": "stdout",
     "output_type": "stream",
     "text": [
      "Skipping line due to JSON syntax error: {\"downs\":0,\"permalink\":\"/r/Monero/comments/5428y4/who_would_participate_in_a_subreddit_for_buying/\",\"ups\":32,\"name\":\"t3_5428y4\",\"locked\":false,\"link_flair_css_class\":null,\"retrieved_on\":1476443736,\"subreddit\":\"Monero\",\"hide_score\":false,\"secure_media_embed\":{},\"domain\":\"self.Monero\",\"num_comments\":10,\"saved\":false,\"author_flair_css_class\":null,\"id\":\"5428y4\",\"link_flair_text\":null,\"score\":32,\"author\":\"TheKing01\",\"quarantine\":false,\"edited\":1474593179,\"title\":\"Who would participate in a subreddit for buying and selling things for monero, if it where created?\",\"stickied\":false,\"created_utc\":1474592240,\"over_18\":false,\"selftext\":\"In lieu of a decentralized system such Open Bazaar, how about we create a subreddit for buying and selling things for Monero? It would be like craigslist, but for monero, and on reddit.\\n\\nThis would be a regular market, not a dark market.\\n\\nDigital goods, physical goods through the mail, and services if the its a digital service. Physical goods and services can also be done locally, if the buyer and seller is close. Money is a good as well (so you could sell your fiat currency, for example).\\n\\nSince multisig hasn't been integrated into `simplewallet` or any other wallet software that I know of, trust issues will be tricky. We would let each trader set up who they like, but I see a couple of options:\\n\\n- If the buyer trusts the seller, the buyer sends the seller the moneroj, and then the seller sends the good or service.\\n- If the seller trusts the buyer, the seller sends the good or service, and then the buyer sends the moneroj.\\n- For a mixture of the above options, the buyer sends some of the moneroj, and then the seller sends the good or service, and then the buyer sends the rest of the moneroj.\\n- If the buyer and seller don't trust each othe\n",
      "Skipping line due to JSON syntax error: {\"author_flair_css_class\":null,\"archived\":false,\"body\":\"Pedantry: It's precisely a linear improvement!  It removes at most no more than X percent, where X is the part of the transaction that isn't txouts and images. :)\\n\",\"retrieved_on\":\n"
     ]
    }
   ],
   "source": [
    "import pandas as pd\n",
    "import json\n",
    "import os\n",
    "\n",
    "# Define the output directory where the JSON files were decompressed\n",
    "output_directory = '/Users/shivanipaunikar/Downloads/Project- crypto/output'\n",
    "\n",
    "# Function to fix JSON syntax errors\n",
    "def fix_json_syntax(input_file, output_file):\n",
    "    with open(input_file, 'r') as input_json, open(output_file, 'w') as output_json:\n",
    "        for line in input_json:\n",
    "            try:\n",
    "                json_obj = json.loads(line)\n",
    "                corrected_line = json.dumps(json_obj) + '\\n'\n",
    "                output_json.write(corrected_line)\n",
    "            except json.JSONDecodeError as e:\n",
    "                # Handle JSON syntax errors here or simply skip problematic lines\n",
    "                print(f\"Skipping line due to JSON syntax error: {line.strip()}\")\n",
    "                continue\n",
    "\n",
    "# Specify your input and output file paths for fixing 'Bs.json' syntax\n",
    "input_file_path_Ms = os.path.join(output_directory, 'MS.json')\n",
    "output_file_path_Ms = os.path.join(output_directory, 'MS_fixed.json')\n",
    "\n",
    "# Call the function to fix JSON syntax errors in 'Bs.json'\n",
    "fix_json_syntax(input_file_path_Ms, output_file_path_Ms)\n",
    "\n",
    "# Specify your input and output file paths for fixing 'Bc.json' syntax\n",
    "input_file_path_Mc = os.path.join(output_directory, 'MC.json')\n",
    "output_file_path_Mc = os.path.join(output_directory, 'MC_fixed.json')\n",
    "\n",
    "# Call the function to fix JSON syntax errors in 'Bc.json'\n",
    "fix_json_syntax(input_file_path_Mc, output_file_path_Mc)\n",
    "\n",
    "# Define a function to read JSON data line by line\n",
    "def read_json_lines(file_path):\n",
    "    with open(file_path, 'r') as file:\n",
    "        for line in file:\n",
    "            yield json.loads(line)\n",
    "\n",
    "# Use os.path.join to construct file paths\n",
    "submission_data = list(read_json_lines(output_file_path_Ms))  \n",
    "comment_data = list(read_json_lines(output_file_path_Mc))  \n",
    "\n",
    "# Create DataFrames\n",
    "submission_df = pd.DataFrame(submission_data)\n",
    "comment_df = pd.DataFrame(comment_data)\n",
    "\n",
    "# Filter for Bitcoin-related data (you may need to adjust the filter)\n",
    "Monero_submissions = submission_df[submission_df['title'].str.contains('Monero', case=False, na=False)]\n",
    "Monero_comments = comment_df[comment_df['body'].str.contains('Monero', case=False, na=False)]\n",
    "\n",
    "# Sample 5000 observations with replacement\n",
    "Monero_submissions_sample = Monero_submissions.sample(n=5000, replace=True)\n",
    "Monero_comments_sample = Monero_comments.sample(n=5000, replace=True)\n",
    "\n",
    "# Export to CSV\n",
    "Monero_submissions_sample.to_csv('Monero_submissions_sample.csv', index=False)\n",
    "Monero_comments_sample.to_csv('Monero_comments_sample.csv', index=False)\n"
   ]
  },
  {
   "cell_type": "code",
   "execution_count": 4,
   "id": "a97e8984",
   "metadata": {},
   "outputs": [],
   "source": [
    "# Load the CSV files\n",
    "Monero_submissions_df = pd.read_csv('Monero_submissions_sample.csv')\n",
    "Monero_comments_df = pd.read_csv('Monero_comments_sample.csv')\n"
   ]
  },
  {
   "cell_type": "code",
   "execution_count": 5,
   "id": "98013042",
   "metadata": {},
   "outputs": [
    {
     "name": "stdout",
     "output_type": "stream",
     "text": [
      "Columns in Monero_submissions_df:\n",
      "Index(['edited', 'score', 'quarantine', 'stickied', 'from_id', 'from_kind',\n",
      "       'created', 'subreddit_id', 'secure_media', 'url', 'is_self', 'from',\n",
      "       'author', 'link_flair_css_class', 'gilded', 'name', 'archived', 'id',\n",
      "       'author_flair_css_class', 'num_comments', 'over_18', 'saved', 'ups',\n",
      "       'retrieved_on', 'selftext', 'media', 'link_flair_text', 'permalink',\n",
      "       'secure_media_embed', 'title', 'thumbnail', 'downs', 'distinguished',\n",
      "       'hide_score', 'domain', 'author_flair_text', 'created_utc', 'subreddit',\n",
      "       'media_embed', 'preview', 'post_hint', 'locked', 'contest_mode'],\n",
      "      dtype='object')\n",
      "Sample data in Monero_submissions_df:\n",
      "  edited  score  quarantine  stickied  from_id  from_kind       created  \\\n",
      "0  False      2       False     False      NaN        NaN           NaN   \n",
      "1  False     23       False     False      NaN        NaN           NaN   \n",
      "2  False      1       False     False      NaN        NaN           NaN   \n",
      "3  False      3       False     False      NaN        NaN  1.433350e+09   \n",
      "4  False     20       False     False      NaN        NaN           NaN   \n",
      "\n",
      "  subreddit_id                                       secure_media  \\\n",
      "0     t5_31hbr                                                NaN   \n",
      "1     t5_31hbr  {'oembed': {'provider_url': 'http://imgur.com'...   \n",
      "2     t5_31hbr                                                NaN   \n",
      "3     t5_31hbr                                                NaN   \n",
      "4     t5_31hbr                                                NaN   \n",
      "\n",
      "                                                 url  ...  hide_score  \\\n",
      "0  https://www.reddit.com/r/Monero/comments/4yvc3...  ...       False   \n",
      "1                           http://imgur.com/a/82ES2  ...       False   \n",
      "2  https://www.thestranger.com/slog/2016/03/30/23...  ...       False   \n",
      "3  http://www.reddit.com/r/Monero/comments/38dtla...  ...       False   \n",
      "4                     http://i.imgur.com/GrElBy2.png  ...       False   \n",
      "\n",
      "            domain author_flair_text  created_utc  subreddit  \\\n",
      "0      self.Monero               NaN   1471792825     Monero   \n",
      "1        imgur.com               NaN   1467672486     Monero   \n",
      "2  thestranger.com               NaN   1460340145     Monero   \n",
      "3      self.Monero               NaN   1433346643     Monero   \n",
      "4      i.imgur.com               NaN   1456017321     Monero   \n",
      "\n",
      "                                         media_embed  \\\n",
      "0                                                 {}   \n",
      "1  {'content': '&lt;iframe class=\"embedly-embed\" ...   \n",
      "2                                                 {}   \n",
      "3                                                 {}   \n",
      "4                                                 {}   \n",
      "\n",
      "                                             preview post_hint locked  \\\n",
      "0                                                NaN       NaN  False   \n",
      "1  {'images': [{'source': {'width': 715, 'height'...      link  False   \n",
      "2                                                NaN       NaN  False   \n",
      "3  {'images': [{'variants': {}, 'resolutions': [{...      self    NaN   \n",
      "4  {'images': [{'id': 'tZyp0p8rwLrBQfBikkod8eSvFN...     image  False   \n",
      "\n",
      "   contest_mode  \n",
      "0           NaN  \n",
      "1           NaN  \n",
      "2           NaN  \n",
      "3           NaN  \n",
      "4           NaN  \n",
      "\n",
      "[5 rows x 43 columns]\n",
      "Columns in Monero_comments_df:\n",
      "Index(['retrieved_on', 'score_hidden', 'ups', 'controversiality',\n",
      "       'created_utc', 'id', 'gilded', 'archived', 'author', 'link_id',\n",
      "       'subreddit', 'downs', 'author_flair_text', 'parent_id', 'body',\n",
      "       'removal_reason', 'score', 'author_flair_css_class', 'name',\n",
      "       'subreddit_id', 'distinguished', 'edited', 'report_reasons', 'likes',\n",
      "       'replies', 'num_reports', 'mod_reports', 'created', 'banned_by',\n",
      "       'body_html', 'user_reports', 'saved', 'approved_by'],\n",
      "      dtype='object')\n",
      "Sample data in Monero_comments_df:\n",
      "   retrieved_on  score_hidden  ups  controversiality  created_utc       id  \\\n",
      "0  1.434956e+09         False    0                 0   1406639420  cjay3ly   \n",
      "1  1.434332e+09         False    1                 0   1403308221  cicxb7x   \n",
      "2  1.433246e+09         False    3                 0   1432505882  crjp8u5   \n",
      "3  1.424698e+09         False    2                 0   1424452869  cormiw9   \n",
      "4  1.433228e+09         False    3                 0   1432408087  crin42z   \n",
      "\n",
      "   gilded  archived      author    link_id  ... likes  replies num_reports  \\\n",
      "0       0      True   Alcaeus11  t3_2bohkz  ...   NaN      NaN         NaN   \n",
      "1       0      True   Choicecut  t3_288lo1  ...   NaN      NaN         NaN   \n",
      "2       0     False       Bytas  t3_370jc1  ...   NaN      NaN         NaN   \n",
      "3       0     False  Kawisled80  t3_2wbgoe  ...   NaN      NaN         NaN   \n",
      "4       0     False   kazuki_49  t3_370jc1  ...   NaN      NaN         NaN   \n",
      "\n",
      "  mod_reports created  banned_by  body_html user_reports saved approved_by  \n",
      "0         NaN     NaN        NaN        NaN          NaN   NaN         NaN  \n",
      "1         NaN     NaN        NaN        NaN          NaN   NaN         NaN  \n",
      "2         NaN     NaN        NaN        NaN          NaN   NaN         NaN  \n",
      "3         NaN     NaN        NaN        NaN          NaN   NaN         NaN  \n",
      "4         NaN     NaN        NaN        NaN          NaN   NaN         NaN  \n",
      "\n",
      "[5 rows x 33 columns]\n"
     ]
    }
   ],
   "source": [
    "# Display the columns of the DataFrame\n",
    "print(\"Columns in Monero_submissions_df:\")\n",
    "print(Monero_submissions_df.columns)\n",
    "\n",
    "# Display a sample of the DataFrame\n",
    "print(\"Sample data in Monero_submissions_df:\")\n",
    "print(Monero_submissions_df.head())\n",
    "\n",
    "# Repeat the same for Monero_comments_df if needed\n",
    "print(\"Columns in Monero_comments_df:\")\n",
    "print(Monero_comments_df.columns)\n",
    "\n",
    "print(\"Sample data in Monero_comments_df:\")\n",
    "print(Monero_comments_df.head())\n"
   ]
  },
  {
   "cell_type": "code",
   "execution_count": 6,
   "id": "ca78fc2d",
   "metadata": {},
   "outputs": [
    {
     "name": "stdout",
     "output_type": "stream",
     "text": [
      "Range of dates available in Monero_submissions_df: (Timestamp('2014-04-25 02:25:38'), Timestamp('2016-09-23 00:44:27'))\n",
      "Range of dates available in Monero_comments_df: (Timestamp('2014-04-29 20:54:23'), Timestamp('2015-06-04 01:04:04'))\n",
      "\n",
      "Number of posts per day in Monero_submissions_df:\n",
      "created_utc\n",
      "2014-04-25     1\n",
      "2014-05-16     3\n",
      "2014-05-17     4\n",
      "2014-05-18     3\n",
      "2014-05-19     1\n",
      "              ..\n",
      "2016-09-19    18\n",
      "2016-09-20    41\n",
      "2016-09-21    24\n",
      "2016-09-22    39\n",
      "2016-09-23     4\n",
      "Length: 624, dtype: int64\n",
      "\n",
      "Number of comments per day in Monero_comments_df:\n",
      "created_utc\n",
      "2014-04-29     4\n",
      "2014-05-13    38\n",
      "2014-05-14    34\n",
      "2014-05-15    25\n",
      "2014-05-16    47\n",
      "              ..\n",
      "2015-05-31    12\n",
      "2015-06-01    51\n",
      "2015-06-02    27\n",
      "2015-06-03    18\n",
      "2015-06-04    10\n",
      "Length: 281, dtype: int64\n",
      "\n",
      "Number of unique authors per day in Monero_submissions_df:\n",
      "created_utc\n",
      "2014-04-25     1\n",
      "2014-05-16     1\n",
      "2014-05-17     2\n",
      "2014-05-18     1\n",
      "2014-05-19     1\n",
      "              ..\n",
      "2016-09-19     8\n",
      "2016-09-20    15\n",
      "2016-09-21     9\n",
      "2016-09-22    12\n",
      "2016-09-23     2\n",
      "Name: author, Length: 624, dtype: int64\n"
     ]
    }
   ],
   "source": [
    "import pandas as pd\n",
    "\n",
    "# Load the data into DataFrames (assuming you already have them loaded)\n",
    "Monero_submissions_df = pd.read_csv('Monero_submissions_sample.csv')\n",
    "Monero_comments_df = pd.read_csv('Monero_comments_sample.csv')\n",
    "\n",
    "# Convert 'created_utc' columns to datetime objects\n",
    "Monero_submissions_df['created_utc'] = pd.to_datetime(Monero_submissions_df['created_utc'], unit='s')\n",
    "Monero_comments_df['created_utc'] = pd.to_datetime(Monero_comments_df['created_utc'], unit='s')\n",
    "\n",
    "# Calculate the range of dates available\n",
    "date_range_submissions = Monero_submissions_df['created_utc'].min(), Monero_submissions_df['created_utc'].max()\n",
    "date_range_comments = Monero_comments_df['created_utc'].min(), Monero_comments_df['created_utc'].max()\n",
    "\n",
    "print(\"Range of dates available in Monero_submissions_df:\", date_range_submissions)\n",
    "print(\"Range of dates available in Monero_comments_df:\", date_range_comments)\n",
    "\n",
    "# Calculate the number of posts, comments, and authors for each day\n",
    "posts_per_day_submissions = Monero_submissions_df.groupby(Monero_submissions_df['created_utc'].dt.date).size()\n",
    "comments_per_day = Monero_comments_df.groupby(Monero_comments_df['created_utc'].dt.date).size()\n",
    "unique_authors_per_day_submissions = Monero_submissions_df.groupby(Monero_submissions_df['created_utc'].dt.date)['author'].nunique()\n",
    "\n",
    "# Display the results\n",
    "print(\"\\nNumber of posts per day in Monero_submissions_df:\")\n",
    "print(posts_per_day_submissions)\n",
    "print(\"\\nNumber of comments per day in Monero_comments_df:\")\n",
    "print(comments_per_day)\n",
    "print(\"\\nNumber of unique authors per day in Monero_submissions_df:\")\n",
    "print(unique_authors_per_day_submissions)\n"
   ]
  },
  {
   "cell_type": "markdown",
   "id": "3e2a145b",
   "metadata": {},
   "source": [
    "# Topic Modeling"
   ]
  },
  {
   "cell_type": "code",
   "execution_count": 7,
   "id": "4de7be4d",
   "metadata": {},
   "outputs": [],
   "source": [
    "import pandas as pd\n",
    "import numpy as np\n",
    "import nltk\n",
    "from nltk.corpus import stopwords\n",
    "from nltk.tokenize import word_tokenize\n",
    "from nltk.stem import WordNetLemmatizer\n",
    "from sklearn.feature_extraction.text import TfidfVectorizer\n",
    "from gensim import models\n",
    "import gensim.corpora as corpora\n",
    "import gensim"
   ]
  },
  {
   "cell_type": "code",
   "execution_count": 8,
   "id": "5118fbe1",
   "metadata": {},
   "outputs": [],
   "source": [
    "# Load the data into DataFrames (assuming you already have them loaded)\n",
    "Monero_submissions_df = pd.read_csv('Monero_submissions_sample.csv')\n",
    "Monero_comments_df = pd.read_csv('Monero_comments_sample.csv')\n",
    "\n",
    "# Convert 'created_utc' columns to datetime objects\n",
    "Monero_submissions_df['created_utc'] = pd.to_datetime(Monero_submissions_df['created_utc'], unit='s')\n",
    "Monero_comments_df['created_utc'] = pd.to_datetime(Monero_comments_df['created_utc'], unit='s')\n",
    "\n",
    "# Combine comments and submissions text\n",
    "Monero_text = Monero_submissions_df['selftext'].dropna().tolist() + Monero_comments_df['body'].dropna().tolist()\n"
   ]
  },
  {
   "cell_type": "code",
   "execution_count": 9,
   "id": "70fb7aad",
   "metadata": {},
   "outputs": [
    {
     "name": "stderr",
     "output_type": "stream",
     "text": [
      "[nltk_data] Downloading package stopwords to\n",
      "[nltk_data]     /Users/shivanipaunikar/nltk_data...\n",
      "[nltk_data]   Package stopwords is already up-to-date!\n",
      "[nltk_data] Downloading package punkt to\n",
      "[nltk_data]     /Users/shivanipaunikar/nltk_data...\n",
      "[nltk_data]   Package punkt is already up-to-date!\n"
     ]
    }
   ],
   "source": [
    "# Text preprocessing\n",
    "nltk.download('stopwords')\n",
    "nltk.download('punkt')\n",
    "stop_words = set(stopwords.words('english'))\n",
    "lemmatizer = WordNetLemmatizer()\n",
    "\n",
    "def preprocess_text(text):\n",
    "    tokens = word_tokenize(text.lower())\n",
    "    tokens = [lemmatizer.lemmatize(token) for token in tokens if token.isalnum()]\n",
    "    tokens = [token for token in tokens if token not in stop_words]\n",
    "    return tokens\n",
    "\n",
    "Monero_text = [preprocess_text(text) for text in Monero_text]\n"
   ]
  },
  {
   "cell_type": "code",
   "execution_count": 10,
   "id": "9bff0db9",
   "metadata": {},
   "outputs": [],
   "source": [
    "# Create a TF-IDF vectorizer\n",
    "tfidf_vectorizer = TfidfVectorizer(max_df=0.95, min_df=2, max_features=1000)"
   ]
  },
  {
   "cell_type": "code",
   "execution_count": 12,
   "id": "852fde9d",
   "metadata": {},
   "outputs": [],
   "source": [
    "# Apply TF-IDF vectorization\n",
    "Litecoin_tfidf = tfidf_vectorizer.fit_transform([' '.join(tokens) for tokens in Monero_text])"
   ]
  },
  {
   "cell_type": "code",
   "execution_count": 13,
   "id": "1079a5ee",
   "metadata": {},
   "outputs": [
    {
     "name": "stdout",
     "output_type": "stream",
     "text": [
      "Requirement already satisfied: gensim in ./opt/anaconda3/lib/python3.9/site-packages (4.3.0)\n",
      "Requirement already satisfied: matplotlib in ./opt/anaconda3/lib/python3.9/site-packages (3.7.0)\n",
      "Requirement already satisfied: pyLDAvis in ./opt/anaconda3/lib/python3.9/site-packages (3.4.0)\n",
      "Requirement already satisfied: scipy>=1.7.0 in ./opt/anaconda3/lib/python3.9/site-packages (from gensim) (1.10.0)\n",
      "Requirement already satisfied: numpy>=1.18.5 in ./opt/anaconda3/lib/python3.9/site-packages (from gensim) (1.23.5)\n",
      "Requirement already satisfied: smart-open>=1.8.1 in ./opt/anaconda3/lib/python3.9/site-packages (from gensim) (5.2.1)\n",
      "Requirement already satisfied: FuzzyTM>=0.4.0 in ./opt/anaconda3/lib/python3.9/site-packages (from gensim) (2.0.5)\n",
      "Requirement already satisfied: pillow>=6.2.0 in ./opt/anaconda3/lib/python3.9/site-packages (from matplotlib) (9.4.0)\n",
      "Requirement already satisfied: contourpy>=1.0.1 in ./opt/anaconda3/lib/python3.9/site-packages (from matplotlib) (1.0.5)\n",
      "Requirement already satisfied: kiwisolver>=1.0.1 in ./opt/anaconda3/lib/python3.9/site-packages (from matplotlib) (1.4.4)\n",
      "Requirement already satisfied: importlib-resources>=3.2.0 in ./opt/anaconda3/lib/python3.9/site-packages (from matplotlib) (5.2.0)\n",
      "Requirement already satisfied: cycler>=0.10 in ./opt/anaconda3/lib/python3.9/site-packages (from matplotlib) (0.11.0)\n",
      "Requirement already satisfied: pyparsing>=2.3.1 in ./opt/anaconda3/lib/python3.9/site-packages (from matplotlib) (3.0.9)\n",
      "Requirement already satisfied: packaging>=20.0 in ./opt/anaconda3/lib/python3.9/site-packages (from matplotlib) (22.0)\n",
      "Requirement already satisfied: python-dateutil>=2.7 in ./opt/anaconda3/lib/python3.9/site-packages (from matplotlib) (2.8.2)\n",
      "Requirement already satisfied: fonttools>=4.22.0 in ./opt/anaconda3/lib/python3.9/site-packages (from matplotlib) (4.25.0)\n",
      "Requirement already satisfied: joblib>=1.2.0 in ./opt/anaconda3/lib/python3.9/site-packages (from pyLDAvis) (1.2.0)\n",
      "Requirement already satisfied: funcy in ./opt/anaconda3/lib/python3.9/site-packages (from pyLDAvis) (1.18)\n",
      "Requirement already satisfied: jinja2 in ./opt/anaconda3/lib/python3.9/site-packages (from pyLDAvis) (3.1.2)\n",
      "Requirement already satisfied: setuptools in ./opt/anaconda3/lib/python3.9/site-packages (from pyLDAvis) (65.6.3)\n",
      "Requirement already satisfied: scikit-learn>=1.0.0 in ./opt/anaconda3/lib/python3.9/site-packages (from pyLDAvis) (1.2.1)\n",
      "Requirement already satisfied: pandas>=1.3.4 in ./opt/anaconda3/lib/python3.9/site-packages (from pyLDAvis) (1.5.3)\n",
      "Requirement already satisfied: numexpr in ./opt/anaconda3/lib/python3.9/site-packages (from pyLDAvis) (2.8.4)\n",
      "Requirement already satisfied: pyfume in ./opt/anaconda3/lib/python3.9/site-packages (from FuzzyTM>=0.4.0->gensim) (0.2.25)\n",
      "Requirement already satisfied: zipp>=3.1.0 in ./opt/anaconda3/lib/python3.9/site-packages (from importlib-resources>=3.2.0->matplotlib) (3.11.0)\n",
      "Requirement already satisfied: pytz>=2020.1 in ./opt/anaconda3/lib/python3.9/site-packages (from pandas>=1.3.4->pyLDAvis) (2022.7)\n",
      "Requirement already satisfied: six>=1.5 in ./opt/anaconda3/lib/python3.9/site-packages (from python-dateutil>=2.7->matplotlib) (1.16.0)\n",
      "Requirement already satisfied: threadpoolctl>=2.0.0 in ./opt/anaconda3/lib/python3.9/site-packages (from scikit-learn>=1.0.0->pyLDAvis) (2.2.0)\n",
      "Requirement already satisfied: MarkupSafe>=2.0 in ./opt/anaconda3/lib/python3.9/site-packages (from jinja2->pyLDAvis) (2.1.1)\n",
      "Requirement already satisfied: fst-pso in ./opt/anaconda3/lib/python3.9/site-packages (from pyfume->FuzzyTM>=0.4.0->gensim) (1.8.1)\n",
      "Requirement already satisfied: simpful in ./opt/anaconda3/lib/python3.9/site-packages (from pyfume->FuzzyTM>=0.4.0->gensim) (2.10.0)\n",
      "Requirement already satisfied: miniful in ./opt/anaconda3/lib/python3.9/site-packages (from fst-pso->pyfume->FuzzyTM>=0.4.0->gensim) (0.0.6)\n",
      "Requirement already satisfied: requests in ./opt/anaconda3/lib/python3.9/site-packages (from simpful->pyfume->FuzzyTM>=0.4.0->gensim) (2.28.1)\n",
      "Requirement already satisfied: idna<4,>=2.5 in ./opt/anaconda3/lib/python3.9/site-packages (from requests->simpful->pyfume->FuzzyTM>=0.4.0->gensim) (3.4)\n",
      "Requirement already satisfied: certifi>=2017.4.17 in ./opt/anaconda3/lib/python3.9/site-packages (from requests->simpful->pyfume->FuzzyTM>=0.4.0->gensim) (2022.12.7)\n",
      "Requirement already satisfied: charset-normalizer<3,>=2 in ./opt/anaconda3/lib/python3.9/site-packages (from requests->simpful->pyfume->FuzzyTM>=0.4.0->gensim) (2.0.4)\n",
      "Requirement already satisfied: urllib3<1.27,>=1.21.1 in ./opt/anaconda3/lib/python3.9/site-packages (from requests->simpful->pyfume->FuzzyTM>=0.4.0->gensim) (1.26.14)\n",
      "Note: you may need to restart the kernel to use updated packages.\n"
     ]
    }
   ],
   "source": [
    "pip install gensim matplotlib pyLDAvis"
   ]
  },
  {
   "cell_type": "code",
   "execution_count": 14,
   "id": "325d1167",
   "metadata": {},
   "outputs": [],
   "source": [
    "from gensim.corpora import Dictionary\n",
    "from gensim.models import LdaModel\n",
    "import pyLDAvis.gensim_models as gensimvis\n",
    "import pyLDAvis\n",
    "import matplotlib.pyplot as plt\n",
    "\n",
    "# Assuming you have a list of preprocessed tokens called 'bitcoin_text'\n",
    "# You can replace 'bitcoin_text' with your actual data\n",
    "dictionary = Dictionary([tokens for tokens in Monero_text])\n",
    "corpus = [dictionary.doc2bow(tokens) for tokens in Monero_text]\n",
    "\n",
    "# Perform LDA topic modeling\n",
    "lda_model_Monero = LdaModel(corpus=corpus, id2word=dictionary, num_topics=5, passes=2)\n"
   ]
  },
  {
   "cell_type": "code",
   "execution_count": 16,
   "id": "c70a1aac",
   "metadata": {},
   "outputs": [
    {
     "name": "stdout",
     "output_type": "stream",
     "text": [
      "Coherence Score: 0.2993\n"
     ]
    }
   ],
   "source": [
    "from gensim.models import CoherenceModel\n",
    "\n",
    "coherence_model_lda = CoherenceModel(model=lda_model_Monero, texts=Monero_text, dictionary=dictionary, coherence='c_v')\n",
    "coherence_lda = coherence_model_lda.get_coherence()\n",
    "print(f'Coherence Score: {coherence_lda:.4f}')\n"
   ]
  },
  {
   "cell_type": "code",
   "execution_count": 17,
   "id": "0ee472d2",
   "metadata": {},
   "outputs": [
    {
     "data": {
      "image/png": "[encoded data removed]",
      "text/plain": [
       "<Figure size 1000x600 with 1 Axes>"
      ]
     },
     "metadata": {},
     "output_type": "display_data"
    }
   ],
   "source": [
    "# Define a range of topic numbers to test\n",
    "topics_range = range(2, 11)\n",
    "coherence_scores = []\n",
    "\n",
    "# Calculate coherence scores for different numbers of topics\n",
    "for num_topics in topics_range:\n",
    "    lda_model = LdaModel(corpus=corpus, id2word=dictionary, num_topics=num_topics, passes=2)\n",
    "    coherence_model = CoherenceModel(model=lda_model, texts=Monero_text, dictionary=dictionary, coherence='c_v')\n",
    "    coherence_score = coherence_model.get_coherence()\n",
    "    coherence_scores.append(coherence_score)\n",
    "\n",
    "# Plot the coherence scores\n",
    "plt.figure(figsize=(10, 6))\n",
    "plt.plot(topics_range, coherence_scores, marker='o', linestyle='-', color='b')\n",
    "plt.title('Coherence Scores for Different Numbers of Topics')\n",
    "plt.xlabel('Number of Topics')\n",
    "plt.ylabel('Coherence Score (C_v)')\n",
    "plt.xticks(topics_range)\n",
    "plt.grid(True)\n",
    "plt.show()\n"
   ]
  },
  {
   "cell_type": "code",
   "execution_count": 18,
   "id": "47e08b32",
   "metadata": {},
   "outputs": [
    {
     "name": "stdout",
     "output_type": "stream",
     "text": [
      "(0, '0.039*\"gt\" + 0.027*\"monero\" + 0.014*\"lt\" + 0.009*\"wa\" + 0.009*\"bitcoin\"')\n",
      "(1, '0.033*\"monero\" + 0.012*\"address\" + 0.011*\"wallet\" + 0.011*\"coin\" + 0.010*\"bitcoin\"')\n",
      "(2, '0.019*\"monero\" + 0.011*\"http\" + 0.010*\"wa\" + 0.006*\"bitcoin\" + 0.005*\"would\"')\n",
      "(3, '0.022*\"monero\" + 0.008*\"http\" + 0.007*\"wa\" + 0.007*\"work\" + 0.007*\"ha\"')\n",
      "(4, '0.045*\"http\" + 0.026*\"monero\" + 0.013*\"bitcoin\" + 0.009*\"maam\" + 0.008*\"amp\"')\n"
     ]
    }
   ],
   "source": [
    "# Print the topics generated by the LDA model\n",
    "topics = lda_model_Monero.print_topics(num_words=5)  # You can adjust the number of words per topic\n",
    "for topic in topics:\n",
    "    print(topic)\n"
   ]
  },
  {
   "cell_type": "markdown",
   "id": "a58c4e99",
   "metadata": {},
   "source": [
    "# Sentiment Analysis"
   ]
  },
  {
   "cell_type": "code",
   "execution_count": 19,
   "id": "620ea204",
   "metadata": {},
   "outputs": [
    {
     "name": "stderr",
     "output_type": "stream",
     "text": [
      "[nltk_data] Downloading package stopwords to\n",
      "[nltk_data]     /Users/shivanipaunikar/nltk_data...\n",
      "[nltk_data]   Package stopwords is already up-to-date!\n",
      "[nltk_data] Downloading package punkt to\n",
      "[nltk_data]     /Users/shivanipaunikar/nltk_data...\n",
      "[nltk_data]   Package punkt is already up-to-date!\n"
     ]
    }
   ],
   "source": [
    "from textblob import TextBlob\n",
    "\n",
    "# Combine Ethereum submissions and comments text into a single list\n",
    "Monero_text = Monero_submissions_df['selftext'].dropna().tolist() + Monero_comments_df['body'].dropna().tolist()\n",
    "\n",
    "# Preprocess the text data (if you haven't done this already)\n",
    "nltk.download('stopwords')\n",
    "nltk.download('punkt')\n",
    "stop_words = set(stopwords.words('english'))\n",
    "lemmatizer = WordNetLemmatizer()\n",
    "\n",
    "def preprocess_text(text):\n",
    "    tokens = word_tokenize(text.lower())\n",
    "    tokens = [lemmatizer.lemmatize(token) for token in tokens if token.isalnum()]\n",
    "    tokens = [token for token in tokens if token not in stop_words]\n",
    "    return ' '.join(tokens)  # Join tokens into a single string\n",
    "\n",
    "Monero_text = [preprocess_text(text) for text in Monero_text]"
   ]
  },
  {
   "cell_type": "code",
   "execution_count": 20,
   "id": "0928e4d0",
   "metadata": {},
   "outputs": [
    {
     "name": "stderr",
     "output_type": "stream",
     "text": [
      "[nltk_data] Downloading package stopwords to\n",
      "[nltk_data]     /Users/shivanipaunikar/nltk_data...\n",
      "[nltk_data]   Package stopwords is already up-to-date!\n",
      "[nltk_data] Downloading package punkt to\n",
      "[nltk_data]     /Users/shivanipaunikar/nltk_data...\n",
      "[nltk_data]   Package punkt is already up-to-date!\n"
     ]
    }
   ],
   "source": [
    "# Example preprocessing using NLTK\n",
    "import nltk\n",
    "from nltk.corpus import stopwords\n",
    "from nltk.tokenize import word_tokenize\n",
    "\n",
    "nltk.download('stopwords')\n",
    "nltk.download('punkt')\n",
    "\n",
    "# Define a function to preprocess text\n",
    "def preprocess_text(text):\n",
    "    # Tokenize the text\n",
    "    tokens = word_tokenize(text)\n",
    "    \n",
    "    # Remove stopwords\n",
    "    tokens = [word for word in tokens if word.lower() not in stopwords.words('english')]\n",
    "    \n",
    "    # Other text cleaning steps (e.g., removing punctuation, stemming) can be added\n",
    "    \n",
    "    return \" \".join(tokens)  # Convert tokens back to text\n",
    "\n",
    "# Apply preprocessing to your text data\n",
    "Monero_comments_df['cleaned_text'] = Monero_comments_df['body'].apply(preprocess_text)\n"
   ]
  },
  {
   "cell_type": "code",
   "execution_count": 21,
   "id": "53f5b519",
   "metadata": {},
   "outputs": [],
   "source": [
    "# Define a function to get sentiment\n",
    "def get_sentiment(text):\n",
    "    analysis = TextBlob(text)\n",
    "    polarity = analysis.sentiment.polarity\n",
    "\n",
    "    if polarity > 0.1:\n",
    "        return \"positive\"\n",
    "    elif polarity < -0.1:\n",
    "        return \"negative\"\n",
    "    else:\n",
    "        return \"neutral\""
   ]
  },
  {
   "cell_type": "code",
   "execution_count": 22,
   "id": "b8d74233",
   "metadata": {},
   "outputs": [],
   "source": [
    "# Apply sentiment analysis to your preprocessed text data\n",
    "sentiments = [get_sentiment(text) for text in Monero_text]\n"
   ]
  },
  {
   "cell_type": "code",
   "execution_count": 23,
   "id": "f23ce9a1",
   "metadata": {},
   "outputs": [],
   "source": [
    "# Create a DataFrame to store sentiments (optional)\n",
    "sentiments_df = pd.DataFrame({'Sentiment': sentiments})"
   ]
  },
  {
   "cell_type": "code",
   "execution_count": 24,
   "id": "49446e1f",
   "metadata": {},
   "outputs": [
    {
     "name": "stdout",
     "output_type": "stream",
     "text": [
      "neutral     3701\n",
      "positive    3580\n",
      "negative     540\n",
      "Name: Sentiment, dtype: int64\n"
     ]
    }
   ],
   "source": [
    "# Print or analyze the sentiment results as needed\n",
    "print(sentiments_df['Sentiment'].value_counts())  # Display sentiment counts"
   ]
  },
  {
   "cell_type": "code",
   "execution_count": 25,
   "id": "37683d25",
   "metadata": {},
   "outputs": [
    {
     "name": "stdout",
     "output_type": "stream",
     "text": [
      "Comment 1:\n",
      "Text: [deleted]\n",
      "Sentiment: neutral\n",
      "\n",
      "Comment 2:\n",
      "Text: [deleted]\n",
      "Sentiment: neutral\n",
      "\n",
      "Comment 3:\n",
      "Text: The Borromean Rings thread - [bitcoin](http://www.reddit.com/r/Bitcoin/comments/386vh0/borromean_ring_signatures_new_research_by_greg/)/[Wiki](http://en.wikipedia.org/wiki/Borromean_rings) - prompted this idea stream yesterday &amp; today, 1+1+1. \n",
      "\n",
      "Using a Mixin 3 is said to sufficiently obfuscate the blueprint of transactions on the blockchain. This characterization of Monero seems just as illustrative of time as it does \"money\". With a sufficient mixin count, we arrive at continual states of novelty - all the while closing doors behind us. \n",
      "\n",
      "Take for example: cohomology, commutator,  Seifert–van Kampen theorem, Massey product, etc. The unknown variables^a are encoded/locked by synthesizing obfuscation^b. As other minds reach these novelty equations, time-binding occurs^c (Korzybski) at the level of conscious awareness. \n",
      "\n",
      "Ergo, going \"further\" in time implies others are going further, both unencrypting and encrypting (binary function) ring signatures. \n",
      "\n",
      "Illustration: \"L'oiseau et l'enfant\" (\"The Bird and the Child\") was the winning song in the Eurovision Song Contest of 1977. The song as recorded in Spanish was \"El zagal y el ave azul\". El Zagal isn't modern Spanish, but translates (per *Google-plex Translation*) to Swain: \"a young shephard\" in Indo-European roots. Further (see?), El Zagal was the (c.1444 – c.1494) [twenty-third](http://en.wikipedia.org/wiki/23_enigma)* Nasrid ruler of Granada in Spain. #historical-topology\n",
      "\n",
      "*Now we're back to number. \n",
      "\n",
      "[Excerpt](http://en.wikipedia.org/wiki/Chirality_(chemistry)): 'Human hands are perhaps the most universally recognized example of chirality: the left hand is a non-superposable mirror image of the right hand; no matter how the two hands are oriented, it is impossible for all the major features of both hands to coincide. The term chirality is derived from the Greek word for hand, χειρ (kheir). It is a mathematical approach to the concept of \"handedness\".' \n",
      "Sentiment: neutral\n",
      "\n",
      "Comment 4:\n",
      "Text: [deleted]\n",
      "Sentiment: neutral\n",
      "\n",
      "Comment 5:\n",
      "Text: I've been running the daemon for about 18 hours solo mining and all I'm seeing is \"Sync data returned unknown top block...(# of days) behind.\"  I'm new to the daemon and want to support Monero (and collect some coins) but I'm not clear on what's happening here.  I'm learning a lot by doing searches on the net about this but haven't come up with an explanation about the actual mining process in the daemon.\n",
      "Sentiment: neutral\n",
      "\n",
      "Submission 1:\n",
      "Text: https://moneroaddress.org/ is down\n",
      "\n",
      "I've wanted to buy some Monero for a long time, but my altcoin buying process is to make a paper wallet, buy coin on exchange, then withdraw from exchange to paper wallet. I own dozens of altcoins, and I can't have dozens of full nodes running on my PC, so I use paper wallets to store my coins.\n",
      "Sentiment: positive\n",
      "\n",
      "Submission 2:\n",
      "Text: Can anyone help out?\n",
      "\n",
      "What I mean is:\n",
      "\n",
      "m/'0/'0/0 for example. \n",
      "Sentiment: negative\n",
      "\n",
      "Submission 3:\n",
      "Text: [deleted]\n",
      "Sentiment: neutral\n",
      "\n",
      "Submission 4:\n",
      "Text: Ideally the paper wallet would be encrypted, disallowing the funds to be moved without a password.\n",
      "\n",
      "MyMonero is frequently recommended, but I can't guarantee that the mnemonic phrase isn't compromised by the site itself or in transit, correct?\n",
      "\n",
      "I've also seen it recommended to download simplewallet to USB and boot into an air-gapped Linux distribution.  If this is still the recommended approach, can someone please outline the steps including dependencies for simplewallet?\n",
      "\n",
      "Are there plans to make something as simple as bitaddress.org (e.g. save site to USB, boot into tails).\n",
      "\n",
      "Thanks!\n",
      "Sentiment: positive\n",
      "\n",
      "Submission 5:\n",
      "Text: As far as i know, the only difference is the emissions curve. what kind of differences will this make?\n",
      "\n",
      "do the devs for quazar have a history with cryptonote or monero?\n",
      "Sentiment: positive\n",
      "\n"
     ]
    }
   ],
   "source": [
    "# Assuming you have already performed sentiment analysis and stored results in 'sentiments' list\n",
    "# Combine both comments and submissions text into a single list\n",
    "Monero_text = Monero_submissions_df['selftext'].dropna().tolist() + Monero_comments_df['body'].dropna().tolist()\n",
    "\n",
    "\n",
    "# Print the first few comments and submissions with their sentiments\n",
    "for i, (text, sentiment) in enumerate(zip(Monero_text, sentiments)):\n",
    "    if i >= 10:  # Print the first 10 (5 comments + 5 submissions)\n",
    "        break\n",
    "    if i < 5:\n",
    "        print(f\"Comment {i + 1}:\")\n",
    "    else:\n",
    "        print(f\"Submission {i - 4}:\")\n",
    "    print(\"Text:\", text)\n",
    "    print(\"Sentiment:\", sentiment)\n",
    "    print()\n"
   ]
  },
  {
   "cell_type": "code",
   "execution_count": 26,
   "id": "cdd01649",
   "metadata": {},
   "outputs": [
    {
     "data": {
      "image/png": "[encoded data removed]",
      "text/plain": [
       "<Figure size 800x600 with 1 Axes>"
      ]
     },
     "metadata": {},
     "output_type": "display_data"
    }
   ],
   "source": [
    "import matplotlib.pyplot as plt\n",
    "import pandas as pd\n",
    "\n",
    "# Assuming you have already performed sentiment analysis and have a DataFrame 'sentiments_df'\n",
    "# with a 'Sentiment' column containing sentiment labels (positive, negative, neutral)\n",
    "\n",
    "# Count the occurrences of each sentiment label\n",
    "sentiment_counts = sentiments_df['Sentiment'].value_counts()\n",
    "\n",
    "# Create a bar plot\n",
    "plt.figure(figsize=(8, 6))\n",
    "sentiment_counts.plot(kind='bar', color=['green', 'red', 'blue'], alpha=0.7)\n",
    "plt.title('Sentiment Analysis of Litecoin ')\n",
    "plt.xlabel('Sentiment')\n",
    "plt.ylabel('Count')\n",
    "\n",
    "# Annotate the bars with counts\n",
    "for i, count in enumerate(sentiment_counts):\n",
    "    plt.text(i, count, str(count), ha='center', va='bottom', fontsize=12)\n",
    "\n",
    "# Show the plot\n",
    "plt.xticks(rotation=0)\n",
    "plt.tight_layout()\n",
    "plt.show()\n"
   ]
  },
  {
   "cell_type": "markdown",
   "id": "e7f93f6b",
   "metadata": {},
   "source": [
    "# Emotion Analysis¶"
   ]
  },
  {
   "cell_type": "code",
   "execution_count": 27,
   "id": "6e83fa53",
   "metadata": {},
   "outputs": [
    {
     "name": "stdout",
     "output_type": "stream",
     "text": [
      "Requirement already satisfied: transformers in ./opt/anaconda3/lib/python3.9/site-packages (4.24.0)\n",
      "Requirement already satisfied: torch in ./opt/anaconda3/lib/python3.9/site-packages (1.12.1)\n",
      "Requirement already satisfied: huggingface-hub<1.0,>=0.10.0 in ./opt/anaconda3/lib/python3.9/site-packages (from transformers) (0.10.1)\n",
      "Requirement already satisfied: packaging>=20.0 in ./opt/anaconda3/lib/python3.9/site-packages (from transformers) (22.0)\n",
      "Requirement already satisfied: regex!=2019.12.17 in ./opt/anaconda3/lib/python3.9/site-packages (from transformers) (2022.7.9)\n",
      "Requirement already satisfied: pyyaml>=5.1 in ./opt/anaconda3/lib/python3.9/site-packages (from transformers) (6.0)\n",
      "Requirement already satisfied: numpy>=1.17 in ./opt/anaconda3/lib/python3.9/site-packages (from transformers) (1.23.5)\n",
      "Requirement already satisfied: filelock in ./opt/anaconda3/lib/python3.9/site-packages (from transformers) (3.9.0)\n",
      "Requirement already satisfied: tokenizers!=0.11.3,<0.14,>=0.11.1 in ./opt/anaconda3/lib/python3.9/site-packages (from transformers) (0.11.4)\n",
      "Requirement already satisfied: tqdm>=4.27 in ./opt/anaconda3/lib/python3.9/site-packages (from transformers) (4.64.1)\n",
      "Requirement already satisfied: requests in ./opt/anaconda3/lib/python3.9/site-packages (from transformers) (2.28.1)\n",
      "Requirement already satisfied: typing_extensions in ./opt/anaconda3/lib/python3.9/site-packages (from torch) (4.4.0)\n",
      "Requirement already satisfied: idna<4,>=2.5 in ./opt/anaconda3/lib/python3.9/site-packages (from requests->transformers) (3.4)\n",
      "Requirement already satisfied: urllib3<1.27,>=1.21.1 in ./opt/anaconda3/lib/python3.9/site-packages (from requests->transformers) (1.26.14)\n",
      "Requirement already satisfied: charset-normalizer<3,>=2 in ./opt/anaconda3/lib/python3.9/site-packages (from requests->transformers) (2.0.4)\n",
      "Requirement already satisfied: certifi>=2017.4.17 in ./opt/anaconda3/lib/python3.9/site-packages (from requests->transformers) (2022.12.7)\n",
      "Note: you may need to restart the kernel to use updated packages.\n"
     ]
    }
   ],
   "source": [
    "pip install transformers torch"
   ]
  },
  {
   "cell_type": "code",
   "execution_count": null,
   "id": "d2012d34",
   "metadata": {},
   "outputs": [],
   "source": [
    "from transformers import AutoModelForSequenceClassification, AutoTokenizer\n",
    "import torch\n",
    "\n",
    "# Load the pre-trained emotion classification model and tokenizer\n",
    "model_name = \"michellejieli/emotion_text_classifier\"\n",
    "tokenizer = AutoTokenizer.from_pretrained(model_name)\n",
    "model = AutoModelForSequenceClassification.from_pretrained(model_name)\n",
    "\n",
    "# Combine both comments and submissions text into a single list\n",
    "Monero_text = Monero_submissions_df['selftext'].dropna().tolist() + Monero_comments_df['body'].dropna().tolist()\n"
   ]
  },
  {
   "cell_type": "code",
   "execution_count": null,
   "id": "0f66530f",
   "metadata": {},
   "outputs": [],
   "source": [
    "def get_emotion(text):\n",
    "    inputs = tokenizer(text, return_tensors=\"pt\", truncation=True, padding=True)\n",
    "    with torch.no_grad():\n",
    "        logits = model(**inputs).logits\n",
    "    predicted_class = torch.argmax(logits, dim=1).item()\n",
    "    \n",
    "    # Define the emotion labels corresponding to model output\n",
    "    emotion_labels = [\"anger\", \"fear\", \"joy\", \"sadness\", \"surprise\"]\n",
    "    return emotion_labels[predicted_class]"
   ]
  },
  {
   "cell_type": "code",
   "execution_count": null,
   "id": "742f8758",
   "metadata": {},
   "outputs": [],
   "source": [
    "Monero_combined_df['emotion'] = combined_text.apply(get_emotion)"
   ]
  }
 ],
 "metadata": {
  "kernelspec": {
   "display_name": "Python 3 (ipykernel)",
   "language": "python",
   "name": "python3"
  },
  "language_info": {
   "codemirror_mode": {
    "name": "ipython",
    "version": 3
   },
   "file_extension": ".py",
   "mimetype": "text/x-python",
   "name": "python",
   "nbconvert_exporter": "python",
   "pygments_lexer": "ipython3",
   "version": "3.9.16"
  }
 },
 "nbformat": 4,
 "nbformat_minor": 5
}
