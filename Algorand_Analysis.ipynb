{
 "cells": [
  {
   "cell_type": "code",
   "execution_count": 2,
   "id": "e2aaf509",
   "metadata": {},
   "outputs": [
    {
     "name": "stdout",
     "output_type": "stream",
     "text": [
      "Processing: /Users/shivanipaunikar/Downloads/Project- crypto/Algorand/AC.zst\n",
      "Completed: /Users/shivanipaunikar/Downloads/Project- crypto/Algorand/AC.zst -> /Users/shivanipaunikar/Downloads/Project- crypto/output/AC.json\n",
      "Processing: /Users/shivanipaunikar/Downloads/Project- crypto/Algorand/AS.zst\n",
      "Completed: /Users/shivanipaunikar/Downloads/Project- crypto/Algorand/AS.zst -> /Users/shivanipaunikar/Downloads/Project- crypto/output/AS.json\n",
      "All files processed.\n"
     ]
    }
   ],
   "source": [
    "import zstandard as zstd\n",
    "import shutil\n",
    "import os\n",
    "\n",
    "def decompress_zst(input_file, output_file, max_samples):\n",
    "    with open(input_file, 'rb') as compressed_file:\n",
    "        decomp = zstd.ZstdDecompressor()\n",
    "        with open(output_file, 'wb') as output:\n",
    "            total_samples = 0\n",
    "            for chunk in decomp.read_to_iter(compressed_file):\n",
    "                output.write(chunk)\n",
    "                total_samples += chunk.count(b'\\n')\n",
    "                if total_samples >= max_samples:\n",
    "                    break\n",
    "\n",
    "# List of input files\n",
    "input_files = ['/Users/shivanipaunikar/Downloads/Project- crypto/Algorand/AC.zst', '/Users/shivanipaunikar/Downloads/Project- crypto/Algorand/AS.zst']\n",
    "\n",
    "# Output directory where decompressed files will be stored\n",
    "output_directory = '/Users/shivanipaunikar/Downloads/Project- crypto/output'\n",
    "\n",
    "# Maximum number of samples you want to use\n",
    "max_samples = 5000\n",
    "\n",
    "# Create the output directory if it doesn't exist\n",
    "os.makedirs(output_directory, exist_ok=True)\n",
    "\n",
    "# Loop through each input file and decompress\n",
    "for input_file in input_files:\n",
    "    # Generate the output file path by removing the .zst extension and adding .json\n",
    "    output_file = os.path.join(output_directory, os.path.splitext(os.path.basename(input_file))[0] + '.json')\n",
    "    \n",
    "    print(f\"Processing: {input_file}\")\n",
    "    \n",
    "    # Decompress the input file, limiting to max_samples, and save it to the output file path\n",
    "    decompress_zst(input_file, output_file, max_samples)\n",
    "    \n",
    "    print(f\"Completed: {input_file} -> {output_file}\")\n",
    "\n",
    "print(\"All files processed.\")\n"
   ]
  },
  {
   "cell_type": "code",
   "execution_count": 4,
   "id": "657d8865",
   "metadata": {},
   "outputs": [
    {
     "name": "stdout",
     "output_type": "stream",
     "text": [
      "Skipping line due to JSON syntax error: {\"all_awardings\":[{\"award_sub_type\":\"GLOBAL\",\"award_type\":\"global\",\"awardings_required_to_grant_benefits\":null,\"coin_price\":125,\"coin_reward\":0,\"count\":1,\"days_of_drip_extension\":0,\"days_of_premium\":0,\"description\":\"When you come across a feel-good thing.\",\"end_date\":null,\"giver_coin_reward\":null,\"icon_format\":null,\"icon_height\":2048,\"icon_url\":\"https:\\/\\/i.redd.it\\/award_images\\/t5_22cerq\\/5izbv4fn0md41_Wholesome.png\",\"icon_width\":2048,\"id\":\"award_5f123e3d-4f48-42f4-9c11-e98b566d5897\",\"is_enabled\":true,\"is_new\":false,\"name\":\"Wholesome\",\"penny_donate\":null,\"penny_price\":null,\"resized_icons\":[{\"height\":16,\"url\":\"https:\\/\\/preview.redd.it\\/award_images\\/t5_22cerq\\/5izbv4fn0md41_Wholesome.png?width=16&amp;height=16&amp;auto=webp&amp;s=92932f465d58e4c16b12b6eac4ca07d27e3d11c0\",\"width\":16},{\"height\":32,\"url\":\"https:\\/\\/preview.redd.it\\/award_images\\/t5_22cerq\\/5izbv4fn0md41_Wholesome.png?width=32&amp;height=32&amp;auto=webp&amp;s=d11484a208d68a318bf9d4fcf371171a1cb6a7ef\",\"width\":32},{\"height\":48,\"url\":\"https:\\/\\/preview.redd.it\\/award_images\\/t5_22cerq\\/5izbv4fn0md41_Wholesome.png?width=48&amp;height=48&amp;auto=webp&amp;s=febdf28b6f39f7da7eb1365325b85e0bb49a9f63\",\"width\":48},{\"height\":64,\"url\":\"https:\\/\\/preview.redd.it\\/award_images\\/t5_22cerq\\/5izbv4fn0md41_Wholesome.png?width=64&amp;height=64&amp;auto=webp&amp;s=b4406a2d88bf86fa3dc8a45aacf7e0c7bdccc4fb\",\"width\":64},{\"height\":128,\"url\":\"https:\\/\\/preview.redd.it\\/award_images\\/t5_22ce\n",
      "Skipping line due to JSON syntax error: {\"all_awardings\":[],\"archived\":false,\"associated_award\":null,\"author\":\"ozso\",\"author_created_utc\":1550481054,\"author_flair_background_color\":null,\"author_flair_css_class\":null,\"author_flair_richtext\":[],\"author_flair_template_id\":null,\"author_flair_text\":null,\"author_flair_text_color\":null,\"author_flair_type\":\"text\",\"author_fullname\":\"t2_2wwn7kmk\",\"author_patreon_flair\":false,\"author_premium\":false,\"body\":\"What do you mean?\",\"can_gild\":true,\"collapsed\":false,\"coll\n"
     ]
    }
   ],
   "source": [
    "import pandas as pd\n",
    "import json\n",
    "import os\n",
    "\n",
    "# Define the output directory where the JSON files were decompressed\n",
    "output_directory = '/Users/shivanipaunikar/Downloads/Project- crypto/output'\n",
    "\n",
    "# Function to fix JSON syntax errors\n",
    "def fix_json_syntax(input_file, output_file):\n",
    "    with open(input_file, 'r') as input_json, open(output_file, 'w') as output_json:\n",
    "        for line in input_json:\n",
    "            try:\n",
    "                json_obj = json.loads(line)\n",
    "                corrected_line = json.dumps(json_obj) + '\\n'\n",
    "                output_json.write(corrected_line)\n",
    "            except json.JSONDecodeError as e:\n",
    "                # Handle JSON syntax errors here or simply skip problematic lines\n",
    "                print(f\"Skipping line due to JSON syntax error: {line.strip()}\")\n",
    "                continue\n",
    "\n",
    "# Specify your input and output file paths for fixing 'Ds.json' syntax\n",
    "input_file_path_AS = os.path.join(output_directory, 'AS.json')\n",
    "output_file_path_AS = os.path.join(output_directory, 'AS_fixed.json')\n",
    "\n",
    "# Call the function to fix JSON syntax errors in 'Bs.json'\n",
    "fix_json_syntax(input_file_path_AS, output_file_path_AS)\n",
    "\n",
    "# Specify your input and output file paths for fixing 'Bc.json' syntax\n",
    "input_file_path_AC = os.path.join(output_directory, 'AC.json')\n",
    "output_file_path_AC = os.path.join(output_directory, 'AC_fixed.json')\n",
    "\n",
    "# Call the function to fix JSON syntax errors in 'Bc.json'\n",
    "fix_json_syntax(input_file_path_AC, output_file_path_AC)\n",
    "\n",
    "# Define a function to read JSON data line by line\n",
    "def read_json_lines(file_path):\n",
    "    with open(file_path, 'r') as file:\n",
    "        for line in file:\n",
    "            yield json.loads(line)\n",
    "\n",
    "# Use os.path.join to construct file paths\n",
    "submission_data = list(read_json_lines(output_file_path_AS))  \n",
    "comment_data = list(read_json_lines(output_file_path_AC))  \n",
    "\n",
    "# Create DataFrames\n",
    "submission_df = pd.DataFrame(submission_data)\n",
    "comment_df = pd.DataFrame(comment_data)\n",
    "\n",
    "# Filter for Dogecoin-related data (you may need to adjust the filter)\n",
    "Algorand_submissions = submission_df[submission_df['title'].str.contains('Algorand', case=False, na=False)]\n",
    "Algorand_comments = comment_df[comment_df['body'].str.contains('Algorand', case=False, na=False)]\n",
    "\n",
    "# Sample 5000 observations with replacement\n",
    "Algorand_submissions_sample = Algorand_submissions.sample(n=5000, replace=True)\n",
    "Algorand_comments_sample = Algorand_comments.sample(n=5000, replace=True)\n",
    "\n",
    "# Export to CSV\n",
    "Algorand_submissions_sample.to_csv('Algorand_submissions_sample.csv', index=False)\n",
    "Algorand_comments_sample.to_csv('Algorand_comments_sample.csv', index=False)\n"
   ]
  },
  {
   "cell_type": "code",
   "execution_count": 6,
   "id": "aab9183f",
   "metadata": {},
   "outputs": [],
   "source": [
    "# Load the CSV files\n",
    "Algorand_submissions_df = pd.read_csv('Algorand_submissions_sample.csv')\n",
    "Algorand_comments_df = pd.read_csv('Algorand_comments_sample.csv')\n"
   ]
  },
  {
   "cell_type": "code",
   "execution_count": 7,
   "id": "fe526572",
   "metadata": {},
   "outputs": [
    {
     "name": "stdout",
     "output_type": "stream",
     "text": [
      "Columns in Algorand_submissions_df:\n",
      "Index(['archived', 'author', 'author_flair_css_class', 'author_flair_text',\n",
      "       'brand_safe', 'contest_mode', 'created_utc', 'distinguished', 'domain',\n",
      "       'edited',\n",
      "       ...\n",
      "       'crosspost_parent', 'crosspost_parent_list', 'upvote_ratio',\n",
      "       'is_created_from_ads_ui', 'retrieved_utc', 'top_awarded_type',\n",
      "       'url_overridden_by_dest', 'poll_data', 'gallery_data', 'is_gallery'],\n",
      "      dtype='object', length=119)\n",
      "Sample data in Algorand_submissions_df:\n",
      "  archived                author  author_flair_css_class  author_flair_text  \\\n",
      "0     True              Some_won                     NaN                NaN   \n",
      "1    False  merica-RGtna3NrYgk91                     NaN                NaN   \n",
      "2    False             [deleted]                     NaN                NaN   \n",
      "3    False             Cathesdus                     NaN                NaN   \n",
      "4    False         PackingTape01                     NaN                NaN   \n",
      "\n",
      "  brand_safe  contest_mode  created_utc distinguished                 domain  \\\n",
      "0        NaN         False   1568801877           NaN         thetokenist.io   \n",
      "1        NaN         False   1618186213           NaN              i.redd.it   \n",
      "2        NaN         False   1612252054           NaN          self.algorand   \n",
      "3        NaN         False   1613734659           NaN  self.AlgorandOfficial   \n",
      "4        NaN         False   1609231671           NaN             medium.com   \n",
      "\n",
      "  edited  ...  crosspost_parent  \\\n",
      "0  False  ...               NaN   \n",
      "1  False  ...               NaN   \n",
      "2  False  ...               NaN   \n",
      "3  False  ...         t3_lndu8z   \n",
      "4  False  ...               NaN   \n",
      "\n",
      "                               crosspost_parent_list upvote_ratio  \\\n",
      "0                                                NaN          NaN   \n",
      "1                                                NaN         0.89   \n",
      "2                                                NaN         1.00   \n",
      "3  [{'all_awardings': [{'award_sub_type': 'GLOBAL...         0.97   \n",
      "4                                                NaN         1.00   \n",
      "\n",
      "  is_created_from_ads_ui  retrieved_utc  top_awarded_type  \\\n",
      "0                    NaN            NaN               NaN   \n",
      "1                  False   1.623462e+09               NaN   \n",
      "2                  False   1.623371e+09               NaN   \n",
      "3                  False   1.623393e+09               NaN   \n",
      "4                  False   1.623279e+09               NaN   \n",
      "\n",
      "                              url_overridden_by_dest poll_data  gallery_data  \\\n",
      "0                                                NaN       NaN           NaN   \n",
      "1                https://i.redd.it/5dfatsbwwms61.jpg       NaN           NaN   \n",
      "2                                                NaN       NaN           NaN   \n",
      "3  /r/AlgorandOfficial/comments/lndu8z/no_algoran...       NaN           NaN   \n",
      "4  https://medium.com/@vasiliosfilip/mid-year-rec...       NaN           NaN   \n",
      "\n",
      "  is_gallery  \n",
      "0        NaN  \n",
      "1        NaN  \n",
      "2        NaN  \n",
      "3        NaN  \n",
      "4        NaN  \n",
      "\n",
      "[5 rows x 119 columns]\n",
      "Columns in Algorand_comments_df:\n",
      "Index(['author', 'author_flair_css_class', 'author_flair_text', 'body',\n",
      "       'can_gild', 'controversiality', 'created_utc', 'distinguished',\n",
      "       'edited', 'gilded', 'id', 'link_id', 'parent_id', 'retrieved_on',\n",
      "       'score', 'stickied', 'subreddit', 'subreddit_id', 'approved_at_utc',\n",
      "       'can_mod_post', 'banned_at_utc', 'collapsed', 'collapsed_reason',\n",
      "       'is_submitter', 'permalink', 'subreddit_type', 'no_follow',\n",
      "       'send_replies', 'approved_by', 'author_flair_template_id', 'banned_by',\n",
      "       'body_html', 'likes', 'mod_reports', 'num_reports', 'removal_reason',\n",
      "       'replies', 'report_reasons', 'saved', 'user_reports', 'archived',\n",
      "       'score_hidden', 'author_flair_background_color',\n",
      "       'author_flair_richtext', 'author_flair_text_color', 'author_flair_type',\n",
      "       'rte_mode', 'author_created_utc', 'author_fullname',\n",
      "       'subreddit_name_prefixed', 'gildings', 'author_patreon_flair',\n",
      "       'quarantined', 'all_awardings', 'locked', 'total_awards_received',\n",
      "       'steward_reports', 'author_cakeday', 'awarders', 'associated_award',\n",
      "       'collapsed_because_crowd_control', 'author_premium', 'treatment_tags',\n",
      "       'top_awarded_type', 'comment_type', 'collapsed_reason_code', 'name',\n",
      "       'retrieved_utc'],\n",
      "      dtype='object')\n",
      "Sample data in Algorand_comments_df:\n",
      "           author  author_flair_css_class  author_flair_text  \\\n",
      "0    flowdynamics                     NaN                NaN   \n",
      "1  Short_One_9704                     NaN                NaN   \n",
      "2    AlexCoventry                     NaN                NaN   \n",
      "3          cysec_                     NaN                NaN   \n",
      "4    SillyMousse4                     NaN                NaN   \n",
      "\n",
      "                                                body  can_gild  \\\n",
      "0  No disappointingly it seems blockchain allow f...      True   \n",
      "1  Oh, sorry my bad, didn’t notice it’s only in c...      True   \n",
      "2  In my not-financial-advice opinion, Algorand i...      True   \n",
      "3  [r/AlgorandOfficial](https://www.reddit.com/r/...      True   \n",
      "4  We need more adoption! That would benefit the ...      True   \n",
      "\n",
      "   controversiality  created_utc  distinguished edited  gilded  ... awarders  \\\n",
      "0                 0   1598041179            NaN  False       0  ...       []   \n",
      "1                 0   1613074619            NaN  False       0  ...      NaN   \n",
      "2                 0   1609540250            NaN  False       0  ...       []   \n",
      "3                 0   1613206797            NaN  False       0  ...      NaN   \n",
      "4                 0   1571930386            NaN  False       0  ...       []   \n",
      "\n",
      "  associated_award collapsed_because_crowd_control  author_premium  \\\n",
      "0              NaN                             NaN           False   \n",
      "1              NaN                             NaN           False   \n",
      "2              NaN                             NaN           False   \n",
      "3              NaN                             NaN            True   \n",
      "4              NaN                             NaN           False   \n",
      "\n",
      "   treatment_tags  top_awarded_type comment_type collapsed_reason_code  \\\n",
      "0              []               NaN          NaN                   NaN   \n",
      "1              []               NaN          NaN                   NaN   \n",
      "2              []               NaN          NaN                   NaN   \n",
      "3              []               NaN          NaN                   NaN   \n",
      "4             NaN               NaN          NaN                   NaN   \n",
      "\n",
      "         name retrieved_utc  \n",
      "0         NaN           NaN  \n",
      "1  t1_gmz8lh2  1.626897e+09  \n",
      "2         NaN           NaN  \n",
      "3  t1_gn60p05  1.626908e+09  \n",
      "4         NaN           NaN  \n",
      "\n",
      "[5 rows x 68 columns]\n"
     ]
    }
   ],
   "source": [
    "# Display the columns of the DataFrame\n",
    "print(\"Columns in Algorand_submissions_df:\")\n",
    "print(Algorand_submissions_df.columns)\n",
    "\n",
    "# Display a sample of the DataFrame\n",
    "print(\"Sample data in Algorand_submissions_df:\")\n",
    "print(Algorand_submissions_df.head())\n",
    "\n",
    "# Repeat the same for Dogecoin_comments_df if needed\n",
    "print(\"Columns in Algorand_comments_df:\")\n",
    "print(Algorand_comments_df.columns)\n",
    "\n",
    "print(\"Sample data in Algorand_comments_df:\")\n",
    "print(Algorand_comments_df.head())\n"
   ]
  },
  {
   "cell_type": "code",
   "execution_count": 8,
   "id": "027a625a",
   "metadata": {},
   "outputs": [
    {
     "name": "stdout",
     "output_type": "stream",
     "text": [
      "Range of dates available in Algorand_submissions_df: (Timestamp('2017-07-26 20:31:04'), Timestamp('2021-06-03 13:59:10'))\n",
      "Range of dates available in Algorand_comments_df: (Timestamp('2017-06-26 20:39:40'), Timestamp('2021-02-13 18:16:21'))\n",
      "\n",
      "Number of posts per day in Algorand_submissions_df:\n",
      "created_utc\n",
      "2017-07-26     7\n",
      "2018-03-17     3\n",
      "2018-07-14     2\n",
      "2018-07-18     4\n",
      "2018-10-10     6\n",
      "              ..\n",
      "2021-05-30    11\n",
      "2021-05-31    18\n",
      "2021-06-01    43\n",
      "2021-06-02    54\n",
      "2021-06-03    26\n",
      "Length: 378, dtype: int64\n",
      "\n",
      "Number of comments per day in Algorand_comments_df:\n",
      "created_utc\n",
      "2017-06-26      9\n",
      "2018-06-19      8\n",
      "2018-07-18      9\n",
      "2019-01-09     11\n",
      "2019-02-23     13\n",
      "             ... \n",
      "2021-02-09    209\n",
      "2021-02-10    202\n",
      "2021-02-11    291\n",
      "2021-02-12    375\n",
      "2021-02-13    344\n",
      "Length: 182, dtype: int64\n",
      "\n",
      "Number of unique authors per day in Algorand_submissions_df:\n",
      "created_utc\n",
      "2017-07-26     1\n",
      "2018-03-17     1\n",
      "2018-07-14     1\n",
      "2018-07-18     1\n",
      "2018-10-10     1\n",
      "              ..\n",
      "2021-05-30     3\n",
      "2021-05-31     7\n",
      "2021-06-01     8\n",
      "2021-06-02    14\n",
      "2021-06-03     7\n",
      "Name: author, Length: 378, dtype: int64\n"
     ]
    }
   ],
   "source": [
    "import pandas as pd\n",
    "\n",
    "# Load the data into DataFrames (assuming you already have them loaded)\n",
    "Algorand_submissions_df = pd.read_csv('Algorand_submissions_sample.csv')\n",
    "Algorand_comments_df = pd.read_csv('Algorand_comments_sample.csv')\n",
    "\n",
    "# Convert 'created_utc' columns to datetime objects\n",
    "Algorand_submissions_df['created_utc'] = pd.to_datetime(Algorand_submissions_df['created_utc'], unit='s')\n",
    "Algorand_comments_df['created_utc'] = pd.to_datetime(Algorand_comments_df['created_utc'], unit='s')\n",
    "\n",
    "# Calculate the range of dates available\n",
    "date_range_submissions = Algorand_submissions_df['created_utc'].min(), Algorand_submissions_df['created_utc'].max()\n",
    "date_range_comments = Algorand_comments_df['created_utc'].min(), Algorand_comments_df['created_utc'].max()\n",
    "\n",
    "print(\"Range of dates available in Algorand_submissions_df:\", date_range_submissions)\n",
    "print(\"Range of dates available in Algorand_comments_df:\", date_range_comments)\n",
    "\n",
    "# Calculate the number of posts, comments, and authors for each day\n",
    "posts_per_day_submissions = Algorand_submissions_df.groupby(Algorand_submissions_df['created_utc'].dt.date).size()\n",
    "comments_per_day = Algorand_comments_df.groupby(Algorand_comments_df['created_utc'].dt.date).size()\n",
    "unique_authors_per_day_submissions = Algorand_submissions_df.groupby(Algorand_submissions_df['created_utc'].dt.date)['author'].nunique()\n",
    "\n",
    "# Display the results\n",
    "print(\"\\nNumber of posts per day in Algorand_submissions_df:\")\n",
    "print(posts_per_day_submissions)\n",
    "print(\"\\nNumber of comments per day in Algorand_comments_df:\")\n",
    "print(comments_per_day)\n",
    "print(\"\\nNumber of unique authors per day in Algorand_submissions_df:\")\n",
    "print(unique_authors_per_day_submissions)\n"
   ]
  },
  {
   "cell_type": "markdown",
   "id": "af123e48",
   "metadata": {},
   "source": [
    "# Topic Modeling"
   ]
  },
  {
   "cell_type": "code",
   "execution_count": 9,
   "id": "fa1d9f4d",
   "metadata": {},
   "outputs": [],
   "source": [
    "import pandas as pd\n",
    "import numpy as np\n",
    "import nltk\n",
    "from nltk.corpus import stopwords\n",
    "from nltk.tokenize import word_tokenize\n",
    "from nltk.stem import WordNetLemmatizer\n",
    "from sklearn.feature_extraction.text import TfidfVectorizer\n",
    "from gensim import models\n",
    "import gensim.corpora as corpora\n",
    "import gensim"
   ]
  },
  {
   "cell_type": "code",
   "execution_count": 10,
   "id": "c06e5359",
   "metadata": {},
   "outputs": [],
   "source": [
    "# Load the data into DataFrames (assuming you already have them loaded)\n",
    "Algorand_submissions_df = pd.read_csv('Algorand_submissions_sample.csv')\n",
    "Algorand_comments_df = pd.read_csv('Algorand_comments_sample.csv')\n",
    "\n",
    "# Convert 'created_utc' columns to datetime objects\n",
    "Algorand_submissions_df['created_utc'] = pd.to_datetime(Algorand_submissions_df['created_utc'], unit='s')\n",
    "Algorand_comments_df['created_utc'] = pd.to_datetime(Algorand_comments_df['created_utc'], unit='s')\n",
    "\n",
    "# Combine comments and submissions text\n",
    "Algorand_text = Algorand_submissions_df['selftext'].dropna().tolist() + Algorand_comments_df['body'].dropna().tolist()\n"
   ]
  },
  {
   "cell_type": "code",
   "execution_count": 11,
   "id": "8500b843",
   "metadata": {},
   "outputs": [
    {
     "name": "stderr",
     "output_type": "stream",
     "text": [
      "[nltk_data] Downloading package stopwords to\n",
      "[nltk_data]     /Users/shivanipaunikar/nltk_data...\n",
      "[nltk_data]   Package stopwords is already up-to-date!\n",
      "[nltk_data] Downloading package punkt to\n",
      "[nltk_data]     /Users/shivanipaunikar/nltk_data...\n",
      "[nltk_data]   Package punkt is already up-to-date!\n"
     ]
    }
   ],
   "source": [
    "# Text preprocessing\n",
    "nltk.download('stopwords')\n",
    "nltk.download('punkt')\n",
    "stop_words = set(stopwords.words('english'))\n",
    "lemmatizer = WordNetLemmatizer()\n",
    "\n",
    "def preprocess_text(text):\n",
    "    tokens = word_tokenize(text.lower())\n",
    "    tokens = [lemmatizer.lemmatize(token) for token in tokens if token.isalnum()]\n",
    "    tokens = [token for token in tokens if token not in stop_words]\n",
    "    return tokens\n",
    "\n",
    "Algorand_text = [preprocess_text(text) for text in Algorand_text]\n"
   ]
  },
  {
   "cell_type": "code",
   "execution_count": 12,
   "id": "b65110c1",
   "metadata": {},
   "outputs": [],
   "source": [
    "# Create a TF-IDF vectorizer\n",
    "tfidf_vectorizer = TfidfVectorizer(max_df=0.95, min_df=2, max_features=1000)"
   ]
  },
  {
   "cell_type": "code",
   "execution_count": 13,
   "id": "7be7819f",
   "metadata": {},
   "outputs": [],
   "source": [
    "# Apply TF-IDF vectorization\n",
    "Algorand_tfidf = tfidf_vectorizer.fit_transform([' '.join(tokens) for tokens in Algorand_text])"
   ]
  },
  {
   "cell_type": "code",
   "execution_count": 14,
   "id": "fc146396",
   "metadata": {},
   "outputs": [
    {
     "name": "stdout",
     "output_type": "stream",
     "text": [
      "Requirement already satisfied: gensim in ./opt/anaconda3/lib/python3.9/site-packages (4.3.0)\n",
      "Requirement already satisfied: matplotlib in ./opt/anaconda3/lib/python3.9/site-packages (3.7.0)\n",
      "Requirement already satisfied: pyLDAvis in ./opt/anaconda3/lib/python3.9/site-packages (3.4.0)\n",
      "Requirement already satisfied: numpy>=1.18.5 in ./opt/anaconda3/lib/python3.9/site-packages (from gensim) (1.23.5)\n",
      "Requirement already satisfied: FuzzyTM>=0.4.0 in ./opt/anaconda3/lib/python3.9/site-packages (from gensim) (2.0.5)\n",
      "Requirement already satisfied: scipy>=1.7.0 in ./opt/anaconda3/lib/python3.9/site-packages (from gensim) (1.10.0)\n",
      "Requirement already satisfied: smart-open>=1.8.1 in ./opt/anaconda3/lib/python3.9/site-packages (from gensim) (5.2.1)\n",
      "Requirement already satisfied: fonttools>=4.22.0 in ./opt/anaconda3/lib/python3.9/site-packages (from matplotlib) (4.25.0)\n",
      "Requirement already satisfied: packaging>=20.0 in ./opt/anaconda3/lib/python3.9/site-packages (from matplotlib) (22.0)\n",
      "Requirement already satisfied: contourpy>=1.0.1 in ./opt/anaconda3/lib/python3.9/site-packages (from matplotlib) (1.0.5)\n",
      "Requirement already satisfied: pillow>=6.2.0 in ./opt/anaconda3/lib/python3.9/site-packages (from matplotlib) (9.4.0)\n",
      "Requirement already satisfied: pyparsing>=2.3.1 in ./opt/anaconda3/lib/python3.9/site-packages (from matplotlib) (3.0.9)\n",
      "Requirement already satisfied: cycler>=0.10 in ./opt/anaconda3/lib/python3.9/site-packages (from matplotlib) (0.11.0)\n",
      "Requirement already satisfied: kiwisolver>=1.0.1 in ./opt/anaconda3/lib/python3.9/site-packages (from matplotlib) (1.4.4)\n",
      "Requirement already satisfied: python-dateutil>=2.7 in ./opt/anaconda3/lib/python3.9/site-packages (from matplotlib) (2.8.2)\n",
      "Requirement already satisfied: importlib-resources>=3.2.0 in ./opt/anaconda3/lib/python3.9/site-packages (from matplotlib) (5.2.0)\n",
      "Requirement already satisfied: scikit-learn>=1.0.0 in ./opt/anaconda3/lib/python3.9/site-packages (from pyLDAvis) (1.2.1)\n",
      "Requirement already satisfied: setuptools in ./opt/anaconda3/lib/python3.9/site-packages (from pyLDAvis) (65.6.3)\n",
      "Requirement already satisfied: jinja2 in ./opt/anaconda3/lib/python3.9/site-packages (from pyLDAvis) (3.1.2)\n",
      "Requirement already satisfied: funcy in ./opt/anaconda3/lib/python3.9/site-packages (from pyLDAvis) (1.18)\n",
      "Requirement already satisfied: joblib>=1.2.0 in ./opt/anaconda3/lib/python3.9/site-packages (from pyLDAvis) (1.2.0)\n",
      "Requirement already satisfied: pandas>=1.3.4 in ./opt/anaconda3/lib/python3.9/site-packages (from pyLDAvis) (1.5.3)\n",
      "Requirement already satisfied: numexpr in ./opt/anaconda3/lib/python3.9/site-packages (from pyLDAvis) (2.8.4)\n",
      "Requirement already satisfied: pyfume in ./opt/anaconda3/lib/python3.9/site-packages (from FuzzyTM>=0.4.0->gensim) (0.2.25)\n",
      "Requirement already satisfied: zipp>=3.1.0 in ./opt/anaconda3/lib/python3.9/site-packages (from importlib-resources>=3.2.0->matplotlib) (3.11.0)\n",
      "Requirement already satisfied: pytz>=2020.1 in ./opt/anaconda3/lib/python3.9/site-packages (from pandas>=1.3.4->pyLDAvis) (2022.7)\n",
      "Requirement already satisfied: six>=1.5 in ./opt/anaconda3/lib/python3.9/site-packages (from python-dateutil>=2.7->matplotlib) (1.16.0)\n",
      "Requirement already satisfied: threadpoolctl>=2.0.0 in ./opt/anaconda3/lib/python3.9/site-packages (from scikit-learn>=1.0.0->pyLDAvis) (2.2.0)\n",
      "Requirement already satisfied: MarkupSafe>=2.0 in ./opt/anaconda3/lib/python3.9/site-packages (from jinja2->pyLDAvis) (2.1.1)\n",
      "Requirement already satisfied: fst-pso in ./opt/anaconda3/lib/python3.9/site-packages (from pyfume->FuzzyTM>=0.4.0->gensim) (1.8.1)\n",
      "Requirement already satisfied: simpful in ./opt/anaconda3/lib/python3.9/site-packages (from pyfume->FuzzyTM>=0.4.0->gensim) (2.10.0)\n",
      "Requirement already satisfied: miniful in ./opt/anaconda3/lib/python3.9/site-packages (from fst-pso->pyfume->FuzzyTM>=0.4.0->gensim) (0.0.6)\n",
      "Requirement already satisfied: requests in ./opt/anaconda3/lib/python3.9/site-packages (from simpful->pyfume->FuzzyTM>=0.4.0->gensim) (2.28.1)\n",
      "Requirement already satisfied: certifi>=2017.4.17 in ./opt/anaconda3/lib/python3.9/site-packages (from requests->simpful->pyfume->FuzzyTM>=0.4.0->gensim) (2022.12.7)\n",
      "Requirement already satisfied: urllib3<1.27,>=1.21.1 in ./opt/anaconda3/lib/python3.9/site-packages (from requests->simpful->pyfume->FuzzyTM>=0.4.0->gensim) (1.26.14)\n",
      "Requirement already satisfied: idna<4,>=2.5 in ./opt/anaconda3/lib/python3.9/site-packages (from requests->simpful->pyfume->FuzzyTM>=0.4.0->gensim) (3.4)\n",
      "Requirement already satisfied: charset-normalizer<3,>=2 in ./opt/anaconda3/lib/python3.9/site-packages (from requests->simpful->pyfume->FuzzyTM>=0.4.0->gensim) (2.0.4)\n",
      "Note: you may need to restart the kernel to use updated packages.\n"
     ]
    }
   ],
   "source": [
    "pip install gensim matplotlib pyLDAvis"
   ]
  },
  {
   "cell_type": "code",
   "execution_count": 15,
   "id": "ef590d6c",
   "metadata": {},
   "outputs": [],
   "source": [
    "from gensim.corpora import Dictionary\n",
    "from gensim.models import LdaModel\n",
    "import pyLDAvis.gensim_models as gensimvis\n",
    "import pyLDAvis\n",
    "import matplotlib.pyplot as plt\n",
    "\n",
    "# Assuming you have a list of preprocessed tokens called 'bitcoin_text'\n",
    "# You can replace 'bitcoin_text' with your actual data\n",
    "dictionary = Dictionary([tokens for tokens in Algorand_text])\n",
    "corpus = [dictionary.doc2bow(tokens) for tokens in Algorand_text]\n",
    "\n",
    "# Perform LDA topic modeling\n",
    "lda_model_Algorand = LdaModel(corpus=corpus, id2word=dictionary, num_topics=5, passes=2)"
   ]
  },
  {
   "cell_type": "code",
   "execution_count": 16,
   "id": "801656d6",
   "metadata": {},
   "outputs": [
    {
     "name": "stdout",
     "output_type": "stream",
     "text": [
      "Coherence Score: 0.4361\n"
     ]
    }
   ],
   "source": [
    "from gensim.models import CoherenceModel\n",
    "\n",
    "coherence_model_lda = CoherenceModel(model=lda_model_Algorand, texts=Algorand_text, dictionary=dictionary, coherence='c_v')\n",
    "coherence_lda = coherence_model_lda.get_coherence()\n",
    "print(f'Coherence Score: {coherence_lda:.4f}')\n"
   ]
  },
  {
   "cell_type": "code",
   "execution_count": 17,
   "id": "6f1a9ef4",
   "metadata": {},
   "outputs": [
    {
     "data": {
      "image/png": "[encoded data removed]",
      "text/plain": [
       "<Figure size 1000x600 with 1 Axes>"
      ]
     },
     "metadata": {},
     "output_type": "display_data"
    }
   ],
   "source": [
    "# Define a range of topic numbers to test\n",
    "topics_range = range(2, 11)\n",
    "coherence_scores = []\n",
    "\n",
    "# Calculate coherence scores for different numbers of topics\n",
    "for num_topics in topics_range:\n",
    "    lda_model = LdaModel(corpus=corpus, id2word=dictionary, num_topics=num_topics, passes=2)\n",
    "    coherence_model = CoherenceModel(model=lda_model, texts=Algorand_text, dictionary=dictionary, coherence='c_v')\n",
    "    coherence_score = coherence_model.get_coherence()\n",
    "    coherence_scores.append(coherence_score)\n",
    "\n",
    "# Plot the coherence scores\n",
    "plt.figure(figsize=(10, 6))\n",
    "plt.plot(topics_range, coherence_scores, marker='o', linestyle='-', color='b')\n",
    "plt.title('Coherence Scores for Different Numbers of Topics')\n",
    "plt.xlabel('Number of Topics')\n",
    "plt.ylabel('Coherence Score (C_v)')\n",
    "plt.xticks(topics_range)\n",
    "plt.grid(True)\n",
    "plt.show()\n"
   ]
  },
  {
   "cell_type": "code",
   "execution_count": 18,
   "id": "0df50257",
   "metadata": {},
   "outputs": [
    {
     "name": "stdout",
     "output_type": "stream",
     "text": [
      "(0, '0.031*\"algorand\" + 0.013*\"node\" + 0.008*\"http\" + 0.008*\"like\" + 0.007*\"ha\" + 0.007*\"algo\" + 0.007*\"relay\"')\n",
      "(1, '0.036*\"http\" + 0.025*\"algorand\" + 0.024*\"reward\" + 0.014*\"node\" + 0.010*\"amp\" + 0.009*\"algo\" + 0.008*\"staking\"')\n",
      "(2, '0.059*\"http\" + 0.024*\"amp\" + 0.023*\"algorand\" + 0.020*\"welcome\" + 0.018*\"community\" + 0.017*\"subreddit\" + 0.016*\"meme\"')\n",
      "(3, '0.027*\"algorand\" + 0.014*\"algo\" + 0.012*\"market\" + 0.011*\"coin\" + 0.011*\"price\" + 0.008*\"block\" + 0.007*\"ha\"')\n",
      "(4, '0.050*\"algorand\" + 0.034*\"wallet\" + 0.019*\"http\" + 0.017*\"coinbase\" + 0.015*\"algo\" + 0.010*\"official\" + 0.009*\"reward\"')\n"
     ]
    }
   ],
   "source": [
    "# Print the topics generated by the LDA model\n",
    "topics = lda_model_Algorand.print_topics(num_words=7)  # You can adjust the number of words per topic\n",
    "for topic in topics:\n",
    "    print(topic)\n"
   ]
  },
  {
   "cell_type": "markdown",
   "id": "8e2cebc3",
   "metadata": {},
   "source": [
    "# Sentiment Analysis"
   ]
  },
  {
   "cell_type": "code",
   "execution_count": 19,
   "id": "b907c59b",
   "metadata": {},
   "outputs": [
    {
     "name": "stderr",
     "output_type": "stream",
     "text": [
      "[nltk_data] Downloading package stopwords to\n",
      "[nltk_data]     /Users/shivanipaunikar/nltk_data...\n",
      "[nltk_data]   Package stopwords is already up-to-date!\n",
      "[nltk_data] Downloading package punkt to\n",
      "[nltk_data]     /Users/shivanipaunikar/nltk_data...\n",
      "[nltk_data]   Package punkt is already up-to-date!\n"
     ]
    }
   ],
   "source": [
    "from textblob import TextBlob\n",
    "\n",
    "Algorand_text = Algorand_submissions_df['selftext'].dropna().tolist() + Algorand_comments_df['body'].dropna().tolist()\n",
    "\n",
    "# Preprocess the text data (if you haven't done this already)\n",
    "nltk.download('stopwords')\n",
    "nltk.download('punkt')\n",
    "stop_words = set(stopwords.words('english'))\n",
    "lemmatizer = WordNetLemmatizer()\n",
    "\n",
    "def preprocess_text(text):\n",
    "    tokens = word_tokenize(text.lower())\n",
    "    tokens = [lemmatizer.lemmatize(token) for token in tokens if token.isalnum()]\n",
    "    tokens = [token for token in tokens if token not in stop_words]\n",
    "    return ' '.join(tokens)  # Join tokens into a single string\n",
    "\n",
    "Algorand_text = [preprocess_text(text) for text in Algorand_text]"
   ]
  },
  {
   "cell_type": "code",
   "execution_count": 20,
   "id": "d29d3f29",
   "metadata": {},
   "outputs": [
    {
     "name": "stderr",
     "output_type": "stream",
     "text": [
      "[nltk_data] Downloading package stopwords to\n",
      "[nltk_data]     /Users/shivanipaunikar/nltk_data...\n",
      "[nltk_data]   Package stopwords is already up-to-date!\n",
      "[nltk_data] Downloading package punkt to\n",
      "[nltk_data]     /Users/shivanipaunikar/nltk_data...\n",
      "[nltk_data]   Package punkt is already up-to-date!\n"
     ]
    }
   ],
   "source": [
    "# Example preprocessing using NLTK\n",
    "import nltk\n",
    "from nltk.corpus import stopwords\n",
    "from nltk.tokenize import word_tokenize\n",
    "\n",
    "nltk.download('stopwords')\n",
    "nltk.download('punkt')\n",
    "\n",
    "# Define a function to preprocess text\n",
    "def preprocess_text(text):\n",
    "    # Tokenize the text\n",
    "    tokens = word_tokenize(text)\n",
    "    \n",
    "    # Remove stopwords\n",
    "    tokens = [word for word in tokens if word.lower() not in stopwords.words('english')]\n",
    "    \n",
    "    # Other text cleaning steps (e.g., removing punctuation, stemming) can be added\n",
    "    \n",
    "    return \" \".join(tokens)  # Convert tokens back to text\n",
    "\n",
    "# Apply preprocessing to your text data\n",
    "Algorand_comments_df['cleaned_text'] = Algorand_comments_df['body'].apply(preprocess_text)\n"
   ]
  },
  {
   "cell_type": "code",
   "execution_count": 21,
   "id": "0ad37b44",
   "metadata": {},
   "outputs": [],
   "source": [
    "# Define a function to get sentiment\n",
    "def get_sentiment(text):\n",
    "    analysis = TextBlob(text)\n",
    "    polarity = analysis.sentiment.polarity\n",
    "\n",
    "    if polarity > 0.1:\n",
    "        return \"positive\"\n",
    "    elif polarity < -0.1:\n",
    "        return \"negative\"\n",
    "    else:\n",
    "        return \"neutral\""
   ]
  },
  {
   "cell_type": "code",
   "execution_count": 22,
   "id": "d45b64d6",
   "metadata": {},
   "outputs": [],
   "source": [
    "# Apply sentiment analysis to your preprocessed text data\n",
    "sentiments = [get_sentiment(text) for text in Algorand_text]\n"
   ]
  },
  {
   "cell_type": "code",
   "execution_count": 23,
   "id": "24ec3118",
   "metadata": {},
   "outputs": [],
   "source": [
    "# Create a DataFrame to store sentiments (optional)\n",
    "sentiments_df = pd.DataFrame({'Sentiment': sentiments})"
   ]
  },
  {
   "cell_type": "code",
   "execution_count": 24,
   "id": "dfc01da1",
   "metadata": {},
   "outputs": [
    {
     "name": "stdout",
     "output_type": "stream",
     "text": [
      "neutral     4106\n",
      "positive    3187\n",
      "negative     430\n",
      "Name: Sentiment, dtype: int64\n"
     ]
    }
   ],
   "source": [
    "# Print or analyze the sentiment results as needed\n",
    "print(sentiments_df['Sentiment'].value_counts())  # Display sentiment counts"
   ]
  },
  {
   "cell_type": "code",
   "execution_count": 26,
   "id": "437cb6b8",
   "metadata": {},
   "outputs": [
    {
     "name": "stdout",
     "output_type": "stream",
     "text": [
      "Comment 1:\n",
      "Text: [deleted]\n",
      "Sentiment: neutral\n",
      "\n",
      "Comment 2:\n",
      "Text: Why would Algorand be better than similar blockchains like Cardano, Polkadot, Solana, and One Harmony?\n",
      "\n",
      "Algorand touts that it is secure, scalable and decentralized, but from what I can tell, so are the ones mentioned above.\n",
      "\n",
      "The one thing I notice is that Algorand mentions that it cannot be forked. But other than this, I don't see why Algorand would be superior.\n",
      "\n",
      "Asking to learn and possibly invest\n",
      "Sentiment: positive\n",
      "\n",
      "Comment 3:\n",
      "Text: Do you guys think the value of Algorand is undervalued based on the project and its comparison to Bitcoin? Like... it’s market cap and coin in circulation comparison.\n",
      "Sentiment: neutral\n",
      "\n",
      "Comment 4:\n",
      "Text: [removed]\n",
      "Sentiment: neutral\n",
      "\n",
      "Comment 5:\n",
      "Text: I wrote this article to explain how Algorand Multisig works and what's different from other cryptocurrency's implementations:\n",
      "\n",
      "[https://twitter.com/pipaman/status/1154080072766238721](https://twitter.com/pipaman/status/1154080072766238721)\n",
      "\n",
      "At [Randlabs.io](https://Randlabs.io) we are working to implement a Web wallet that supports both multisig and hardware wallets.\n",
      "Sentiment: neutral\n",
      "\n",
      "Submission 1:\n",
      "Text: [removed]\n",
      "Sentiment: neutral\n",
      "\n",
      "Submission 2:\n",
      "Text: I read the whitepaper and other technical documentation but I still don't understand how the Algorand deal with inevitable netsplits. For example, if North America get disconnected from the Europe for a while how can it not forked?\n",
      "Sentiment: neutral\n",
      "\n",
      "Submission 3:\n",
      "Text: &amp;#x200B;\n",
      "\n",
      "https://preview.redd.it/64gotwqntrs41.png?width=990&amp;format=png&amp;auto=webp&amp;s=527697ea9a6df059199523395832fa6f657bd931\n",
      "\n",
      "Proof-of-stake blockchain Algorand now helps sensible contracts.\n",
      "\n",
      "The Algorand Basis launched an replace to the blockchain’s protocol on Thursday, including decentralized finance (DeFi) options plus the long-awaited sensible contracts. “Algorand 2.0” is the most important enlargement of the community’s capabilities for the reason that community’s launch in June 2019.\n",
      "\n",
      "“With this launch, new options and easy developer assets allow new use circumstances and broader adoption of blockchain general,” Algorand CEO Steve Kokinos mentioned in a assertion.\n",
      "\n",
      "For months Algorand workers have been hinting on the pending growth. It’s the primary time Algorand has supported sensible contracts, the code-driven contracts that may monitor and execute the phrases of formal agreements over time.\n",
      "\n",
      "Algorand’s ASC sensible contracts have back-end variations from the sensible contracts pioneered by blockchains like ethereum. That’s as a result of Algorand’s new in-house programming language Transaction Execution Approval Language (TEAL), is non-Turing-complete.\n",
      "\n",
      "Turing completeness is a measure of a programming language's skill to simulate one other programming language and presumably manipulate its personal programming directions.\n",
      "\n",
      "Practically all trendy programming languages are Turing-complete, however Algorand touts TEAL’s distinction as a function, not a bug. TEAL sensible contracts are safer to jot down and execute, regardless of having extra restricted potential performance, Algorand argues.\n",
      "\n",
      "“We don’t imagine that turing-complete is critical for almost all of the use circumstances,” mentioned Paul Riegle, head of product at Algorand. “It provides immense assault floor and a probably steep efficiency impression.”\n",
      "\n",
      "Easier performance might imply higher safety – or, at the very least, a extra easy path to making sure ASC contract coders don't inadvertently lose property. It's simpler and quicker to examine a sensible contract code for errors when its programming language excludes recursive logic, in response to Hacker Midday.\n",
      "\n",
      "[**READ**  **Square Crypto Is Creating a ‘Lightning Development Kit’ for Bitcoin Wallets**](https://sunriseread.com/square-crypto-is-creating-a-lightning-development-kit-for-bitcoin-wallets/78209/)\n",
      "\n",
      "The usual asset issuance (ASA) operate brings widespread tokenization options to Algorand, and can also be a baseline DeFi instrument.\n",
      "\n",
      "The muse’s developer web page mentioned any asset will be digitized and saved on-chain with ASA.\n",
      "\n",
      "Algorand additionally launched batch transaction performance with the Atomic Transfers function launched Thursday.\n",
      "\n",
      "With the brand new instrument, customers can carry out advanced token transfers – reminiscent of round trades and inner account settlements – in a single transaction, the developer web page mentioned.\n",
      "\n",
      "The muse mentioned that Algorand 2.Zero doesn't impression Algorand’s sharia compliance certification, with different key options remaining unchanged.\n",
      "\n",
      "Algorand has a market capitalization of $108 million, in response to Nomics, and ranks because the 48th-largest blockchain, in response to CoinMarketCap.\n",
      "Sentiment: neutral\n",
      "\n",
      "Submission 4:\n",
      "Text: [removed]\n",
      "Sentiment: neutral\n",
      "\n",
      "Submission 5:\n",
      "Text: [removed]\n",
      "Sentiment: neutral\n",
      "\n"
     ]
    }
   ],
   "source": [
    "# Assuming you have already performed sentiment analysis and stored results in 'sentiments' list\n",
    "# Combine both comments and submissions text into a single list\n",
    "Algorand_text = Algorand_submissions_df['selftext'].dropna().tolist() + Algorand_comments_df['body'].dropna().tolist()\n",
    "\n",
    "\n",
    "# Print the first few comments and submissions with their sentiments\n",
    "for i, (text, sentiment) in enumerate(zip(Algorand_text, sentiments)):\n",
    "    if i >= 10:  # Print the first 10 (5 comments + 5 submissions)\n",
    "        break\n",
    "    if i < 5:\n",
    "        print(f\"Comment {i + 1}:\")\n",
    "    else:\n",
    "        print(f\"Submission {i - 4}:\")\n",
    "    print(\"Text:\", text)\n",
    "    print(\"Sentiment:\", sentiment)\n",
    "    print()\n"
   ]
  },
  {
   "cell_type": "code",
   "execution_count": 29,
   "id": "7d7585e4",
   "metadata": {},
   "outputs": [
    {
     "data": {
      "image/png": "[encoded data removed]",
      "text/plain": [
       "<Figure size 800x600 with 1 Axes>"
      ]
     },
     "metadata": {},
     "output_type": "display_data"
    }
   ],
   "source": [
    "import matplotlib.pyplot as plt\n",
    "import pandas as pd\n",
    "\n",
    "# Assuming you have already performed sentiment analysis and have a DataFrame 'sentiments_df'\n",
    "# with a 'Sentiment' column containing sentiment labels (positive, negative, neutral)\n",
    "\n",
    "# Count the occurrences of each sentiment label\n",
    "sentiment_counts = sentiments_df['Sentiment'].value_counts()\n",
    "\n",
    "# Create a bar plot\n",
    "plt.figure(figsize=(8, 6))\n",
    "sentiment_counts.plot(kind='bar', color=['green', 'red', 'blue'], alpha=0.7)\n",
    "plt.title('Sentiment Analysis of algorand ')\n",
    "plt.xlabel('Sentiment')\n",
    "plt.ylabel('Count')\n",
    "\n",
    "# Annotate the bars with counts\n",
    "for i, count in enumerate(sentiment_counts):\n",
    "    plt.text(i, count, str(count), ha='center', va='bottom', fontsize=12)\n",
    "\n",
    "# Show the plot\n",
    "plt.xticks(rotation=0)\n",
    "plt.tight_layout()\n",
    "plt.show()\n"
   ]
  },
  {
   "cell_type": "markdown",
   "id": "79a9108c",
   "metadata": {},
   "source": [
    "# Emotion Analysis"
   ]
  },
  {
   "cell_type": "code",
   "execution_count": 28,
   "id": "9ec6f5be",
   "metadata": {},
   "outputs": [
    {
     "name": "stdout",
     "output_type": "stream",
     "text": [
      "Requirement already satisfied: transformers in ./opt/anaconda3/lib/python3.9/site-packages (4.24.0)\n",
      "Requirement already satisfied: torch in ./opt/anaconda3/lib/python3.9/site-packages (1.12.1)\n",
      "Requirement already satisfied: numpy>=1.17 in ./opt/anaconda3/lib/python3.9/site-packages (from transformers) (1.23.5)\n",
      "Requirement already satisfied: huggingface-hub<1.0,>=0.10.0 in ./opt/anaconda3/lib/python3.9/site-packages (from transformers) (0.10.1)\n",
      "Requirement already satisfied: tokenizers!=0.11.3,<0.14,>=0.11.1 in ./opt/anaconda3/lib/python3.9/site-packages (from transformers) (0.11.4)\n",
      "Requirement already satisfied: filelock in ./opt/anaconda3/lib/python3.9/site-packages (from transformers) (3.9.0)\n",
      "Requirement already satisfied: requests in ./opt/anaconda3/lib/python3.9/site-packages (from transformers) (2.28.1)\n",
      "Requirement already satisfied: pyyaml>=5.1 in ./opt/anaconda3/lib/python3.9/site-packages (from transformers) (6.0)\n",
      "Requirement already satisfied: regex!=2019.12.17 in ./opt/anaconda3/lib/python3.9/site-packages (from transformers) (2022.7.9)\n",
      "Requirement already satisfied: tqdm>=4.27 in ./opt/anaconda3/lib/python3.9/site-packages (from transformers) (4.64.1)\n",
      "Requirement already satisfied: packaging>=20.0 in ./opt/anaconda3/lib/python3.9/site-packages (from transformers) (22.0)\n",
      "Requirement already satisfied: typing_extensions in ./opt/anaconda3/lib/python3.9/site-packages (from torch) (4.4.0)\n",
      "Requirement already satisfied: charset-normalizer<3,>=2 in ./opt/anaconda3/lib/python3.9/site-packages (from requests->transformers) (2.0.4)\n",
      "Requirement already satisfied: certifi>=2017.4.17 in ./opt/anaconda3/lib/python3.9/site-packages (from requests->transformers) (2022.12.7)\n",
      "Requirement already satisfied: idna<4,>=2.5 in ./opt/anaconda3/lib/python3.9/site-packages (from requests->transformers) (3.4)\n",
      "Requirement already satisfied: urllib3<1.27,>=1.21.1 in ./opt/anaconda3/lib/python3.9/site-packages (from requests->transformers) (1.26.14)\n",
      "Note: you may need to restart the kernel to use updated packages.\n"
     ]
    }
   ],
   "source": [
    "pip install transformers torch"
   ]
  },
  {
   "cell_type": "code",
   "execution_count": null,
   "id": "a02faadf",
   "metadata": {},
   "outputs": [],
   "source": [
    "from transformers import AutoModelForSequenceClassification, AutoTokenizer\n",
    "import torch\n",
    "\n",
    "# Load the pre-trained emotion classification model and tokenizer\n",
    "model_name = \"michellejieli/emotion_text_classifier\"\n",
    "tokenizer = AutoTokenizer.from_pretrained(model_name)\n",
    "model = AutoModelForSequenceClassification.from_pretrained(model_name)\n",
    "\n",
    "# Combine both comments and submissions text into a single list\n",
    "Algorand_text = Algorand_submissions_df['selftext'].dropna().tolist() + Algorand_comments_df['body'].dropna().tolist()\n"
   ]
  },
  {
   "cell_type": "code",
   "execution_count": null,
   "id": "9dc353f9",
   "metadata": {},
   "outputs": [],
   "source": [
    "def get_emotion(text):\n",
    "    inputs = tokenizer(text, return_tensors=\"pt\", truncation=True, padding=True)\n",
    "    with torch.no_grad():\n",
    "        logits = model(**inputs).logits\n",
    "    predicted_class = torch.argmax(logits, dim=1).item()\n",
    "    \n",
    "    # Define the emotion labels corresponding to model output\n",
    "    emotion_labels = [\"anger\", \"fear\", \"joy\", \"sadness\", \"surprise\"]\n",
    "    return emotion_labels[predicted_class]"
   ]
  },
  {
   "cell_type": "code",
   "execution_count": null,
   "id": "e058400f",
   "metadata": {},
   "outputs": [],
   "source": [
    "algorand_combined_df['emotion'] = combined_text.apply(get_emotion)"
   ]
  }
 ],
 "metadata": {
  "kernelspec": {
   "display_name": "Python 3 (ipykernel)",
   "language": "python",
   "name": "python3"
  },
  "language_info": {
   "codemirror_mode": {
    "name": "ipython",
    "version": 3
   },
   "file_extension": ".py",
   "mimetype": "text/x-python",
   "name": "python",
   "nbconvert_exporter": "python",
   "pygments_lexer": "ipython3",
   "version": "3.9.16"
  }
 },
 "nbformat": 4,
 "nbformat_minor": 5
}
