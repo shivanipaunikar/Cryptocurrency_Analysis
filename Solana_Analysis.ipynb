{
 "cells": [
  {
   "cell_type": "code",
   "execution_count": 1,
   "id": "437cdb76",
   "metadata": {},
   "outputs": [
    {
     "name": "stdout",
     "output_type": "stream",
     "text": [
      "Processing: /Users/shivanipaunikar/Downloads/Project- crypto/Solana/SC.zst\n",
      "Completed: /Users/shivanipaunikar/Downloads/Project- crypto/Solana/SC.zst -> /Users/shivanipaunikar/Downloads/Project- crypto/output/SC.json\n",
      "Processing: /Users/shivanipaunikar/Downloads/Project- crypto/Solana/SS.zst\n",
      "Completed: /Users/shivanipaunikar/Downloads/Project- crypto/Solana/SS.zst -> /Users/shivanipaunikar/Downloads/Project- crypto/output/SS.json\n",
      "All files processed.\n"
     ]
    }
   ],
   "source": [
    "import zstandard as zstd\n",
    "import shutil\n",
    "import os\n",
    "\n",
    "def decompress_zst(input_file, output_file, max_samples):\n",
    "    with open(input_file, 'rb') as compressed_file:\n",
    "        decomp = zstd.ZstdDecompressor()\n",
    "        with open(output_file, 'wb') as output:\n",
    "            total_samples = 0\n",
    "            for chunk in decomp.read_to_iter(compressed_file):\n",
    "                output.write(chunk)\n",
    "                total_samples += chunk.count(b'\\n')\n",
    "                if total_samples >= max_samples:\n",
    "                    break\n",
    "\n",
    "# List of input files\n",
    "input_files = ['/Users/shivanipaunikar/Downloads/Project- crypto/Solana/SC.zst', '/Users/shivanipaunikar/Downloads/Project- crypto/Solana/SS.zst']\n",
    "\n",
    "# Output directory where decompressed files will be stored\n",
    "output_directory = '/Users/shivanipaunikar/Downloads/Project- crypto/output'\n",
    "\n",
    "# Maximum number of samples you want to use\n",
    "max_samples = 5000\n",
    "\n",
    "# Create the output directory if it doesn't exist\n",
    "os.makedirs(output_directory, exist_ok=True)\n",
    "\n",
    "# Loop through each input file and decompress\n",
    "for input_file in input_files:\n",
    "    # Generate the output file path by removing the .zst extension and adding .json\n",
    "    output_file = os.path.join(output_directory, os.path.splitext(os.path.basename(input_file))[0] + '.json')\n",
    "    \n",
    "    print(f\"Processing: {input_file}\")\n",
    "    \n",
    "    # Decompress the input file, limiting to max_samples, and save it to the output file path\n",
    "    decompress_zst(input_file, output_file, max_samples)\n",
    "    \n",
    "    print(f\"Completed: {input_file} -> {output_file}\")\n",
    "\n",
    "print(\"All files processed.\")\n"
   ]
  },
  {
   "cell_type": "code",
   "execution_count": 2,
   "id": "d366bc5f",
   "metadata": {},
   "outputs": [
    {
     "name": "stdout",
     "output_type": "stream",
     "text": [
      "Skipping line due to JSON syntax error: {\"all_awardings\":[],\"allow_live_comments\":false,\"archived\":false,\"author\":\"wywycky\",\"author_created_utc\":1566829328,\"author_flair_background_color\":null,\"author_flair_css_class\":null,\"author_flair_richtext\":[],\"author_flair_template_id\":null,\"author_flair_text\":null,\"author_flair_text_color\":null,\"author_flair_type\":\"text\",\"author_fullname\":\"t2_4gcyope7\",\"author_patreon_flair\":false,\"author_premium\":false,\"awarders\":[],\"banned_by\":null,\"can_gild\":true,\"can_mod_post\":false,\"category\":null,\"content_categories\":null,\"contest_mode\":false,\"created_utc\":1628843583,\"discussion_type\"\n",
      "Skipping line due to JSON syntax error: {\"all_awardings\":[],\"archived\":false,\"associated_award\":null,\"author\":\"chokehodl\",\"author_created_utc\":1501303048,\"author_flair_background_color\":null,\"author_flair_css_class\":null,\"author_flair_richtext\":[],\"author_fl\n"
     ]
    }
   ],
   "source": [
    "import pandas as pd\n",
    "import json\n",
    "import os\n",
    "\n",
    "# Define the output directory where the JSON files were decompressed\n",
    "output_directory = '/Users/shivanipaunikar/Downloads/Project- crypto/output'\n",
    "\n",
    "# Function to fix JSON syntax errors\n",
    "def fix_json_syntax(input_file, output_file):\n",
    "    with open(input_file, 'r') as input_json, open(output_file, 'w') as output_json:\n",
    "        for line in input_json:\n",
    "            try:\n",
    "                json_obj = json.loads(line)\n",
    "                corrected_line = json.dumps(json_obj) + '\\n'\n",
    "                output_json.write(corrected_line)\n",
    "            except json.JSONDecodeError as e:\n",
    "                # Handle JSON syntax errors here or simply skip problematic lines\n",
    "                print(f\"Skipping line due to JSON syntax error: {line.strip()}\")\n",
    "                continue\n",
    "\n",
    "# Specify your input and output file paths for fixing 'Ds.json' syntax\n",
    "input_file_path_SS = os.path.join(output_directory, 'SS.json')\n",
    "output_file_path_SS = os.path.join(output_directory, 'SS_fixed.json')\n",
    "\n",
    "# Call the function to fix JSON syntax errors in 'Bs.json'\n",
    "fix_json_syntax(input_file_path_SS, output_file_path_SS)\n",
    "\n",
    "# Specify your input and output file paths for fixing 'Bc.json' syntax\n",
    "input_file_path_SC = os.path.join(output_directory, 'SC.json')\n",
    "output_file_path_SC = os.path.join(output_directory, 'SC_fixed.json')\n",
    "\n",
    "# Call the function to fix JSON syntax errors in 'Bc.json'\n",
    "fix_json_syntax(input_file_path_SC, output_file_path_SC)\n",
    "\n",
    "# Define a function to read JSON data line by line\n",
    "def read_json_lines(file_path):\n",
    "    with open(file_path, 'r') as file:\n",
    "        for line in file:\n",
    "            yield json.loads(line)\n",
    "\n",
    "# Use os.path.join to construct file paths\n",
    "submission_data = list(read_json_lines(output_file_path_SS))  \n",
    "comment_data = list(read_json_lines(output_file_path_SC))  \n",
    "\n",
    "# Create DataFrames\n",
    "submission_df = pd.DataFrame(submission_data)\n",
    "comment_df = pd.DataFrame(comment_data)\n",
    "\n",
    "# Filter for Dogecoin-related data (you may need to adjust the filter)\n",
    "Solana_submissions = submission_df[submission_df['title'].str.contains('Solana', case=False, na=False)]\n",
    "Solana_comments = comment_df[comment_df['body'].str.contains('Solana', case=False, na=False)]\n",
    "\n",
    "# Sample 5000 observations with replacement\n",
    "Solana_submissions_sample = Solana_submissions.sample(n=5000, replace=True)\n",
    "Solana_comments_sample = Solana_comments.sample(n=5000, replace=True)\n",
    "\n",
    "# Export to CSV\n",
    "Solana_submissions_sample.to_csv('Solana_submissions_sample.csv', index=False)\n",
    "Solana_comments_sample.to_csv('Solana_comments_sample.csv', index=False)\n"
   ]
  },
  {
   "cell_type": "code",
   "execution_count": 3,
   "id": "5161e4d5",
   "metadata": {},
   "outputs": [],
   "source": [
    "# Load the CSV files\n",
    "Solana_submissions_df = pd.read_csv('Solana_submissions_sample.csv')\n",
    "Solana_comments_df = pd.read_csv('Solana_comments_sample.csv')\n"
   ]
  },
  {
   "cell_type": "code",
   "execution_count": 4,
   "id": "ad4e9a14",
   "metadata": {},
   "outputs": [
    {
     "name": "stdout",
     "output_type": "stream",
     "text": [
      "Columns in Solana_submissions_df:\n",
      "Index(['approved_by', 'archived', 'author', 'author_flair_background_color',\n",
      "       'author_flair_css_class', 'author_flair_richtext',\n",
      "       'author_flair_template_id', 'author_flair_text',\n",
      "       'author_flair_text_color', 'author_flair_type',\n",
      "       ...\n",
      "       'retrieved_utc', 'top_awarded_type', 'url_overridden_by_dest',\n",
      "       'gallery_data', 'is_gallery', 'poll_data', 'event_end', 'event_is_live',\n",
      "       'event_start', 'view_count'],\n",
      "      dtype='object', length=119)\n",
      "Sample data in Solana_submissions_df:\n",
      "   approved_by archived            author  author_flair_background_color  \\\n",
      "0          NaN     True       Alevtina_io                            NaN   \n",
      "1          NaN    False            ansi09                            NaN   \n",
      "2          NaN     True         everstake                            NaN   \n",
      "3          NaN    False       jstyler2000                            NaN   \n",
      "4          NaN    False  Shyshycatbutwant                            NaN   \n",
      "\n",
      "  author_flair_css_class author_flair_richtext  author_flair_template_id  \\\n",
      "0                    NaN                    []                       NaN   \n",
      "1                    NaN                    []                       NaN   \n",
      "2                    NaN                    []                       NaN   \n",
      "3                    NaN                    []                       NaN   \n",
      "4                    NaN                    []                       NaN   \n",
      "\n",
      "  author_flair_text author_flair_text_color author_flair_type  ...  \\\n",
      "0               NaN                     NaN              text  ...   \n",
      "1               NaN                     NaN              text  ...   \n",
      "2               NaN                     NaN              text  ...   \n",
      "3               NaN                     NaN              text  ...   \n",
      "4               NaN                     NaN              text  ...   \n",
      "\n",
      "   retrieved_utc  top_awarded_type  \\\n",
      "0   1.622919e+09               NaN   \n",
      "1   1.624510e+09               NaN   \n",
      "2   1.622929e+09               NaN   \n",
      "3   1.624507e+09               NaN   \n",
      "4   1.623549e+09               NaN   \n",
      "\n",
      "                              url_overridden_by_dest gallery_data  is_gallery  \\\n",
      "0                                                NaN          NaN         NaN   \n",
      "1                    https://v.redd.it/726en364vo571          NaN         NaN   \n",
      "2  https://github.com/solana-labs/solana/releases...          NaN         NaN   \n",
      "3                                                NaN          NaN         NaN   \n",
      "4                                                NaN          NaN         NaN   \n",
      "\n",
      "   poll_data  event_end  event_is_live  event_start view_count  \n",
      "0        NaN        NaN            NaN          NaN        NaN  \n",
      "1        NaN        NaN            NaN          NaN        NaN  \n",
      "2        NaN        NaN            NaN          NaN        NaN  \n",
      "3        NaN        NaN            NaN          NaN        NaN  \n",
      "4        NaN        NaN            NaN          NaN        NaN  \n",
      "\n",
      "[5 rows x 119 columns]\n",
      "Columns in Solana_comments_df:\n",
      "Index(['archived', 'author', 'author_flair_css_class',\n",
      "       'author_flair_template_id', 'author_flair_text', 'body', 'can_gild',\n",
      "       'can_mod_post', 'controversiality', 'created_utc', 'distinguished',\n",
      "       'edited', 'gilded', 'id', 'is_submitter', 'link_id', 'no_follow',\n",
      "       'parent_id', 'permalink', 'removal_reason', 'retrieved_on', 'score',\n",
      "       'score_hidden', 'send_replies', 'stickied', 'subreddit', 'subreddit_id',\n",
      "       'subreddit_type', 'author_flair_background_color',\n",
      "       'author_flair_text_color', 'rte_mode', 'author_flair_richtext',\n",
      "       'author_flair_type', 'author_created_utc', 'author_fullname',\n",
      "       'collapsed', 'collapsed_reason', 'subreddit_name_prefixed', 'gildings',\n",
      "       'author_patreon_flair', 'quarantined', 'all_awardings', 'awarders',\n",
      "       'locked', 'steward_reports', 'total_awards_received',\n",
      "       'associated_award', 'collapsed_because_crowd_control', 'author_cakeday',\n",
      "       'author_premium', 'treatment_tags', 'top_awarded_type', 'comment_type',\n",
      "       'collapsed_reason_code', 'name', 'retrieved_utc', 'author_is_blocked'],\n",
      "      dtype='object')\n",
      "Sample data in Solana_comments_df:\n",
      "  archived                author author_flair_css_class  \\\n",
      "0      NaN  LyinTed_Resurrection                    NaN   \n",
      "1    False         GhettoCryptoz              volunteer   \n",
      "2    False           HoonCackles                    NaN   \n",
      "3    False         GhettoCryptoz              volunteer   \n",
      "4    False              VegaPopa                    NaN   \n",
      "\n",
      "   author_flair_template_id    author_flair_text  \\\n",
      "0                       NaN                  NaN   \n",
      "1                       NaN  Dom (Volunteer Mod)   \n",
      "2                       NaN                  NaN   \n",
      "3                       NaN  Dom (Volunteer Mod)   \n",
      "4                       NaN                  NaN   \n",
      "\n",
      "                                                body  can_gild can_mod_post  \\\n",
      "0  Truth tends to have a bitter taste to it. Agai...      True        False   \n",
      "1  Just to add to this, to help you visualise fin...      True        False   \n",
      "2  PoH is the fundamental reason for Solana's spe...      True          NaN   \n",
      "3  Congratulations Solana team! Is there an expec...      True        False   \n",
      "4   Love solana too, proof of history is amazing ...      True          NaN   \n",
      "\n",
      "   controversiality  created_utc  ... collapsed_because_crowd_control  \\\n",
      "0                 0   1590191564  ...                             NaN   \n",
      "1                 0   1525586910  ...                             NaN   \n",
      "2                 0   1614991101  ...                             NaN   \n",
      "3                 0   1525344356  ...                             NaN   \n",
      "4                 0   1616878757  ...                             NaN   \n",
      "\n",
      "  author_cakeday  author_premium treatment_tags  top_awarded_type  \\\n",
      "0            NaN           False             []               NaN   \n",
      "1            NaN             NaN            NaN               NaN   \n",
      "2            NaN           False             []               NaN   \n",
      "3            NaN             NaN            NaN               NaN   \n",
      "4            NaN           False             []               NaN   \n",
      "\n",
      "  comment_type  collapsed_reason_code        name retrieved_utc  \\\n",
      "0          NaN                    NaN         NaN           NaN   \n",
      "1          NaN                    NaN         NaN           NaN   \n",
      "2          NaN                    NaN  t1_gpu4oha  1.627130e+09   \n",
      "3          NaN                    NaN         NaN           NaN   \n",
      "4          NaN                    NaN  t1_gsia9n1  1.627294e+09   \n",
      "\n",
      "   author_is_blocked  \n",
      "0                NaN  \n",
      "1                NaN  \n",
      "2                NaN  \n",
      "3                NaN  \n",
      "4                NaN  \n",
      "\n",
      "[5 rows x 57 columns]\n"
     ]
    }
   ],
   "source": [
    "# Display the columns of the DataFrame\n",
    "print(\"Columns in Solana_submissions_df:\")\n",
    "print(Solana_submissions_df.columns)\n",
    "\n",
    "# Display a sample of the DataFrame\n",
    "print(\"Sample data in Solana_submissions_df:\")\n",
    "print(Solana_submissions_df.head())\n",
    "\n",
    "# Repeat the same for Solana_comments_df if needed\n",
    "print(\"Columns in Solana_comments_df:\")\n",
    "print(Solana_comments_df.columns)\n",
    "\n",
    "print(\"Sample data in Solana_comments_df:\")\n",
    "print(Solana_comments_df.head())\n"
   ]
  },
  {
   "cell_type": "code",
   "execution_count": 5,
   "id": "117869a7",
   "metadata": {},
   "outputs": [
    {
     "name": "stdout",
     "output_type": "stream",
     "text": [
      "Range of dates available in Solana_submissions_df: (Timestamp('2018-04-01 01:31:20'), Timestamp('2021-08-13 07:45:24'))\n",
      "Range of dates available in Solana_comments_df: (Timestamp('2018-05-03 10:45:56'), Timestamp('2021-04-09 16:42:21'))\n",
      "\n",
      "Number of posts per day in Solana_submissions_df:\n",
      "created_utc\n",
      "2018-04-01     3\n",
      "2018-04-19     1\n",
      "2018-05-03     2\n",
      "2018-05-04     5\n",
      "2018-05-05     6\n",
      "              ..\n",
      "2021-08-09    26\n",
      "2021-08-10    18\n",
      "2021-08-11    38\n",
      "2021-08-12    28\n",
      "2021-08-13    10\n",
      "Length: 446, dtype: int64\n",
      "\n",
      "Number of comments per day in Solana_comments_df:\n",
      "created_utc\n",
      "2018-05-03    10\n",
      "2018-05-05    12\n",
      "2018-05-06    22\n",
      "2018-05-07     1\n",
      "2018-05-08     3\n",
      "              ..\n",
      "2021-04-05    81\n",
      "2021-04-06    84\n",
      "2021-04-07    78\n",
      "2021-04-08    55\n",
      "2021-04-09    86\n",
      "Length: 279, dtype: int64\n",
      "\n",
      "Number of unique authors per day in Solana_submissions_df:\n",
      "created_utc\n",
      "2018-04-01     1\n",
      "2018-04-19     1\n",
      "2018-05-03     1\n",
      "2018-05-04     2\n",
      "2018-05-05     2\n",
      "              ..\n",
      "2021-08-09    10\n",
      "2021-08-10     9\n",
      "2021-08-11    12\n",
      "2021-08-12    12\n",
      "2021-08-13     4\n",
      "Name: author, Length: 446, dtype: int64\n"
     ]
    }
   ],
   "source": [
    "import pandas as pd\n",
    "\n",
    "# Load the data into DataFrames (assuming you already have them loaded)\n",
    "Solana_submissions_df = pd.read_csv('Solana_submissions_sample.csv')\n",
    "Solana_comments_df = pd.read_csv('Solana_comments_sample.csv')\n",
    "\n",
    "# Convert 'created_utc' columns to datetime objects\n",
    "Solana_submissions_df['created_utc'] = pd.to_datetime(Solana_submissions_df['created_utc'], unit='s')\n",
    "Solana_comments_df['created_utc'] = pd.to_datetime(Solana_comments_df['created_utc'], unit='s')\n",
    "\n",
    "# Calculate the range of dates available\n",
    "date_range_submissions = Solana_submissions_df['created_utc'].min(), Solana_submissions_df['created_utc'].max()\n",
    "date_range_comments = Solana_comments_df['created_utc'].min(), Solana_comments_df['created_utc'].max()\n",
    "\n",
    "print(\"Range of dates available in Solana_submissions_df:\", date_range_submissions)\n",
    "print(\"Range of dates available in Solana_comments_df:\", date_range_comments)\n",
    "\n",
    "# Calculate the number of posts, comments, and authors for each day\n",
    "posts_per_day_submissions = Solana_submissions_df.groupby(Solana_submissions_df['created_utc'].dt.date).size()\n",
    "comments_per_day = Solana_comments_df.groupby(Solana_comments_df['created_utc'].dt.date).size()\n",
    "unique_authors_per_day_submissions = Solana_submissions_df.groupby(Solana_submissions_df['created_utc'].dt.date)['author'].nunique()\n",
    "\n",
    "# Display the results\n",
    "print(\"\\nNumber of posts per day in Solana_submissions_df:\")\n",
    "print(posts_per_day_submissions)\n",
    "print(\"\\nNumber of comments per day in Solana_comments_df:\")\n",
    "print(comments_per_day)\n",
    "print(\"\\nNumber of unique authors per day in Solana_submissions_df:\")\n",
    "print(unique_authors_per_day_submissions)\n"
   ]
  },
  {
   "cell_type": "markdown",
   "id": "3ca774a5",
   "metadata": {},
   "source": [
    "# Topic Modeling"
   ]
  },
  {
   "cell_type": "code",
   "execution_count": 6,
   "id": "c41d4429",
   "metadata": {},
   "outputs": [],
   "source": [
    "import pandas as pd\n",
    "import numpy as np\n",
    "import nltk\n",
    "from nltk.corpus import stopwords\n",
    "from nltk.tokenize import word_tokenize\n",
    "from nltk.stem import WordNetLemmatizer\n",
    "from sklearn.feature_extraction.text import TfidfVectorizer\n",
    "from gensim import models\n",
    "import gensim.corpora as corpora\n",
    "import gensim"
   ]
  },
  {
   "cell_type": "code",
   "execution_count": 7,
   "id": "f872d04c",
   "metadata": {},
   "outputs": [],
   "source": [
    "# Load the data into DataFrames (assuming you already have them loaded)\n",
    "Solana_submissions_df = pd.read_csv('Solana_submissions_sample.csv')\n",
    "Solana_comments_df = pd.read_csv('Solana_comments_sample.csv')\n",
    "\n",
    "# Convert 'created_utc' columns to datetime objects\n",
    "Solana_submissions_df['created_utc'] = pd.to_datetime(Solana_submissions_df['created_utc'], unit='s')\n",
    "Solana_comments_df['created_utc'] = pd.to_datetime(Solana_comments_df['created_utc'], unit='s')\n",
    "\n",
    "# Combine comments and submissions text\n",
    "Solana_text = Solana_submissions_df['selftext'].dropna().tolist() + Solana_comments_df['body'].dropna().tolist()\n"
   ]
  },
  {
   "cell_type": "code",
   "execution_count": 8,
   "id": "d48b1f77",
   "metadata": {},
   "outputs": [
    {
     "name": "stderr",
     "output_type": "stream",
     "text": [
      "[nltk_data] Downloading package stopwords to\n",
      "[nltk_data]     /Users/shivanipaunikar/nltk_data...\n",
      "[nltk_data]   Package stopwords is already up-to-date!\n",
      "[nltk_data] Downloading package punkt to\n",
      "[nltk_data]     /Users/shivanipaunikar/nltk_data...\n",
      "[nltk_data]   Package punkt is already up-to-date!\n"
     ]
    }
   ],
   "source": [
    "# Text preprocessing\n",
    "nltk.download('stopwords')\n",
    "nltk.download('punkt')\n",
    "stop_words = set(stopwords.words('english'))\n",
    "lemmatizer = WordNetLemmatizer()\n",
    "\n",
    "def preprocess_text(text):\n",
    "    tokens = word_tokenize(text.lower())\n",
    "    tokens = [lemmatizer.lemmatize(token) for token in tokens if token.isalnum()]\n",
    "    tokens = [token for token in tokens if token not in stop_words]\n",
    "    return tokens\n",
    "\n",
    "Solana_text = [preprocess_text(text) for text in Solana_text]\n"
   ]
  },
  {
   "cell_type": "code",
   "execution_count": 9,
   "id": "e93b0a6e",
   "metadata": {},
   "outputs": [],
   "source": [
    "# Create a TF-IDF vectorizer\n",
    "tfidf_vectorizer = TfidfVectorizer(max_df=0.95, min_df=2, max_features=1000)"
   ]
  },
  {
   "cell_type": "code",
   "execution_count": 10,
   "id": "640d7d0f",
   "metadata": {},
   "outputs": [],
   "source": [
    "# Apply TF-IDF vectorization\n",
    "Solana_tfidf = tfidf_vectorizer.fit_transform([' '.join(tokens) for tokens in Solana_text])"
   ]
  },
  {
   "cell_type": "code",
   "execution_count": 11,
   "id": "695bb13b",
   "metadata": {},
   "outputs": [
    {
     "name": "stdout",
     "output_type": "stream",
     "text": [
      "Requirement already satisfied: gensim in ./opt/anaconda3/lib/python3.9/site-packages (4.3.0)\n",
      "Requirement already satisfied: matplotlib in ./opt/anaconda3/lib/python3.9/site-packages (3.7.0)\n",
      "Requirement already satisfied: pyLDAvis in ./opt/anaconda3/lib/python3.9/site-packages (3.4.0)\n",
      "Requirement already satisfied: smart-open>=1.8.1 in ./opt/anaconda3/lib/python3.9/site-packages (from gensim) (5.2.1)\n",
      "Requirement already satisfied: scipy>=1.7.0 in ./opt/anaconda3/lib/python3.9/site-packages (from gensim) (1.10.0)\n",
      "Requirement already satisfied: numpy>=1.18.5 in ./opt/anaconda3/lib/python3.9/site-packages (from gensim) (1.23.5)\n",
      "Requirement already satisfied: FuzzyTM>=0.4.0 in ./opt/anaconda3/lib/python3.9/site-packages (from gensim) (2.0.5)\n",
      "Requirement already satisfied: packaging>=20.0 in ./opt/anaconda3/lib/python3.9/site-packages (from matplotlib) (22.0)\n",
      "Requirement already satisfied: fonttools>=4.22.0 in ./opt/anaconda3/lib/python3.9/site-packages (from matplotlib) (4.25.0)\n",
      "Requirement already satisfied: pyparsing>=2.3.1 in ./opt/anaconda3/lib/python3.9/site-packages (from matplotlib) (3.0.9)\n",
      "Requirement already satisfied: pillow>=6.2.0 in ./opt/anaconda3/lib/python3.9/site-packages (from matplotlib) (9.4.0)\n",
      "Requirement already satisfied: importlib-resources>=3.2.0 in ./opt/anaconda3/lib/python3.9/site-packages (from matplotlib) (5.2.0)\n",
      "Requirement already satisfied: cycler>=0.10 in ./opt/anaconda3/lib/python3.9/site-packages (from matplotlib) (0.11.0)\n",
      "Requirement already satisfied: python-dateutil>=2.7 in ./opt/anaconda3/lib/python3.9/site-packages (from matplotlib) (2.8.2)\n",
      "Requirement already satisfied: kiwisolver>=1.0.1 in ./opt/anaconda3/lib/python3.9/site-packages (from matplotlib) (1.4.4)\n",
      "Requirement already satisfied: contourpy>=1.0.1 in ./opt/anaconda3/lib/python3.9/site-packages (from matplotlib) (1.0.5)\n",
      "Requirement already satisfied: setuptools in ./opt/anaconda3/lib/python3.9/site-packages (from pyLDAvis) (65.6.3)\n",
      "Requirement already satisfied: numexpr in ./opt/anaconda3/lib/python3.9/site-packages (from pyLDAvis) (2.8.4)\n",
      "Requirement already satisfied: jinja2 in ./opt/anaconda3/lib/python3.9/site-packages (from pyLDAvis) (3.1.2)\n",
      "Requirement already satisfied: funcy in ./opt/anaconda3/lib/python3.9/site-packages (from pyLDAvis) (1.18)\n",
      "Requirement already satisfied: pandas>=1.3.4 in ./opt/anaconda3/lib/python3.9/site-packages (from pyLDAvis) (1.5.3)\n",
      "Requirement already satisfied: joblib>=1.2.0 in ./opt/anaconda3/lib/python3.9/site-packages (from pyLDAvis) (1.2.0)\n",
      "Requirement already satisfied: scikit-learn>=1.0.0 in ./opt/anaconda3/lib/python3.9/site-packages (from pyLDAvis) (1.2.1)\n",
      "Requirement already satisfied: pyfume in ./opt/anaconda3/lib/python3.9/site-packages (from FuzzyTM>=0.4.0->gensim) (0.2.25)\n",
      "Requirement already satisfied: zipp>=3.1.0 in ./opt/anaconda3/lib/python3.9/site-packages (from importlib-resources>=3.2.0->matplotlib) (3.11.0)\n",
      "Requirement already satisfied: pytz>=2020.1 in ./opt/anaconda3/lib/python3.9/site-packages (from pandas>=1.3.4->pyLDAvis) (2022.7)\n",
      "Requirement already satisfied: six>=1.5 in ./opt/anaconda3/lib/python3.9/site-packages (from python-dateutil>=2.7->matplotlib) (1.16.0)\n",
      "Requirement already satisfied: threadpoolctl>=2.0.0 in ./opt/anaconda3/lib/python3.9/site-packages (from scikit-learn>=1.0.0->pyLDAvis) (2.2.0)\n",
      "Requirement already satisfied: MarkupSafe>=2.0 in ./opt/anaconda3/lib/python3.9/site-packages (from jinja2->pyLDAvis) (2.1.1)\n",
      "Requirement already satisfied: fst-pso in ./opt/anaconda3/lib/python3.9/site-packages (from pyfume->FuzzyTM>=0.4.0->gensim) (1.8.1)\n",
      "Requirement already satisfied: simpful in ./opt/anaconda3/lib/python3.9/site-packages (from pyfume->FuzzyTM>=0.4.0->gensim) (2.10.0)\n",
      "Requirement already satisfied: miniful in ./opt/anaconda3/lib/python3.9/site-packages (from fst-pso->pyfume->FuzzyTM>=0.4.0->gensim) (0.0.6)\n",
      "Requirement already satisfied: requests in ./opt/anaconda3/lib/python3.9/site-packages (from simpful->pyfume->FuzzyTM>=0.4.0->gensim) (2.28.1)\n",
      "Requirement already satisfied: idna<4,>=2.5 in ./opt/anaconda3/lib/python3.9/site-packages (from requests->simpful->pyfume->FuzzyTM>=0.4.0->gensim) (3.4)\n",
      "Requirement already satisfied: certifi>=2017.4.17 in ./opt/anaconda3/lib/python3.9/site-packages (from requests->simpful->pyfume->FuzzyTM>=0.4.0->gensim) (2022.12.7)\n",
      "Requirement already satisfied: urllib3<1.27,>=1.21.1 in ./opt/anaconda3/lib/python3.9/site-packages (from requests->simpful->pyfume->FuzzyTM>=0.4.0->gensim) (1.26.14)\n",
      "Requirement already satisfied: charset-normalizer<3,>=2 in ./opt/anaconda3/lib/python3.9/site-packages (from requests->simpful->pyfume->FuzzyTM>=0.4.0->gensim) (2.0.4)\n",
      "Note: you may need to restart the kernel to use updated packages.\n"
     ]
    }
   ],
   "source": [
    "pip install gensim matplotlib pyLDAvis"
   ]
  },
  {
   "cell_type": "code",
   "execution_count": 13,
   "id": "2260c81c",
   "metadata": {},
   "outputs": [],
   "source": [
    "from gensim.corpora import Dictionary\n",
    "from gensim.models import LdaModel\n",
    "import pyLDAvis.gensim_models as gensimvis\n",
    "import pyLDAvis\n",
    "import matplotlib.pyplot as plt\n",
    "\n",
    "# Assuming you have a list of preprocessed tokens called 'bitcoin_text'\n",
    "# You can replace 'bitcoin_text' with your actual data\n",
    "dictionary = Dictionary([tokens for tokens in Solana_text])\n",
    "corpus = [dictionary.doc2bow(tokens) for tokens in Solana_text]\n",
    "\n",
    "# Perform LDA topic modeling\n",
    "lda_model_Solana = LdaModel(corpus=corpus, id2word=dictionary, num_topics=5, passes=2)"
   ]
  },
  {
   "cell_type": "code",
   "execution_count": 14,
   "id": "a0d6b5be",
   "metadata": {},
   "outputs": [
    {
     "name": "stdout",
     "output_type": "stream",
     "text": [
      "Coherence Score: 0.3577\n"
     ]
    }
   ],
   "source": [
    "from gensim.models import CoherenceModel\n",
    "\n",
    "coherence_model_lda = CoherenceModel(model=lda_model_Solana, texts=Solana_text, dictionary=dictionary, coherence='c_v')\n",
    "coherence_lda = coherence_model_lda.get_coherence()\n",
    "print(f'Coherence Score: {coherence_lda:.4f}')\n"
   ]
  },
  {
   "cell_type": "code",
   "execution_count": 15,
   "id": "63ce7b7c",
   "metadata": {},
   "outputs": [
    {
     "data": {
      "image/png": "[encoded data removed]",
      "text/plain": [
       "<Figure size 1000x600 with 1 Axes>"
      ]
     },
     "metadata": {},
     "output_type": "display_data"
    }
   ],
   "source": [
    "# Define a range of topic numbers to test\n",
    "topics_range = range(2, 11)\n",
    "coherence_scores = []\n",
    "\n",
    "# Calculate coherence scores for different numbers of topics\n",
    "for num_topics in topics_range:\n",
    "    lda_model = LdaModel(corpus=corpus, id2word=dictionary, num_topics=num_topics, passes=2)\n",
    "    coherence_model = CoherenceModel(model=lda_model, texts=Solana_text, dictionary=dictionary, coherence='c_v')\n",
    "    coherence_score = coherence_model.get_coherence()\n",
    "    coherence_scores.append(coherence_score)\n",
    "\n",
    "# Plot the coherence scores\n",
    "plt.figure(figsize=(10, 6))\n",
    "plt.plot(topics_range, coherence_scores, marker='o', linestyle='-', color='b')\n",
    "plt.title('Coherence Scores for Different Numbers of Topics')\n",
    "plt.xlabel('Number of Topics')\n",
    "plt.ylabel('Coherence Score (C_v)')\n",
    "plt.xticks(topics_range)\n",
    "plt.grid(True)\n",
    "plt.show()\n"
   ]
  },
  {
   "cell_type": "code",
   "execution_count": 16,
   "id": "c1553525",
   "metadata": {},
   "outputs": [
    {
     "name": "stdout",
     "output_type": "stream",
     "text": [
      "(0, '0.039*\"solana\" + 0.013*\"wa\" + 0.009*\"transaction\"')\n",
      "(1, '0.042*\"solana\" + 0.009*\"transaction\" + 0.008*\"stake\"')\n",
      "(2, '0.044*\"solana\" + 0.013*\"kin\" + 0.009*\"like\"')\n",
      "(3, '0.014*\"solana\" + 0.012*\"ha\" + 0.012*\"validators\"')\n",
      "(4, '0.092*\"http\" + 0.037*\"solana\" + 0.026*\"amp\"')\n"
     ]
    }
   ],
   "source": [
    "# Print the topics generated by the LDA model\n",
    "topics = lda_model_Solana.print_topics(num_words=3)  # You can adjust the number of words per topic\n",
    "for topic in topics:\n",
    "    print(topic)\n"
   ]
  },
  {
   "cell_type": "markdown",
   "id": "bd598ea6",
   "metadata": {},
   "source": [
    "# Sentiment Analysis"
   ]
  },
  {
   "cell_type": "code",
   "execution_count": 17,
   "id": "220b7798",
   "metadata": {},
   "outputs": [
    {
     "name": "stderr",
     "output_type": "stream",
     "text": [
      "[nltk_data] Downloading package stopwords to\n",
      "[nltk_data]     /Users/shivanipaunikar/nltk_data...\n",
      "[nltk_data]   Package stopwords is already up-to-date!\n",
      "[nltk_data] Downloading package punkt to\n",
      "[nltk_data]     /Users/shivanipaunikar/nltk_data...\n",
      "[nltk_data]   Package punkt is already up-to-date!\n"
     ]
    }
   ],
   "source": [
    "from textblob import TextBlob\n",
    "\n",
    "Solana_text = Solana_submissions_df['selftext'].dropna().tolist() + Solana_comments_df['body'].dropna().tolist()\n",
    "\n",
    "# Preprocess the text data (if you haven't done this already)\n",
    "nltk.download('stopwords')\n",
    "nltk.download('punkt')\n",
    "stop_words = set(stopwords.words('english'))\n",
    "lemmatizer = WordNetLemmatizer()\n",
    "\n",
    "def preprocess_text(text):\n",
    "    tokens = word_tokenize(text.lower())\n",
    "    tokens = [lemmatizer.lemmatize(token) for token in tokens if token.isalnum()]\n",
    "    tokens = [token for token in tokens if token not in stop_words]\n",
    "    return ' '.join(tokens)  # Join tokens into a single string\n",
    "\n",
    "Solana_text = [preprocess_text(text) for text in Solana_text]"
   ]
  },
  {
   "cell_type": "code",
   "execution_count": 18,
   "id": "d410f105",
   "metadata": {},
   "outputs": [
    {
     "name": "stderr",
     "output_type": "stream",
     "text": [
      "[nltk_data] Downloading package stopwords to\n",
      "[nltk_data]     /Users/shivanipaunikar/nltk_data...\n",
      "[nltk_data]   Package stopwords is already up-to-date!\n",
      "[nltk_data] Downloading package punkt to\n",
      "[nltk_data]     /Users/shivanipaunikar/nltk_data...\n",
      "[nltk_data]   Package punkt is already up-to-date!\n"
     ]
    }
   ],
   "source": [
    "# Example preprocessing using NLTK\n",
    "import nltk\n",
    "from nltk.corpus import stopwords\n",
    "from nltk.tokenize import word_tokenize\n",
    "\n",
    "nltk.download('stopwords')\n",
    "nltk.download('punkt')\n",
    "\n",
    "# Define a function to preprocess text\n",
    "def preprocess_text(text):\n",
    "    # Tokenize the text\n",
    "    tokens = word_tokenize(text)\n",
    "    \n",
    "    # Remove stopwords\n",
    "    tokens = [word for word in tokens if word.lower() not in stopwords.words('english')]\n",
    "    \n",
    "    # Other text cleaning steps (e.g., removing punctuation, stemming) can be added\n",
    "    \n",
    "    return \" \".join(tokens)  # Convert tokens back to text\n",
    "\n",
    "# Apply preprocessing to your text data\n",
    "Solana_comments_df['cleaned_text'] = Solana_comments_df['body'].apply(preprocess_text)\n"
   ]
  },
  {
   "cell_type": "code",
   "execution_count": 19,
   "id": "a4fb8bb5",
   "metadata": {},
   "outputs": [],
   "source": [
    "# Define a function to get sentiment\n",
    "def get_sentiment(text):\n",
    "    analysis = TextBlob(text)\n",
    "    polarity = analysis.sentiment.polarity\n",
    "\n",
    "    if polarity > 0.1:\n",
    "        return \"positive\"\n",
    "    elif polarity < -0.1:\n",
    "        return \"negative\"\n",
    "    else:\n",
    "        return \"neutral\""
   ]
  },
  {
   "cell_type": "code",
   "execution_count": 20,
   "id": "97c4fe5b",
   "metadata": {},
   "outputs": [],
   "source": [
    "# Apply sentiment analysis to your preprocessed text data\n",
    "sentiments = [get_sentiment(text) for text in Solana_text]\n"
   ]
  },
  {
   "cell_type": "code",
   "execution_count": 21,
   "id": "801275c1",
   "metadata": {},
   "outputs": [],
   "source": [
    "# Create a DataFrame to store sentiments (optional)\n",
    "sentiments_df = pd.DataFrame({'Sentiment': sentiments})"
   ]
  },
  {
   "cell_type": "code",
   "execution_count": 22,
   "id": "12d50f7f",
   "metadata": {},
   "outputs": [
    {
     "name": "stdout",
     "output_type": "stream",
     "text": [
      "neutral     3879\n",
      "positive    3239\n",
      "negative     434\n",
      "Name: Sentiment, dtype: int64\n"
     ]
    }
   ],
   "source": [
    "# Print or analyze the sentiment results as needed\n",
    "print(sentiments_df['Sentiment'].value_counts())  # Display sentiment counts"
   ]
  },
  {
   "cell_type": "code",
   "execution_count": 24,
   "id": "b8e4816d",
   "metadata": {},
   "outputs": [
    {
     "name": "stdout",
     "output_type": "stream",
     "text": [
      "Comment 1:\n",
      "Text: Удобная подборка ру-ресурсов:  \n",
      "Новость о партнерстве -   \n",
      "[https://forklog.com/ftx-zapustit-detsentralizovannuyu-birzhu-na-blokchejne-solana/](https://forklog.com/ftx-zapustit-detsentralizovannuyu-birzhu-na-blokchejne-solana/)  \n",
      "Ру-группа Solana в Telegram [https://t.me/SolanaRus](https://t.me/SolanaRus)  \n",
      "Ру-группа Serum в Telegram [https://t.me/ProjectSerum\\_Rus](https://t.me/ProjectSerum_Rus) (там есть и White Paper на русском)  \n",
      "Ру-группа FTX в Telegram [https://t.me/FTX\\_Russian\\_Official](https://t.me/FTX_Russian_Official)\n",
      "Sentiment: neutral\n",
      "\n",
      "Comment 2:\n",
      "Text: [removed]\n",
      "Sentiment: neutral\n",
      "\n",
      "Comment 3:\n",
      "Text: [removed]\n",
      "Sentiment: neutral\n",
      "\n",
      "Comment 4:\n",
      "Text: [removed]\n",
      "Sentiment: neutral\n",
      "\n",
      "Comment 5:\n",
      "Text: [removed]\n",
      "Sentiment: neutral\n",
      "\n",
      "Submission 1:\n",
      "Text: New to online wallets and especially for Solana. I have some experience with moving and staking ADA in wallets but am struggling to find some for SOL. I know of some wallets like exodus and stuff but was wanting your guys opinion. \n",
      "\n",
      "What good wallets for staking are there?\n",
      "Sentiment: positive\n",
      "\n",
      "Submission 2:\n",
      "Text: [removed]\n",
      "Sentiment: neutral\n",
      "\n",
      "Submission 3:\n",
      "Text: I unstaked my sol in exodus wallet, but i loss my sol my dont have reward. Which wrong solana or exodus\n",
      "Sentiment: negative\n",
      "\n",
      "Submission 4:\n",
      "Text: [https://quantalysus.com/2018/05/04/ico\\-review\\-solana/](https://quantalysus.com/2018/05/04/ico-review-solana/)\n",
      "\n",
      "[https://medium.com/@quantalysus/project\\-review\\-solana\\-positive\\-outlook\\-22d73e59b55e](https://medium.com/@quantalysus/project-review-solana-positive-outlook-22d73e59b55e)\n",
      "\n",
      "Personally I'd like to see published documentation of their TPS claims but overall I think the project has positioned themselves well based on their whitepaper. I'm going to set up a test node to see what happens.\n",
      "Sentiment: neutral\n",
      "\n",
      "Submission 5:\n",
      "Text: Any Solanamoonshots group?\n",
      "Sentiment: neutral\n",
      "\n"
     ]
    }
   ],
   "source": [
    "# Assuming you have already performed sentiment analysis and stored results in 'sentiments' list\n",
    "# Combine both comments and submissions text into a single list\n",
    "Solana_text = Solana_submissions_df['selftext'].dropna().tolist() + Solana_comments_df['body'].dropna().tolist()\n",
    "\n",
    "\n",
    "# Print the first few comments and submissions with their sentiments\n",
    "for i, (text, sentiment) in enumerate(zip(Solana_text, sentiments)):\n",
    "    if i >= 10:  # Print the first 10 (5 comments + 5 submissions)\n",
    "        break\n",
    "    if i < 5:\n",
    "        print(f\"Comment {i + 1}:\")\n",
    "    else:\n",
    "        print(f\"Submission {i - 4}:\")\n",
    "    print(\"Text:\", text)\n",
    "    print(\"Sentiment:\", sentiment)\n",
    "    print()\n"
   ]
  },
  {
   "cell_type": "code",
   "execution_count": 25,
   "id": "7279f235",
   "metadata": {},
   "outputs": [
    {
     "data": {
      "image/png": "[encoded data removed]",
      "text/plain": [
       "<Figure size 800x600 with 1 Axes>"
      ]
     },
     "metadata": {},
     "output_type": "display_data"
    }
   ],
   "source": [
    "import matplotlib.pyplot as plt\n",
    "import pandas as pd\n",
    "\n",
    "# Assuming you have already performed sentiment analysis and have a DataFrame 'sentiments_df'\n",
    "# with a 'Sentiment' column containing sentiment labels (positive, negative, neutral)\n",
    "\n",
    "# Count the occurrences of each sentiment label\n",
    "sentiment_counts = sentiments_df['Sentiment'].value_counts()\n",
    "\n",
    "# Create a bar plot\n",
    "plt.figure(figsize=(8, 6))\n",
    "sentiment_counts.plot(kind='bar', color=['green', 'red', 'blue'], alpha=0.7)\n",
    "plt.title('Sentiment Analysis of Solana ')\n",
    "plt.xlabel('Sentiment')\n",
    "plt.ylabel('Count')\n",
    "\n",
    "# Annotate the bars with counts\n",
    "for i, count in enumerate(sentiment_counts):\n",
    "    plt.text(i, count, str(count), ha='center', va='bottom', fontsize=12)\n",
    "\n",
    "# Show the plot\n",
    "plt.xticks(rotation=0)\n",
    "plt.tight_layout()\n",
    "plt.show()\n"
   ]
  },
  {
   "cell_type": "markdown",
   "id": "6dd69d3c",
   "metadata": {},
   "source": [
    "# Emotion Analysis"
   ]
  },
  {
   "cell_type": "code",
   "execution_count": 26,
   "id": "0250eed4",
   "metadata": {},
   "outputs": [
    {
     "name": "stdout",
     "output_type": "stream",
     "text": [
      "Requirement already satisfied: transformers in ./opt/anaconda3/lib/python3.9/site-packages (4.24.0)\n",
      "Requirement already satisfied: torch in ./opt/anaconda3/lib/python3.9/site-packages (1.12.1)\n",
      "Requirement already satisfied: regex!=2019.12.17 in ./opt/anaconda3/lib/python3.9/site-packages (from transformers) (2022.7.9)\n",
      "Requirement already satisfied: tqdm>=4.27 in ./opt/anaconda3/lib/python3.9/site-packages (from transformers) (4.64.1)\n",
      "Requirement already satisfied: huggingface-hub<1.0,>=0.10.0 in ./opt/anaconda3/lib/python3.9/site-packages (from transformers) (0.10.1)\n",
      "Requirement already satisfied: tokenizers!=0.11.3,<0.14,>=0.11.1 in ./opt/anaconda3/lib/python3.9/site-packages (from transformers) (0.11.4)\n",
      "Requirement already satisfied: pyyaml>=5.1 in ./opt/anaconda3/lib/python3.9/site-packages (from transformers) (6.0)\n",
      "Requirement already satisfied: numpy>=1.17 in ./opt/anaconda3/lib/python3.9/site-packages (from transformers) (1.23.5)\n",
      "Requirement already satisfied: packaging>=20.0 in ./opt/anaconda3/lib/python3.9/site-packages (from transformers) (22.0)\n",
      "Requirement already satisfied: requests in ./opt/anaconda3/lib/python3.9/site-packages (from transformers) (2.28.1)\n",
      "Requirement already satisfied: filelock in ./opt/anaconda3/lib/python3.9/site-packages (from transformers) (3.9.0)\n",
      "Requirement already satisfied: typing_extensions in ./opt/anaconda3/lib/python3.9/site-packages (from torch) (4.4.0)\n",
      "Requirement already satisfied: idna<4,>=2.5 in ./opt/anaconda3/lib/python3.9/site-packages (from requests->transformers) (3.4)\n",
      "Requirement already satisfied: urllib3<1.27,>=1.21.1 in ./opt/anaconda3/lib/python3.9/site-packages (from requests->transformers) (1.26.14)\n",
      "Requirement already satisfied: certifi>=2017.4.17 in ./opt/anaconda3/lib/python3.9/site-packages (from requests->transformers) (2022.12.7)\n",
      "Requirement already satisfied: charset-normalizer<3,>=2 in ./opt/anaconda3/lib/python3.9/site-packages (from requests->transformers) (2.0.4)\n",
      "Note: you may need to restart the kernel to use updated packages.\n"
     ]
    }
   ],
   "source": [
    "pip install transformers torch"
   ]
  },
  {
   "cell_type": "code",
   "execution_count": null,
   "id": "bc48a779",
   "metadata": {},
   "outputs": [],
   "source": [
    "from transformers import AutoModelForSequenceClassification, AutoTokenizer\n",
    "import torch\n",
    "\n",
    "# Load the pre-trained emotion classification model and tokenizer\n",
    "model_name = \"michellejieli/emotion_text_classifier\"\n",
    "tokenizer = AutoTokenizer.from_pretrained(model_name)\n",
    "model = AutoModelForSequenceClassification.from_pretrained(model_name)\n",
    "\n",
    "# Combine both comments and submissions text into a single list\n",
    "Solana_text = Dogecoin_submissions_df['selftext'].dropna().tolist() + Dogecoin_comments_df['body'].dropna().tolist()\n"
   ]
  },
  {
   "cell_type": "code",
   "execution_count": null,
   "id": "a017e0a3",
   "metadata": {},
   "outputs": [],
   "source": [
    "def get_emotion(text):\n",
    "    inputs = tokenizer(text, return_tensors=\"pt\", truncation=True, padding=True)\n",
    "    with torch.no_grad():\n",
    "        logits = model(**inputs).logits\n",
    "    predicted_class = torch.argmax(logits, dim=1).item()\n",
    "    \n",
    "    # Define the emotion labels corresponding to model output\n",
    "    emotion_labels = [\"anger\", \"fear\", \"joy\", \"sadness\", \"surprise\"]\n",
    "    return emotion_labels[predicted_class]"
   ]
  },
  {
   "cell_type": "code",
   "execution_count": null,
   "id": "2ae2434a",
   "metadata": {},
   "outputs": [],
   "source": [
    "Solana_combined_df['emotion'] = combined_text.apply(get_emotion)"
   ]
  }
 ],
 "metadata": {
  "kernelspec": {
   "display_name": "Python 3 (ipykernel)",
   "language": "python",
   "name": "python3"
  },
  "language_info": {
   "codemirror_mode": {
    "name": "ipython",
    "version": 3
   },
   "file_extension": ".py",
   "mimetype": "text/x-python",
   "name": "python",
   "nbconvert_exporter": "python",
   "pygments_lexer": "ipython3",
   "version": "3.9.16"
  }
 },
 "nbformat": 4,
 "nbformat_minor": 5
}
