{
 "cells": [
  {
   "cell_type": "markdown",
   "id": "69ae8aff",
   "metadata": {},
   "source": [
    "# LiteCoin_Data_Analysis \n",
    "Data Collection and Summary Stats\n"
   ]
  },
  {
   "cell_type": "code",
   "execution_count": 2,
   "id": "01bbedd2",
   "metadata": {},
   "outputs": [
    {
     "name": "stdout",
     "output_type": "stream",
     "text": [
      "Processing: /Users/shivanipaunikar/Downloads/Project- crypto/Litecoin/LC.zst\n",
      "Completed: /Users/shivanipaunikar/Downloads/Project- crypto/Litecoin/LC.zst -> /Users/shivanipaunikar/Downloads/Project- crypto/output/LC.json\n",
      "Processing: /Users/shivanipaunikar/Downloads/Project- crypto/Litecoin/LS.zst\n",
      "Completed: /Users/shivanipaunikar/Downloads/Project- crypto/Litecoin/LS.zst -> /Users/shivanipaunikar/Downloads/Project- crypto/output/LS.json\n",
      "All files processed.\n"
     ]
    }
   ],
   "source": [
    "import zstandard as zstd\n",
    "import shutil\n",
    "import os\n",
    "\n",
    "def decompress_zst(input_file, output_file, max_samples):\n",
    "    with open(input_file, 'rb') as compressed_file:\n",
    "        decomp = zstd.ZstdDecompressor()\n",
    "        with open(output_file, 'wb') as output:\n",
    "            total_samples = 0\n",
    "            for chunk in decomp.read_to_iter(compressed_file):\n",
    "                output.write(chunk)\n",
    "                total_samples += chunk.count(b'\\n')\n",
    "                if total_samples >= max_samples:\n",
    "                    break\n",
    "\n",
    "# List of input files\n",
    "input_files = ['/Users/shivanipaunikar/Downloads/Project- crypto/Litecoin/LC.zst', '/Users/shivanipaunikar/Downloads/Project- crypto/Litecoin/LS.zst']\n",
    "\n",
    "# Output directory where decompressed files will be stored\n",
    "output_directory = '/Users/shivanipaunikar/Downloads/Project- crypto/output'\n",
    "\n",
    "# Maximum number of samples you want to use\n",
    "max_samples = 5000\n",
    "\n",
    "# Create the output directory if it doesn't exist\n",
    "os.makedirs(output_directory, exist_ok=True)\n",
    "\n",
    "# Loop through each input file and decompress\n",
    "for input_file in input_files:\n",
    "    # Generate the output file path by removing the .zst extension and adding .json\n",
    "    output_file = os.path.join(output_directory, os.path.splitext(os.path.basename(input_file))[0] + '.json')\n",
    "    \n",
    "    print(f\"Processing: {input_file}\")\n",
    "    \n",
    "    # Decompress the input file, limiting to max_samples, and save it to the output file path\n",
    "    decompress_zst(input_file, output_file, max_samples)\n",
    "    \n",
    "    print(f\"Completed: {input_file} -> {output_file}\")\n",
    "\n",
    "print(\"All files processed.\")\n"
   ]
  },
  {
   "cell_type": "code",
   "execution_count": 3,
   "id": "37b92133",
   "metadata": {},
   "outputs": [
    {
     "name": "stdout",
     "output_type": "stream",
     "text": [
      "Skipping line due to JSON syntax error: {\"author_flair_css_class\":null,\"ups\":1,\"media\":null,\"link_flair_css_class\":null,\"is_self\":true,\"created_utc\":1386099234,\"selftext\":\"I made two iWidgets this weekend, and figured I'd give them out for anyone else that's interested in using them.\\n\\n1. [CryptoExchangeIWidget](https://sourceforge.net/projects/cryptoexchangeiwidget/)\\n  - This iWidget shows the current exhange rates for BTC/LTC/USD from BTC-e.\\n2. [LTCMinterIWidget](https://sourceforge.net/projects/ltcminteriwidget/)\\n  - This iWidget shows your miner data, and supports WeMineLTC and Give-Me-Coins.\\n\\n[Here is a screenshot of both iWidgets.](http://i.imgur.com/Y2KxG4T.jpg)\\n\\nThe CryptoExchangeIWidget iWidget is the second one down, and the bottom two are both versions of LTCMinterIWidget (as you can see, I don't use Give-Me-Coins, so the values are all 0s).\\n\\nIt's probably pretty obvious that I'm not much of a designer, so let me know what you think would help with the appearance, or anything else I should change.\\n\\nIf you do end up using them and end up liking them, please feel free to donate:\\n\\nLTC: LSRskGFsbMPuJVjjXzb1zK2AZN2FUG26Rf\",\"stickied\":false,\"subreddit\":\"litecoin\",\"url\":\"http://www.reddit.com/r/litecoin/comments/1s0jkh/btcltcusd_exchange_iwidget_and_ltc_miner_pool/\",\"subreddit_id\":\"t5_2szgd\",\"title\":\"BTC/LTC/USD Exchange iWidget and LTC Miner Pool iWidget for Jailbroken iOS\",\"author\":\"atomicUpdate\",\"link_flair_text\":null,\"secure_media\":null,\"banned_by\":null,\"author_flair_text\":null,\"permalink\":\"/r/litecoin/comments/1s0jkh/btcltcusd_exchange_iwidget_and_ltc_miner_pool/\",\"score\":1,\"domain\":\"self.litecoin\",\"id\":\"1s0jkh\",\"num_comments\":2,\"user_reports\":[],\"over_18\":false,\"secure_media_embed\":{},\"media_embed\":{},\"gilded\":0,\"report_reasons\":null,\"distinguished\":null,\"downs\":0,\"edited\":false,\"thumbnail\":\"self\",\"retrieved_on\":1411519300,\"mod_reports\":[],\"selftext_html\":\"&lt;!-- SC_OFF --&gt;&lt;div class=\\\"md\\\"&gt;&lt;p&gt;I made two iWidgets this weekend, and figured I&amp;#39;d give them out for anyone else that&amp;#39;s interested in using them.&lt;/p&gt;\\n\\n&lt;ol&gt;\\n&lt;li&gt;&lt;a href=\\\"https://sourceforge.net/projects/cryptoexchangeiwidget/\\\"&gt;CryptoExchangeIWidget&lt;/a&gt;\\n\\n&lt;ul&gt;\\n&lt;li&gt;This iWidget shows the current exhange rates for BTC/LTC/USD from BTC-e.&lt;/li&gt;\\n&lt;/ul&gt;&lt;/li&gt;\\n&lt;li&gt;&lt;a href=\\\"https://sourceforge.net/projects/ltcminteriwidget/\\\"&gt;LTCMinterIWidget&lt;/a&gt;\\n\\n&lt;\n"
     ]
    }
   ],
   "source": [
    "import pandas as pd\n",
    "import json\n",
    "import os\n",
    "\n",
    "# Define the output directory where the JSON files were decompressed\n",
    "output_directory = '/Users/shivanipaunikar/Downloads/Project- crypto/output'\n",
    "\n",
    "# Function to fix JSON syntax errors\n",
    "def fix_json_syntax(input_file, output_file):\n",
    "    with open(input_file, 'r') as input_json, open(output_file, 'w') as output_json:\n",
    "        for line in input_json:\n",
    "            try:\n",
    "                json_obj = json.loads(line)\n",
    "                corrected_line = json.dumps(json_obj) + '\\n'\n",
    "                output_json.write(corrected_line)\n",
    "            except json.JSONDecodeError as e:\n",
    "                # Handle JSON syntax errors here or simply skip problematic lines\n",
    "                print(f\"Skipping line due to JSON syntax error: {line.strip()}\")\n",
    "                continue\n",
    "\n",
    "# Specify your input and output file paths for fixing 'Bs.json' syntax\n",
    "input_file_path_Ls = os.path.join(output_directory, 'Ls.json')\n",
    "output_file_path_Ls = os.path.join(output_directory, 'Ls_fixed.json')\n",
    "\n",
    "# Call the function to fix JSON syntax errors in 'Bs.json'\n",
    "fix_json_syntax(input_file_path_Ls, output_file_path_Ls)\n",
    "\n",
    "# Specify your input and output file paths for fixing 'Bc.json' syntax\n",
    "input_file_path_Lc = os.path.join(output_directory, 'Lc.json')\n",
    "output_file_path_Lc = os.path.join(output_directory, 'Lc_fixed.json')\n",
    "\n",
    "# Call the function to fix JSON syntax errors in 'Bc.json'\n",
    "fix_json_syntax(input_file_path_Lc, output_file_path_Lc)\n",
    "\n",
    "# Define a function to read JSON data line by line\n",
    "def read_json_lines(file_path):\n",
    "    with open(file_path, 'r') as file:\n",
    "        for line in file:\n",
    "            yield json.loads(line)\n",
    "\n",
    "# Use os.path.join to construct file paths\n",
    "submission_data = list(read_json_lines(output_file_path_Ls))  \n",
    "comment_data = list(read_json_lines(output_file_path_Lc))  \n",
    "\n",
    "# Create DataFrames\n",
    "submission_df = pd.DataFrame(submission_data)\n",
    "comment_df = pd.DataFrame(comment_data)\n",
    "\n",
    "# Filter for Bitcoin-related data (you may need to adjust the filter)\n",
    "Litecoin_submissions = submission_df[submission_df['title'].str.contains('Litecoin', case=False, na=False)]\n",
    "Litecoin_comments = comment_df[comment_df['body'].str.contains('Litecoin', case=False, na=False)]\n",
    "\n",
    "# Sample 5000 observations with replacement\n",
    "Litecoin_submissions_sample = Litecoin_submissions.sample(n=5000, replace=True)\n",
    "Litecoin_comments_sample = Litecoin_comments.sample(n=5000, replace=True)\n",
    "\n",
    "# Export to CSV\n",
    "Litecoin_submissions_sample.to_csv('Litecoin_submissions_sample.csv', index=False)\n",
    "Litecoin_comments_sample.to_csv('Litecoin_comments_sample.csv', index=False)\n"
   ]
  },
  {
   "cell_type": "code",
   "execution_count": 4,
   "id": "91d840c6",
   "metadata": {},
   "outputs": [],
   "source": [
    "# Load the CSV files\n",
    "Litecoin_submissions_df = pd.read_csv('Litecoin_submissions_sample.csv')\n",
    "Litecoin_comments_df = pd.read_csv('Litecoin_comments_sample.csv')\n"
   ]
  },
  {
   "cell_type": "code",
   "execution_count": 5,
   "id": "b0f80e79",
   "metadata": {},
   "outputs": [
    {
     "name": "stdout",
     "output_type": "stream",
     "text": [
      "Columns in Litecoin_submissions_df:\n",
      "Index(['downs', 'link_flair_text', 'distinguished', 'media', 'url',\n",
      "       'link_flair_css_class', 'id', 'edited', 'num_reports', 'created_utc',\n",
      "       'banned_by', 'name', 'subreddit', 'title', 'author_flair_text',\n",
      "       'is_self', 'author', 'media_embed', 'permalink',\n",
      "       'author_flair_css_class', 'selftext', 'domain', 'num_comments', 'likes',\n",
      "       'clicked', 'thumbnail', 'saved', 'subreddit_id', 'ups', 'approved_by',\n",
      "       'score', 'selftext_html', 'created', 'hidden', 'over_18', 'mod_reports',\n",
      "       'user_reports', 'stickied', 'secure_media', 'secure_media_embed',\n",
      "       'report_reasons', 'gilded', 'retrieved_on'],\n",
      "      dtype='object')\n",
      "Sample data in Litecoin_submissions_df:\n",
      "   downs  link_flair_text distinguished media  \\\n",
      "0      0              NaN           NaN   NaN   \n",
      "1      0              NaN           NaN   NaN   \n",
      "2      0              NaN           NaN   NaN   \n",
      "3      0              NaN           NaN   NaN   \n",
      "4      0              NaN           NaN   NaN   \n",
      "\n",
      "                                                 url  link_flair_css_class  \\\n",
      "0  http://www.reddit.com/r/litecoin/comments/1aw4...                   NaN   \n",
      "1  http://www.reddit.com/r/litecoin/comments/1gn9...                   NaN   \n",
      "2  http://www.reddit.com/r/litecoin/comments/1ngw...                   NaN   \n",
      "3  http://www.reddit.com/r/litecoin/comments/1bjk...                   NaN   \n",
      "4  http://www.reddit.com/r/litecoin/comments/1rj7...                   NaN   \n",
      "\n",
      "       id      edited  num_reports  created_utc  ...  hidden over_18  \\\n",
      "0  1aw41c       False          NaN   1364089304  ...     NaN   False   \n",
      "1  1gn9pj       False          NaN   1371634588  ...     NaN   False   \n",
      "2  1ngwry  1380586457          NaN   1380579632  ...     NaN   False   \n",
      "3  1bjk5i       False          NaN   1364938312  ...     NaN   False   \n",
      "4  1rj709  1385509627          NaN   1385509244  ...     NaN   False   \n",
      "\n",
      "  mod_reports user_reports stickied  secure_media secure_media_embed  \\\n",
      "0          []           []    False           NaN                 {}   \n",
      "1          []           []    False           NaN                 {}   \n",
      "2          []           []    False           NaN                 {}   \n",
      "3          []           []    False           NaN                 {}   \n",
      "4          []           []    False           NaN                 {}   \n",
      "\n",
      "  report_reasons gilded  retrieved_on  \n",
      "0            NaN    0.0  1.412950e+09  \n",
      "1            NaN    0.0  1.412196e+09  \n",
      "2            NaN    0.0  1.411767e+09  \n",
      "3            NaN    0.0  1.412917e+09  \n",
      "4            NaN    0.0  1.411546e+09  \n",
      "\n",
      "[5 rows x 43 columns]\n",
      "Columns in Litecoin_comments_df:\n",
      "Index(['ups', 'parent_id', 'link_id', 'gilded', 'author_flair_text', 'downs',\n",
      "       'body', 'distinguished', 'retrieved_on', 'archived', 'score_hidden',\n",
      "       'author', 'score', 'created_utc', 'subreddit', 'id', 'edited', 'name',\n",
      "       'controversiality', 'subreddit_id', 'author_flair_css_class',\n",
      "       'removal_reason'],\n",
      "      dtype='object')\n",
      "Sample data in Litecoin_comments_df:\n",
      "   ups   parent_id    link_id  gilded author_flair_text  downs  \\\n",
      "0    2  t1_c9cx371  t3_1c3cvp       0               NaN      0   \n",
      "1    2   t3_1blixr  t3_1blixr       0               NaN      0   \n",
      "2    1   t3_1bj4fy  t3_1bj4fy       0               NaN      0   \n",
      "3    1   t3_1bp91x  t3_1bp91x       0               NaN      0   \n",
      "4    1   t3_1agtu4  t3_1agtu4       0               NaN      0   \n",
      "\n",
      "                                                body distinguished  \\\n",
      "0  I just tried to send LTC for the first time an...           NaN   \n",
      "1  I simply traded some of my Bitcoin to Litecoin...           NaN   \n",
      "2  It would be good to have accounts at other poo...           NaN   \n",
      "3  Chips are now equal to 1/1000th of a litecoin....           NaN   \n",
      "4  Someone wanted to commission me once for a Lit...           NaN   \n",
      "\n",
      "   retrieved_on  archived  ...  score created_utc  subreddit       id edited  \\\n",
      "0    1431596377      True  ...      2  1365679182   litecoin  c9cylnw  False   \n",
      "1    1431684418      True  ...      2  1365019710   litecoin  c97v5uq  False   \n",
      "2    1431697074      True  ...      1  1364930454   litecoin  c974rd2  False   \n",
      "3    1431652540      True  ...      1  1365263751   litecoin  c99pkqf  False   \n",
      "4    1431639044      True  ...      1  1363731593   litecoin  c8yqahw  False   \n",
      "\n",
      "         name controversiality subreddit_id  author_flair_css_class  \\\n",
      "0  t1_c9cylnw                0     t5_2szgd                     NaN   \n",
      "1  t1_c97v5uq                0     t5_2szgd                     NaN   \n",
      "2  t1_c974rd2                0     t5_2szgd                     NaN   \n",
      "3  t1_c99pkqf                0     t5_2szgd                     NaN   \n",
      "4  t1_c8yqahw                0     t5_2szgd                     NaN   \n",
      "\n",
      "  removal_reason  \n",
      "0            NaN  \n",
      "1            NaN  \n",
      "2            NaN  \n",
      "3            NaN  \n",
      "4            NaN  \n",
      "\n",
      "[5 rows x 22 columns]\n"
     ]
    }
   ],
   "source": [
    "# Display the columns of the DataFrame\n",
    "print(\"Columns in Litecoin_submissions_df:\")\n",
    "print(Litecoin_submissions_df.columns)\n",
    "\n",
    "# Display a sample of the DataFrame\n",
    "print(\"Sample data in Litecoin_submissions_df:\")\n",
    "print(Litecoin_submissions_df.head())\n",
    "\n",
    "# Repeat the same for litecoin_comments_df if needed\n",
    "print(\"Columns in Litecoin_comments_df:\")\n",
    "print(Litecoin_comments_df.columns)\n",
    "\n",
    "print(\"Sample data in Litecoin_comments_df:\")\n",
    "print(Litecoin_comments_df.head())\n"
   ]
  },
  {
   "cell_type": "code",
   "execution_count": 6,
   "id": "38235405",
   "metadata": {},
   "outputs": [
    {
     "name": "stdout",
     "output_type": "stream",
     "text": [
      "Range of dates available in bitcoin_submissions_df: (Timestamp('2011-10-16 15:04:05'), Timestamp('2013-12-03 22:19:04'))\n",
      "Range of dates available in bitcoin_comments_df: (Timestamp('2012-02-09 07:52:27'), Timestamp('2013-04-13 14:03:58'))\n",
      "\n",
      "Number of posts per day in Litecoin_submissions_df:\n",
      "created_utc\n",
      "2011-10-16      1\n",
      "2011-10-25      4\n",
      "2012-01-11      2\n",
      "2012-02-08      4\n",
      "2012-02-09      3\n",
      "             ... \n",
      "2013-11-29    332\n",
      "2013-11-30    214\n",
      "2013-12-01    116\n",
      "2013-12-02    102\n",
      "2013-12-03     16\n",
      "Length: 296, dtype: int64\n",
      "\n",
      "Number of comments per day in Litecoin_comments_df:\n",
      "created_utc\n",
      "2012-02-09     18\n",
      "2012-02-10      8\n",
      "2012-02-11      6\n",
      "2012-02-15      6\n",
      "2012-03-15     10\n",
      "2012-03-17      5\n",
      "2012-03-19      7\n",
      "2012-04-29      6\n",
      "2012-11-02      8\n",
      "2013-01-20      3\n",
      "2013-02-04     16\n",
      "2013-02-05      5\n",
      "2013-02-11     22\n",
      "2013-02-14      6\n",
      "2013-02-25      4\n",
      "2013-02-27      6\n",
      "2013-03-05     23\n",
      "2013-03-06     15\n",
      "2013-03-07      6\n",
      "2013-03-08     20\n",
      "2013-03-09      5\n",
      "2013-03-10     19\n",
      "2013-03-11     94\n",
      "2013-03-12     43\n",
      "2013-03-13     13\n",
      "2013-03-14     54\n",
      "2013-03-15     47\n",
      "2013-03-16      5\n",
      "2013-03-17     42\n",
      "2013-03-19     35\n",
      "2013-03-20     27\n",
      "2013-03-21     26\n",
      "2013-03-22     39\n",
      "2013-03-23      6\n",
      "2013-03-24     48\n",
      "2013-03-25     60\n",
      "2013-03-26     46\n",
      "2013-03-27     64\n",
      "2013-03-28    127\n",
      "2013-03-29     54\n",
      "2013-03-30     42\n",
      "2013-03-31    140\n",
      "2013-04-01    131\n",
      "2013-04-02    276\n",
      "2013-04-03    253\n",
      "2013-04-04    175\n",
      "2013-04-05    366\n",
      "2013-04-06    314\n",
      "2013-04-07    189\n",
      "2013-04-08    188\n",
      "2013-04-09    630\n",
      "2013-04-10    448\n",
      "2013-04-11    343\n",
      "2013-04-12    296\n",
      "2013-04-13    155\n",
      "dtype: int64\n",
      "\n",
      "Number of unique authors per day in Litecoin_submissions_df:\n",
      "created_utc\n",
      "2011-10-16      1\n",
      "2011-10-25      1\n",
      "2012-01-11      1\n",
      "2012-02-08      1\n",
      "2012-02-09      2\n",
      "             ... \n",
      "2013-11-29    133\n",
      "2013-11-30     84\n",
      "2013-12-01     44\n",
      "2013-12-02     40\n",
      "2013-12-03      7\n",
      "Name: author, Length: 296, dtype: int64\n"
     ]
    }
   ],
   "source": [
    "import pandas as pd\n",
    "\n",
    "# Load the data into DataFrames (assuming you already have them loaded)\n",
    "Litecoin_submissions_df = pd.read_csv('Litecoin_submissions_sample.csv')\n",
    "Litecoin_comments_df = pd.read_csv('Litecoin_comments_sample.csv')\n",
    "\n",
    "# Convert 'created_utc' columns to datetime objects\n",
    "Litecoin_submissions_df['created_utc'] = pd.to_datetime(Litecoin_submissions_df['created_utc'], unit='s')\n",
    "Litecoin_comments_df['created_utc'] = pd.to_datetime(Litecoin_comments_df['created_utc'], unit='s')\n",
    "\n",
    "# Calculate the range of dates available\n",
    "date_range_submissions = Litecoin_submissions_df['created_utc'].min(), Litecoin_submissions_df['created_utc'].max()\n",
    "date_range_comments = Litecoin_comments_df['created_utc'].min(), Litecoin_comments_df['created_utc'].max()\n",
    "\n",
    "print(\"Range of dates available in bitcoin_submissions_df:\", date_range_submissions)\n",
    "print(\"Range of dates available in bitcoin_comments_df:\", date_range_comments)\n",
    "\n",
    "# Calculate the number of posts, comments, and authors for each day\n",
    "posts_per_day_submissions = Litecoin_submissions_df.groupby(Litecoin_submissions_df['created_utc'].dt.date).size()\n",
    "comments_per_day = Litecoin_comments_df.groupby(Litecoin_comments_df['created_utc'].dt.date).size()\n",
    "unique_authors_per_day_submissions = Litecoin_submissions_df.groupby(Litecoin_submissions_df['created_utc'].dt.date)['author'].nunique()\n",
    "\n",
    "# Display the results\n",
    "print(\"\\nNumber of posts per day in Litecoin_submissions_df:\")\n",
    "print(posts_per_day_submissions)\n",
    "print(\"\\nNumber of comments per day in Litecoin_comments_df:\")\n",
    "print(comments_per_day)\n",
    "print(\"\\nNumber of unique authors per day in Litecoin_submissions_df:\")\n",
    "print(unique_authors_per_day_submissions)\n"
   ]
  },
  {
   "cell_type": "markdown",
   "id": "385be28d",
   "metadata": {},
   "source": [
    "# Topic Modeling "
   ]
  },
  {
   "cell_type": "code",
   "execution_count": 7,
   "id": "aa0c7058",
   "metadata": {},
   "outputs": [],
   "source": [
    "import pandas as pd\n",
    "import numpy as np\n",
    "import nltk\n",
    "from nltk.corpus import stopwords\n",
    "from nltk.tokenize import word_tokenize\n",
    "from nltk.stem import WordNetLemmatizer\n",
    "from sklearn.feature_extraction.text import TfidfVectorizer\n",
    "from gensim import models\n",
    "import gensim.corpora as corpora\n",
    "import gensim"
   ]
  },
  {
   "cell_type": "code",
   "execution_count": 8,
   "id": "f3a28428",
   "metadata": {},
   "outputs": [],
   "source": [
    "# Load the data into DataFrames (assuming you already have them loaded)\n",
    "Litecoin_submissions_df = pd.read_csv('Litecoin_submissions_sample.csv')\n",
    "Litecoin_comments_df = pd.read_csv('Litecoin_comments_sample.csv')\n",
    "\n",
    "# Convert 'created_utc' columns to datetime objects\n",
    "Litecoin_submissions_df['created_utc'] = pd.to_datetime(Litecoin_submissions_df['created_utc'], unit='s')\n",
    "Litecoin_comments_df['created_utc'] = pd.to_datetime(Litecoin_comments_df['created_utc'], unit='s')\n",
    "\n",
    "# Combine comments and submissions text\n",
    "Litecoin_text = Litecoin_submissions_df['selftext'].dropna().tolist() + Litecoin_comments_df['body'].dropna().tolist()\n"
   ]
  },
  {
   "cell_type": "code",
   "execution_count": 9,
   "id": "c066dad9",
   "metadata": {},
   "outputs": [
    {
     "name": "stderr",
     "output_type": "stream",
     "text": [
      "[nltk_data] Downloading package stopwords to\n",
      "[nltk_data]     /Users/shivanipaunikar/nltk_data...\n",
      "[nltk_data]   Package stopwords is already up-to-date!\n",
      "[nltk_data] Downloading package punkt to\n",
      "[nltk_data]     /Users/shivanipaunikar/nltk_data...\n",
      "[nltk_data]   Package punkt is already up-to-date!\n"
     ]
    }
   ],
   "source": [
    "# Text preprocessing\n",
    "nltk.download('stopwords')\n",
    "nltk.download('punkt')\n",
    "stop_words = set(stopwords.words('english'))\n",
    "lemmatizer = WordNetLemmatizer()\n",
    "\n",
    "def preprocess_text(text):\n",
    "    tokens = word_tokenize(text.lower())\n",
    "    tokens = [lemmatizer.lemmatize(token) for token in tokens if token.isalnum()]\n",
    "    tokens = [token for token in tokens if token not in stop_words]\n",
    "    return tokens\n",
    "\n",
    "Litecoin_text = [preprocess_text(text) for text in Litecoin_text]\n"
   ]
  },
  {
   "cell_type": "code",
   "execution_count": 10,
   "id": "598abc47",
   "metadata": {},
   "outputs": [],
   "source": [
    "# Create a TF-IDF vectorizer\n",
    "tfidf_vectorizer = TfidfVectorizer(max_df=0.95, min_df=2, max_features=1000)"
   ]
  },
  {
   "cell_type": "code",
   "execution_count": 11,
   "id": "7b411ba7",
   "metadata": {},
   "outputs": [],
   "source": [
    "# Apply TF-IDF vectorization\n",
    "Litecoin_tfidf = tfidf_vectorizer.fit_transform([' '.join(tokens) for tokens in Litecoin_text])"
   ]
  },
  {
   "cell_type": "code",
   "execution_count": 12,
   "id": "45e1f385",
   "metadata": {},
   "outputs": [
    {
     "name": "stdout",
     "output_type": "stream",
     "text": [
      "Requirement already satisfied: gensim in ./opt/anaconda3/lib/python3.9/site-packages (4.3.0)\n",
      "Requirement already satisfied: matplotlib in ./opt/anaconda3/lib/python3.9/site-packages (3.7.0)\n",
      "Requirement already satisfied: pyLDAvis in ./opt/anaconda3/lib/python3.9/site-packages (3.4.0)\n",
      "Requirement already satisfied: FuzzyTM>=0.4.0 in ./opt/anaconda3/lib/python3.9/site-packages (from gensim) (2.0.5)\n",
      "Requirement already satisfied: scipy>=1.7.0 in ./opt/anaconda3/lib/python3.9/site-packages (from gensim) (1.10.0)\n",
      "Requirement already satisfied: numpy>=1.18.5 in ./opt/anaconda3/lib/python3.9/site-packages (from gensim) (1.23.5)\n",
      "Requirement already satisfied: smart-open>=1.8.1 in ./opt/anaconda3/lib/python3.9/site-packages (from gensim) (5.2.1)\n",
      "Requirement already satisfied: kiwisolver>=1.0.1 in ./opt/anaconda3/lib/python3.9/site-packages (from matplotlib) (1.4.4)\n",
      "Requirement already satisfied: importlib-resources>=3.2.0 in ./opt/anaconda3/lib/python3.9/site-packages (from matplotlib) (5.2.0)\n",
      "Requirement already satisfied: cycler>=0.10 in ./opt/anaconda3/lib/python3.9/site-packages (from matplotlib) (0.11.0)\n",
      "Requirement already satisfied: fonttools>=4.22.0 in ./opt/anaconda3/lib/python3.9/site-packages (from matplotlib) (4.25.0)\n",
      "Requirement already satisfied: pyparsing>=2.3.1 in ./opt/anaconda3/lib/python3.9/site-packages (from matplotlib) (3.0.9)\n",
      "Requirement already satisfied: contourpy>=1.0.1 in ./opt/anaconda3/lib/python3.9/site-packages (from matplotlib) (1.0.5)\n",
      "Requirement already satisfied: python-dateutil>=2.7 in ./opt/anaconda3/lib/python3.9/site-packages (from matplotlib) (2.8.2)\n",
      "Requirement already satisfied: packaging>=20.0 in ./opt/anaconda3/lib/python3.9/site-packages (from matplotlib) (22.0)\n",
      "Requirement already satisfied: pillow>=6.2.0 in ./opt/anaconda3/lib/python3.9/site-packages (from matplotlib) (9.4.0)\n",
      "Requirement already satisfied: joblib>=1.2.0 in ./opt/anaconda3/lib/python3.9/site-packages (from pyLDAvis) (1.2.0)\n",
      "Requirement already satisfied: jinja2 in ./opt/anaconda3/lib/python3.9/site-packages (from pyLDAvis) (3.1.2)\n",
      "Requirement already satisfied: setuptools in ./opt/anaconda3/lib/python3.9/site-packages (from pyLDAvis) (65.6.3)\n",
      "Requirement already satisfied: numexpr in ./opt/anaconda3/lib/python3.9/site-packages (from pyLDAvis) (2.8.4)\n",
      "Requirement already satisfied: pandas>=1.3.4 in ./opt/anaconda3/lib/python3.9/site-packages (from pyLDAvis) (1.5.3)\n",
      "Requirement already satisfied: scikit-learn>=1.0.0 in ./opt/anaconda3/lib/python3.9/site-packages (from pyLDAvis) (1.2.1)\n",
      "Requirement already satisfied: funcy in ./opt/anaconda3/lib/python3.9/site-packages (from pyLDAvis) (1.18)\n",
      "Requirement already satisfied: pyfume in ./opt/anaconda3/lib/python3.9/site-packages (from FuzzyTM>=0.4.0->gensim) (0.2.25)\n",
      "Requirement already satisfied: zipp>=3.1.0 in ./opt/anaconda3/lib/python3.9/site-packages (from importlib-resources>=3.2.0->matplotlib) (3.11.0)\n",
      "Requirement already satisfied: pytz>=2020.1 in ./opt/anaconda3/lib/python3.9/site-packages (from pandas>=1.3.4->pyLDAvis) (2022.7)\n",
      "Requirement already satisfied: six>=1.5 in ./opt/anaconda3/lib/python3.9/site-packages (from python-dateutil>=2.7->matplotlib) (1.16.0)\n",
      "Requirement already satisfied: threadpoolctl>=2.0.0 in ./opt/anaconda3/lib/python3.9/site-packages (from scikit-learn>=1.0.0->pyLDAvis) (2.2.0)\n",
      "Requirement already satisfied: MarkupSafe>=2.0 in ./opt/anaconda3/lib/python3.9/site-packages (from jinja2->pyLDAvis) (2.1.1)\n",
      "Requirement already satisfied: simpful in ./opt/anaconda3/lib/python3.9/site-packages (from pyfume->FuzzyTM>=0.4.0->gensim) (2.10.0)\n",
      "Requirement already satisfied: fst-pso in ./opt/anaconda3/lib/python3.9/site-packages (from pyfume->FuzzyTM>=0.4.0->gensim) (1.8.1)\n",
      "Requirement already satisfied: miniful in ./opt/anaconda3/lib/python3.9/site-packages (from fst-pso->pyfume->FuzzyTM>=0.4.0->gensim) (0.0.6)\n",
      "Requirement already satisfied: requests in ./opt/anaconda3/lib/python3.9/site-packages (from simpful->pyfume->FuzzyTM>=0.4.0->gensim) (2.28.1)\n",
      "Requirement already satisfied: certifi>=2017.4.17 in ./opt/anaconda3/lib/python3.9/site-packages (from requests->simpful->pyfume->FuzzyTM>=0.4.0->gensim) (2022.12.7)\n",
      "Requirement already satisfied: idna<4,>=2.5 in ./opt/anaconda3/lib/python3.9/site-packages (from requests->simpful->pyfume->FuzzyTM>=0.4.0->gensim) (3.4)\n",
      "Requirement already satisfied: urllib3<1.27,>=1.21.1 in ./opt/anaconda3/lib/python3.9/site-packages (from requests->simpful->pyfume->FuzzyTM>=0.4.0->gensim) (1.26.14)\n",
      "Requirement already satisfied: charset-normalizer<3,>=2 in ./opt/anaconda3/lib/python3.9/site-packages (from requests->simpful->pyfume->FuzzyTM>=0.4.0->gensim) (2.0.4)\n",
      "Note: you may need to restart the kernel to use updated packages.\n"
     ]
    }
   ],
   "source": [
    "pip install gensim matplotlib pyLDAvis"
   ]
  },
  {
   "cell_type": "code",
   "execution_count": 13,
   "id": "430fe559",
   "metadata": {},
   "outputs": [],
   "source": [
    "from gensim.corpora import Dictionary\n",
    "from gensim.models import LdaModel\n",
    "import pyLDAvis.gensim_models as gensimvis\n",
    "import pyLDAvis\n",
    "import matplotlib.pyplot as plt\n",
    "\n",
    "# Assuming you have a list of preprocessed tokens called 'bitcoin_text'\n",
    "# You can replace 'bitcoin_text' with your actual data\n",
    "dictionary = Dictionary([tokens for tokens in Litecoin_text])\n",
    "corpus = [dictionary.doc2bow(tokens) for tokens in Litecoin_text]\n",
    "\n",
    "# Perform LDA topic modeling\n",
    "lda_model_Litecoin = LdaModel(corpus=corpus, id2word=dictionary, num_topics=5, passes=2)\n"
   ]
  },
  {
   "cell_type": "code",
   "execution_count": 14,
   "id": "c25d6ec3",
   "metadata": {},
   "outputs": [
    {
     "name": "stdout",
     "output_type": "stream",
     "text": [
      "Coherence Score: 0.3517\n"
     ]
    }
   ],
   "source": [
    "from gensim.models import CoherenceModel\n",
    "\n",
    "coherence_model_lda = CoherenceModel(model=lda_model_Litecoin, texts=Litecoin_text, dictionary=dictionary, coherence='c_v')\n",
    "coherence_lda = coherence_model_lda.get_coherence()\n",
    "print(f'Coherence Score: {coherence_lda:.4f}')\n"
   ]
  },
  {
   "cell_type": "code",
   "execution_count": 16,
   "id": "c40044b2",
   "metadata": {},
   "outputs": [
    {
     "data": {
      "image/png": "[encoded data removed]",
      "text/plain": [
       "<Figure size 1000x600 with 1 Axes>"
      ]
     },
     "metadata": {},
     "output_type": "display_data"
    }
   ],
   "source": [
    "# Define a range of topic numbers to test\n",
    "topics_range = range(2, 11)\n",
    "coherence_scores = []\n",
    "\n",
    "# Calculate coherence scores for different numbers of topics\n",
    "for num_topics in topics_range:\n",
    "    lda_model = LdaModel(corpus=corpus, id2word=dictionary, num_topics=num_topics, passes=2)\n",
    "    coherence_model = CoherenceModel(model=lda_model, texts=Litecoin_text, dictionary=dictionary, coherence='c_v')\n",
    "    coherence_score = coherence_model.get_coherence()\n",
    "    coherence_scores.append(coherence_score)\n",
    "\n",
    "# Plot the coherence scores\n",
    "plt.figure(figsize=(10, 6))\n",
    "plt.plot(topics_range, coherence_scores, marker='o', linestyle='-', color='b')\n",
    "plt.title('Coherence Scores for Different Numbers of Topics')\n",
    "plt.xlabel('Number of Topics')\n",
    "plt.ylabel('Coherence Score (C_v)')\n",
    "plt.xticks(topics_range)\n",
    "plt.grid(True)\n",
    "plt.show()\n"
   ]
  },
  {
   "cell_type": "code",
   "execution_count": 18,
   "id": "461bf82a",
   "metadata": {},
   "outputs": [
    {
     "name": "stdout",
     "output_type": "stream",
     "text": [
      "(0, '0.048*\"litecoin\" + 0.031*\"bitcoin\" + 0.011*\"mining\" + 0.010*\"would\" + 0.009*\"litecoins\" + 0.008*\"ltc\"')\n",
      "(1, '0.034*\"litecoin\" + 0.011*\"bitcoin\" + 0.008*\"people\" + 0.007*\"ha\" + 0.007*\"http\" + 0.007*\"wallet\"')\n",
      "(2, '0.029*\"litecoins\" + 0.018*\"buy\" + 0.018*\"litecoin\" + 0.017*\"would\" + 0.014*\"bitcoins\" + 0.011*\"ltc\"')\n",
      "(3, '0.020*\"litecoin\" + 0.013*\"ltc\" + 0.011*\"http\" + 0.011*\"mining\" + 0.010*\"address\" + 0.009*\"litecoins\"')\n",
      "(4, '0.058*\"http\" + 0.021*\"litecoin\" + 0.013*\"gt\" + 0.012*\"litecoins\" + 0.009*\"bitcoin\" + 0.008*\"wallet\"')\n"
     ]
    }
   ],
   "source": [
    "# Print the topics generated by the LDA model\n",
    "topics = lda_model_Litecoin.print_topics(num_words=6)  # You can adjust the number of words per topic\n",
    "for topic in topics:\n",
    "    print(topic)\n"
   ]
  },
  {
   "cell_type": "markdown",
   "id": "b5822b0f",
   "metadata": {},
   "source": [
    "# Sentiment Analysis"
   ]
  },
  {
   "cell_type": "code",
   "execution_count": 19,
   "id": "bb4f4347",
   "metadata": {},
   "outputs": [
    {
     "name": "stderr",
     "output_type": "stream",
     "text": [
      "[nltk_data] Downloading package stopwords to\n",
      "[nltk_data]     /Users/shivanipaunikar/nltk_data...\n",
      "[nltk_data]   Package stopwords is already up-to-date!\n",
      "[nltk_data] Downloading package punkt to\n",
      "[nltk_data]     /Users/shivanipaunikar/nltk_data...\n",
      "[nltk_data]   Package punkt is already up-to-date!\n"
     ]
    }
   ],
   "source": [
    "from textblob import TextBlob\n",
    "\n",
    "# Combine Ethereum submissions and comments text into a single list\n",
    "Litecoin_text = Litecoin_submissions_df['selftext'].dropna().tolist() + Litecoin_comments_df['body'].dropna().tolist()\n",
    "\n",
    "# Preprocess the text data (if you haven't done this already)\n",
    "nltk.download('stopwords')\n",
    "nltk.download('punkt')\n",
    "stop_words = set(stopwords.words('english'))\n",
    "lemmatizer = WordNetLemmatizer()\n",
    "\n",
    "def preprocess_text(text):\n",
    "    tokens = word_tokenize(text.lower())\n",
    "    tokens = [lemmatizer.lemmatize(token) for token in tokens if token.isalnum()]\n",
    "    tokens = [token for token in tokens if token not in stop_words]\n",
    "    return ' '.join(tokens)  # Join tokens into a single string\n",
    "\n",
    "Litecoin_text = [preprocess_text(text) for text in Litecoin_text]"
   ]
  },
  {
   "cell_type": "code",
   "execution_count": 20,
   "id": "e3ad3d10",
   "metadata": {},
   "outputs": [
    {
     "name": "stderr",
     "output_type": "stream",
     "text": [
      "[nltk_data] Downloading package stopwords to\n",
      "[nltk_data]     /Users/shivanipaunikar/nltk_data...\n",
      "[nltk_data]   Package stopwords is already up-to-date!\n",
      "[nltk_data] Downloading package punkt to\n",
      "[nltk_data]     /Users/shivanipaunikar/nltk_data...\n",
      "[nltk_data]   Package punkt is already up-to-date!\n"
     ]
    }
   ],
   "source": [
    "# Example preprocessing using NLTK\n",
    "import nltk\n",
    "from nltk.corpus import stopwords\n",
    "from nltk.tokenize import word_tokenize\n",
    "\n",
    "nltk.download('stopwords')\n",
    "nltk.download('punkt')\n",
    "\n",
    "# Define a function to preprocess text\n",
    "def preprocess_text(text):\n",
    "    # Tokenize the text\n",
    "    tokens = word_tokenize(text)\n",
    "    \n",
    "    # Remove stopwords\n",
    "    tokens = [word for word in tokens if word.lower() not in stopwords.words('english')]\n",
    "    \n",
    "    # Other text cleaning steps (e.g., removing punctuation, stemming) can be added\n",
    "    \n",
    "    return \" \".join(tokens)  # Convert tokens back to text\n",
    "\n",
    "# Apply preprocessing to your text data\n",
    "Litecoin_comments_df['cleaned_text'] = Litecoin_comments_df['body'].apply(preprocess_text)\n"
   ]
  },
  {
   "cell_type": "code",
   "execution_count": 21,
   "id": "7816a3c9",
   "metadata": {},
   "outputs": [],
   "source": [
    "# Define a function to get sentiment\n",
    "def get_sentiment(text):\n",
    "    analysis = TextBlob(text)\n",
    "    polarity = analysis.sentiment.polarity\n",
    "\n",
    "    if polarity > 0.1:\n",
    "        return \"positive\"\n",
    "    elif polarity < -0.1:\n",
    "        return \"negative\"\n",
    "    else:\n",
    "        return \"neutral\""
   ]
  },
  {
   "cell_type": "code",
   "execution_count": 22,
   "id": "5ddbcdeb",
   "metadata": {},
   "outputs": [],
   "source": [
    "# Apply sentiment analysis to your preprocessed text data\n",
    "sentiments = [get_sentiment(text) for text in Litecoin_text]\n"
   ]
  },
  {
   "cell_type": "code",
   "execution_count": 23,
   "id": "370bcdbe",
   "metadata": {},
   "outputs": [],
   "source": [
    "# Create a DataFrame to store sentiments (optional)\n",
    "sentiments_df = pd.DataFrame({'Sentiment': sentiments})"
   ]
  },
  {
   "cell_type": "code",
   "execution_count": 24,
   "id": "ff285269",
   "metadata": {},
   "outputs": [
    {
     "name": "stdout",
     "output_type": "stream",
     "text": [
      "positive    3499\n",
      "neutral     3276\n",
      "negative     486\n",
      "Name: Sentiment, dtype: int64\n"
     ]
    }
   ],
   "source": [
    "# Print or analyze the sentiment results as needed\n",
    "print(sentiments_df['Sentiment'].value_counts())  # Display sentiment counts\n"
   ]
  },
  {
   "cell_type": "code",
   "execution_count": 27,
   "id": "06d35cf7",
   "metadata": {},
   "outputs": [
    {
     "name": "stdout",
     "output_type": "stream",
     "text": [
      "Comment 1:\n",
      "Text: LitecoinScout.com is a new block explorer for Litecoin. It is based on Abe but will be improved with several features to hopefully make it a preferred source of information on Litecoin addresses, transactions and the block chain. \n",
      "\n",
      "Please check it out at http://LitecoinScout.com and if there are any features you'd like to see in particular, consider this app to be at your service!\n",
      "Sentiment: positive\n",
      "\n",
      "Comment 2:\n",
      "Text: Something to rival ebay. Like silkroad, but for legitimate purposes. I think what's important is that it have a feedback/reputation system to reduce scammers. Or if someone could implement a feedback/reputation system in the reddit markets...\n",
      "Sentiment: positive\n",
      "\n",
      "Comment 3:\n",
      "Text: I have been able to convince so many of my friends to adopt Bitcoin simply by making bets with them (predominantly on our foosball games, but on pretty much anything else is well), and insisting that \"I only wager in bitcoin\", so that if they win, they have to download a wallet in order for me to pay them (or conversely, if they lose, I make them exchange some cash for bitcoin for me... but usually they win, because i make super ridiculous bets.)\n",
      "\n",
      "By simply making silly bets or gambling on foosball with people, I have turned at least 10 people onto bitcoin, and educated countless more by talking about it. Now, some of my friends are using their android bitcoin wallets for making their own bets, and paying each other for small things.\n",
      "\n",
      "I really want to follow this same strategy of promoting adoption with Litecoin (\"Sorry guys, I only bet in Litecoin now\"), but the problem is there is no reliable Android-based wallet that people can simply pull up on their smartphones, download, and begin trading with. (I have read about how the Litecoin wallet that is out there right is unstable and unreliable and may not let you send LTC once it has received it. No way I am going to tell a friend to download that!)\n",
      "\n",
      "We need a better Android-based Litecoin wallet, and the sooner the better. I am clueless about app development myself. But I would be more than happy to toss $30 dollars worth of litecoin and/or bitcoin to this effort.. How do we make this happen?\n",
      "*edit for clarity\n",
      "Sentiment: positive\n",
      "\n",
      "Comment 4:\n",
      "Text: Some very good news for Litecoin in the past month (In my opinion..).\n",
      "First of all, On August Mt Gox released this future plans with Litecoin in the middle (read it in order to understand the rest of the post).\n",
      "https://www.mtgox.com/press_release_20130805.html\n",
      "\n",
      "On October 11 Mt Gox reported some platform offline for maintenance .\n",
      "\n",
      "Their October 12 statement regarding emergency maintenance also said:\n",
      "\"Finally, the implementation of this new infrastructure is a prerequisite before we can initiate Midas. There is still a lot of work to be done before we can launch Midas but rest assured this is a priority project for us. *Once Midas is up and running we will be able to offer the trading of other digital currencies.\"*\n",
      "https://www.mtgox.com/press_release_20131011.html\n",
      "\n",
      "And let me remind you, Litecoin implementation at Mt Gox is right after the implementation of \"Midas\" engine (well and after UX improvements..), according to the August news release above..\n",
      "\n",
      "And finally,\n",
      "3 of the top 6 Chinese exchange recently has added Litecoin. Around October 30..\n",
      "Check it out:\n",
      "https://forum.litecoin.net/index.php/topic,6625.0.html\n",
      "\n",
      "In my opinion it is a very good time to buy Litecoin.. What do you say???\n",
      "Sentiment: positive\n",
      "\n",
      "Comment 5:\n",
      "Text: Some say it will bust, others say otherwise. Truth is, we don't know.\n",
      "Sentiment: neutral\n",
      "\n",
      "Submission 1:\n",
      "Text: Hi, I've been lurking around BTC and LTC prices since this time last year, and want to actually buy some litecoin. From the sources I've found, there seems to be no easy way to get litecoin from USD, but might as well ask. Is there a way that I could buy 1 litecoin using paypal or a credit card?\n",
      "\n",
      "Sentiment: positive\n",
      "\n",
      "Submission 2:\n",
      "Text: I'm looking to buy LTC through PayPal, what's the easiest way to go about this?\n",
      "Sentiment: neutral\n",
      "\n",
      "Submission 3:\n",
      "Text: It wouldn't let my link the article since International Business Times is apparently banned from Reddit.  I copied and pasted it for you.\n",
      "\n",
      "\"\n",
      "By Alistair Charlton | November 25, 2013 4:02 AM PST\n",
      "\n",
      "Bitcoin isn't the only decentralised currency in town; litecoin is built on similar technology and is considerably cheaper - but is increasing in value just as fast. Alistair Charlton investigates.\n",
      "\n",
      "Worth much less than bitcoin, but growing at a faster rate, popularity in litecoin is increasing. (RadioMundial)Worth much less than bitcoin, but growing just as fast, popularity in litecoin is increasing. (RadioMundial)\n",
      "\n",
      "Bitcoin's surging value has made the crypto-currency incredibly appealing to those looking to make a quick buck. But widespread media coverage associating the currency with everything from pizza to space flights has driven its price up, putting purchasing even a single coin out of reach for many.\n",
      "\n",
      "Thankfully for those looking to get involved in the area there are a number of alternative digital currencies into which 'real world' money like pounds and dollars can be exchanged - either to pay for goods, or in the hope that they too will see enormous gains in value, as bitcoin has this year.\n",
      "\n",
      "While professional investors and economics experts will tell you to avoid bitcoin trading like the plague, the temptation to recreate a Norwegian man's good fortune of turning £15 of bitcoins into £550,000 in four years may prove too tempting for some to turn down.\n",
      "\n",
      "The most prominent alternative is litecoin, a currency based on the same protocols as bitcoin and introduced by former Google engineer Charlie Lee in 2009.\n",
      "\n",
      "What's the difference between bitcoin and litecoin?\n",
      "\n",
      "The main difference between bitcoin and litecoin is the speed at which it can be mined. A block of 50 litecoins is mined by a combined network of miners every 2.5 minutes, whereas the same number of bitcoins takes ten minutes to extract.\n",
      "\n",
      "Apart from the speed of mining, this also makes litecoin transactions faster, meaning payments for goods or services can be cleared faster than those made by bitcoin - an obvious benefit for retailers.\n",
      "\n",
      "Another difference is in the total number of coins produced. Litecoin mining will eventually create 84 million coins - four times as many as bitcoin.\n",
      "\n",
      "Although in theory this suggests litecoin is the cheaper, more plentiful silver to bitcoin's rare and expensive gold, since both coins can be divided into tiny fractions, a comparison to real world commodities is difficult to make.\n",
      "\n",
      "One litecoin is currently worth around £6.27 according to LitecoinRates.com - significantly cheaper than bitcoin, which was worth £510 at the time of publication.\n",
      "\n",
      "But where bitcoin has led, litecoin looks set to follow - the currency spiked in April just as bitcoin did and crashed in a similar way, before seeing huge gains through November. As bitcoin surged towards the $1,000 mark, litecoin grew at an equally fast rate, up from $0.05 at the start of the year, to a height of more than $10 by mid-November. Litcoin may only be returning small profits for now, but remember that bitcoin was worth less than $1 just a couple of years ago.\n",
      "Graph showing value of litecoin in US dollars since January. (LTC-charts.com)\n",
      "Graph showing value of litecoin in US dollars since January. (LTC-charts.com)\n",
      "\n",
      "Why buy litecoins?\n",
      "\n",
      "Other than amateur traders looking to turn a quick profit, many believe litecoin's growing value is being caused by investors looking to spread their funds across multiple crypto-currencies to protect themselves from bitcoin's volatility.\n",
      "\n",
      "Richard Boase of crypto-currency website CoinDesk suggests the increase in value could be \"investors trying to diversify their crypto-currency portfolios in an attempt to protect themselves from what many view as an inevitable crash after an historic high.\"\n",
      "\n",
      "Boase adds that litecoin's sudden spike \"may be coming on as investors and traders new to the crypto-currency scene discover a plethora of exotic financial instruments, or it may be the collective voices of the crypto-currency hardcore who lend their support to litecoin for ideological and technical reasons.\"\n",
      "\n",
      "How do I buy litecoins?\n",
      "\n",
      "Major exchanges like Tokyo-based Mt Gox are yet to embrace litecoin on the same scale as bitcoin, which can even be withdrawn from special ATMs. Mt Gox said in August it was working on introducing litecoin to its trading platform, but it is yet to do so.\n",
      "\n",
      "Right now, the easiest way to buy litecoins is through litecoinlocal.org, which lists sellers who are local to you. IBTimes UK found three sellers in London looking to sell between £1 and £2,000 worth of litecoins for between £7.79 and £10.18 per coin.\n",
      "\n",
      "Due to the lack of participation from the major exchanges, litecoins are more difficult to come by, with most exchanges running out as soon as the currency is made available, but those who have invested believe anyone interested in the currency should be patient and keep trying while the price is still low.\n",
      "\n",
      "No one knows what will happen to litecoin - in theory it should be no more stable than bitcoin, and many investors will likely get burnt - but as the US and European countries continue to investigate and accept these crypto-currencies, it is unlikely they will disappear any time soon.\"\n",
      "Sentiment: positive\n",
      "\n",
      "Submission 4:\n",
      "Text: I've activated the encryption option in my litecoin client. I've also gone and created a couple of backups afterwards. Are these backups safe to store without additional encryption?\n",
      "Sentiment: positive\n",
      "\n",
      "Submission 5:\n",
      "Text: Hey guys,\n",
      "\n",
      "I have been doing some research on litecoins for the last few weeks. I really would like to join the market, I plan to invest in a few 79xxs and start mining this week. However, I have been hearing rumors about the ASCI's that butterfly labs keeps saying they will release. Would these muscle out GPU miners, making it effectively impossible for us to make a profit? Thanks!\n",
      "Sentiment: neutral\n",
      "\n"
     ]
    }
   ],
   "source": [
    "# Assuming you have already performed sentiment analysis and stored results in 'sentiments' list\n",
    "# Combine both comments and submissions text into a single list\n",
    "Litecoin_text = Litecoin_submissions_df['selftext'].dropna().tolist() + Litecoin_comments_df['body'].dropna().tolist()\n",
    "\n",
    "\n",
    "# Print the first few comments and submissions with their sentiments\n",
    "for i, (text, sentiment) in enumerate(zip(Litecoin_text, sentiments)):\n",
    "    if i >= 10:  # Print the first 10 (5 comments + 5 submissions)\n",
    "        break\n",
    "    if i < 5:\n",
    "        print(f\"Comment {i + 1}:\")\n",
    "    else:\n",
    "        print(f\"Submission {i - 4}:\")\n",
    "    print(\"Text:\", text)\n",
    "    print(\"Sentiment:\", sentiment)\n",
    "    print()\n"
   ]
  },
  {
   "cell_type": "code",
   "execution_count": 26,
   "id": "970ba324",
   "metadata": {},
   "outputs": [
    {
     "data": {
      "image/png": "[encoded data removed]",
      "text/plain": [
       "<Figure size 800x600 with 1 Axes>"
      ]
     },
     "metadata": {},
     "output_type": "display_data"
    }
   ],
   "source": [
    "import matplotlib.pyplot as plt\n",
    "import pandas as pd\n",
    "\n",
    "# Assuming you have already performed sentiment analysis and have a DataFrame 'sentiments_df'\n",
    "# with a 'Sentiment' column containing sentiment labels (positive, negative, neutral)\n",
    "\n",
    "# Count the occurrences of each sentiment label\n",
    "sentiment_counts = sentiments_df['Sentiment'].value_counts()\n",
    "\n",
    "# Create a bar plot\n",
    "plt.figure(figsize=(8, 6))\n",
    "sentiment_counts.plot(kind='bar', color=['green', 'red', 'blue'], alpha=0.7)\n",
    "plt.title('Sentiment Analysis of Litecoin ')\n",
    "plt.xlabel('Sentiment')\n",
    "plt.ylabel('Count')\n",
    "\n",
    "# Annotate the bars with counts\n",
    "for i, count in enumerate(sentiment_counts):\n",
    "    plt.text(i, count, str(count), ha='center', va='bottom', fontsize=12)\n",
    "\n",
    "# Show the plot\n",
    "plt.xticks(rotation=0)\n",
    "plt.tight_layout()\n",
    "plt.show()\n"
   ]
  },
  {
   "cell_type": "markdown",
   "id": "614cbc52",
   "metadata": {},
   "source": [
    "# Emotion Analysis"
   ]
  },
  {
   "cell_type": "code",
   "execution_count": 28,
   "id": "85580cf4",
   "metadata": {},
   "outputs": [
    {
     "name": "stdout",
     "output_type": "stream",
     "text": [
      "Requirement already satisfied: transformers in ./opt/anaconda3/lib/python3.9/site-packages (4.24.0)\n",
      "Requirement already satisfied: torch in ./opt/anaconda3/lib/python3.9/site-packages (1.12.1)\n",
      "Requirement already satisfied: filelock in ./opt/anaconda3/lib/python3.9/site-packages (from transformers) (3.9.0)\n",
      "Requirement already satisfied: packaging>=20.0 in ./opt/anaconda3/lib/python3.9/site-packages (from transformers) (22.0)\n",
      "Requirement already satisfied: requests in ./opt/anaconda3/lib/python3.9/site-packages (from transformers) (2.28.1)\n",
      "Requirement already satisfied: tqdm>=4.27 in ./opt/anaconda3/lib/python3.9/site-packages (from transformers) (4.64.1)\n",
      "Requirement already satisfied: regex!=2019.12.17 in ./opt/anaconda3/lib/python3.9/site-packages (from transformers) (2022.7.9)\n",
      "Requirement already satisfied: tokenizers!=0.11.3,<0.14,>=0.11.1 in ./opt/anaconda3/lib/python3.9/site-packages (from transformers) (0.11.4)\n",
      "Requirement already satisfied: numpy>=1.17 in ./opt/anaconda3/lib/python3.9/site-packages (from transformers) (1.23.5)\n",
      "Requirement already satisfied: huggingface-hub<1.0,>=0.10.0 in ./opt/anaconda3/lib/python3.9/site-packages (from transformers) (0.10.1)\n",
      "Requirement already satisfied: pyyaml>=5.1 in ./opt/anaconda3/lib/python3.9/site-packages (from transformers) (6.0)\n",
      "Requirement already satisfied: typing_extensions in ./opt/anaconda3/lib/python3.9/site-packages (from torch) (4.4.0)\n",
      "Requirement already satisfied: certifi>=2017.4.17 in ./opt/anaconda3/lib/python3.9/site-packages (from requests->transformers) (2022.12.7)\n",
      "Requirement already satisfied: charset-normalizer<3,>=2 in ./opt/anaconda3/lib/python3.9/site-packages (from requests->transformers) (2.0.4)\n",
      "Requirement already satisfied: idna<4,>=2.5 in ./opt/anaconda3/lib/python3.9/site-packages (from requests->transformers) (3.4)\n",
      "Requirement already satisfied: urllib3<1.27,>=1.21.1 in ./opt/anaconda3/lib/python3.9/site-packages (from requests->transformers) (1.26.14)\n",
      "Note: you may need to restart the kernel to use updated packages.\n"
     ]
    }
   ],
   "source": [
    "pip install transformers torch"
   ]
  },
  {
   "cell_type": "code",
   "execution_count": null,
   "id": "06670216",
   "metadata": {},
   "outputs": [],
   "source": [
    "from transformers import AutoModelForSequenceClassification, AutoTokenizer\n",
    "import torch\n",
    "\n",
    "# Load the pre-trained emotion classification model and tokenizer\n",
    "model_name = \"michellejieli/emotion_text_classifier\"\n",
    "tokenizer = AutoTokenizer.from_pretrained(model_name)\n",
    "model = AutoModelForSequenceClassification.from_pretrained(model_name)\n",
    "\n",
    "# Combine both comments and submissions text into a single list\n",
    "Litecoin_text = Litecoin_submissions_df['selftext'].dropna().tolist() + Litecoin_comments_df['body'].dropna().tolist()\n"
   ]
  },
  {
   "cell_type": "code",
   "execution_count": null,
   "id": "6edc28b7",
   "metadata": {},
   "outputs": [],
   "source": [
    "def get_emotion(text):\n",
    "    inputs = tokenizer(text, return_tensors=\"pt\", truncation=True, padding=True)\n",
    "    with torch.no_grad():\n",
    "        logits = model(**inputs).logits\n",
    "    predicted_class = torch.argmax(logits, dim=1).item()\n",
    "    \n",
    "    # Define the emotion labels corresponding to model output\n",
    "    emotion_labels = [\"anger\", \"fear\", \"joy\", \"sadness\", \"surprise\"]\n",
    "    return emotion_labels[predicted_class]\n"
   ]
  },
  {
   "cell_type": "code",
   "execution_count": null,
   "id": "0364957e",
   "metadata": {},
   "outputs": [],
   "source": [
    "bitcoin_combined_df['emotion'] = combined_text.apply(get_emotion)\n"
   ]
  }
 ],
 "metadata": {
  "kernelspec": {
   "display_name": "Python 3 (ipykernel)",
   "language": "python",
   "name": "python3"
  },
  "language_info": {
   "codemirror_mode": {
    "name": "ipython",
    "version": 3
   },
   "file_extension": ".py",
   "mimetype": "text/x-python",
   "name": "python",
   "nbconvert_exporter": "python",
   "pygments_lexer": "ipython3",
   "version": "3.9.16"
  }
 },
 "nbformat": 4,
 "nbformat_minor": 5
}
