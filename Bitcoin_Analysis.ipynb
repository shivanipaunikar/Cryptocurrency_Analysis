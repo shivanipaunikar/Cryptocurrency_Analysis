{
 "cells": [
  {
   "cell_type": "markdown",
   "id": "08784f84",
   "metadata": {},
   "source": [
    "# Bitcoin_Data_Analysis\n",
    "Data Collection and Summary stats"
   ]
  },
  {
   "cell_type": "code",
   "execution_count": 2,
   "id": "11aa1a5a",
   "metadata": {},
   "outputs": [
    {
     "name": "stdout",
     "output_type": "stream",
     "text": [
      "Processing: /Users/shivanipaunikar/Downloads/Project- crypto/Bitcoin/Bc.zst\n",
      "Completed: /Users/shivanipaunikar/Downloads/Project- crypto/Bitcoin/Bc.zst -> /Users/shivanipaunikar/Downloads/Project- crypto/output/Bc.json\n",
      "Processing: /Users/shivanipaunikar/Downloads/Project- crypto/Bitcoin/Bs.zst\n",
      "Completed: /Users/shivanipaunikar/Downloads/Project- crypto/Bitcoin/Bs.zst -> /Users/shivanipaunikar/Downloads/Project- crypto/output/Bs.json\n",
      "All files processed.\n"
     ]
    }
   ],
   "source": [
    "import zstandard as zstd\n",
    "import shutil\n",
    "import os\n",
    "\n",
    "def decompress_zst(input_file, output_file, max_samples):\n",
    "    with open(input_file, 'rb') as compressed_file:\n",
    "        decomp = zstd.ZstdDecompressor()\n",
    "        with open(output_file, 'wb') as output:\n",
    "            total_samples = 0\n",
    "            for chunk in decomp.read_to_iter(compressed_file):\n",
    "                output.write(chunk)\n",
    "                total_samples += chunk.count(b'\\n')\n",
    "                if total_samples >= max_samples:\n",
    "                    break\n",
    "\n",
    "# List of input files\n",
    "input_files = ['/Users/shivanipaunikar/Downloads/Project- crypto/Bitcoin/Bc.zst', '/Users/shivanipaunikar/Downloads/Project- crypto/Bitcoin/Bs.zst']\n",
    "\n",
    "# Output directory where decompressed files will be stored\n",
    "output_directory = '/Users/shivanipaunikar/Downloads/Project- crypto/output'\n",
    "\n",
    "# Maximum number of samples you want to use\n",
    "max_samples = 5000\n",
    "\n",
    "# Create the output directory if it doesn't exist\n",
    "os.makedirs(output_directory, exist_ok=True)\n",
    "\n",
    "# Loop through each input file and decompress\n",
    "for input_file in input_files:\n",
    "    # Generate the output file path by removing the .zst extension and adding .json\n",
    "    output_file = os.path.join(output_directory, os.path.splitext(os.path.basename(input_file))[0] + '.json')\n",
    "    \n",
    "    print(f\"Processing: {input_file}\")\n",
    "    \n",
    "    # Decompress the input file, limiting to max_samples, and save it to the output file path\n",
    "    decompress_zst(input_file, output_file, max_samples)\n",
    "    \n",
    "    print(f\"Completed: {input_file} -> {output_file}\")\n",
    "\n",
    "print(\"All files processed.\")\n"
   ]
  },
  {
   "cell_type": "code",
   "execution_count": 3,
   "id": "75f97af5",
   "metadata": {},
   "outputs": [
    {
     "name": "stdout",
     "output_type": "stream",
     "text": [
      "Skipping line due to JSON syntax error: {\"downs\":8,\"link_flair_text\":null,\"distinguished\":null,\"media\":null,\"url\":\"http://minefield.bitcoinlab.org/?r=hI04fqMpBifpfROM\",\"link_flair_css_class\":null,\"id\":\"pa2nn\",\"edited\":false,\"num_reports\":null,\"cre\n",
      "Skipping line due to JSON syntax error: {\"name\":\"t1_c1vnn0n\",\"controversiality\":0,\"gilded\":0,\"archived\":true,\"author_flair_css_class\":null,\n"
     ]
    }
   ],
   "source": [
    "import pandas as pd\n",
    "import json\n",
    "import os\n",
    "\n",
    "# Define the output directory where the JSON files were decompressed\n",
    "output_directory = '/Users/shivanipaunikar/Downloads/Project- crypto/output'\n",
    "\n",
    "# Function to fix JSON syntax errors\n",
    "def fix_json_syntax(input_file, output_file):\n",
    "    with open(input_file, 'r') as input_json, open(output_file, 'w') as output_json:\n",
    "        for line in input_json:\n",
    "            try:\n",
    "                json_obj = json.loads(line)\n",
    "                corrected_line = json.dumps(json_obj) + '\\n'\n",
    "                output_json.write(corrected_line)\n",
    "            except json.JSONDecodeError as e:\n",
    "                # Handle JSON syntax errors here or simply skip problematic lines\n",
    "                print(f\"Skipping line due to JSON syntax error: {line.strip()}\")\n",
    "                continue\n",
    "\n",
    "# Specify your input and output file paths for fixing 'Bs.json' syntax\n",
    "input_file_path_bs = os.path.join(output_directory, 'Bs.json')\n",
    "output_file_path_bs = os.path.join(output_directory, 'Bs_fixed.json')\n",
    "\n",
    "# Call the function to fix JSON syntax errors in 'Bs.json'\n",
    "fix_json_syntax(input_file_path_bs, output_file_path_bs)\n",
    "\n",
    "# Specify your input and output file paths for fixing 'Bc.json' syntax\n",
    "input_file_path_bc = os.path.join(output_directory, 'Bc.json')\n",
    "output_file_path_bc = os.path.join(output_directory, 'Bc_fixed.json')\n",
    "\n",
    "# Call the function to fix JSON syntax errors in 'Bc.json'\n",
    "fix_json_syntax(input_file_path_bc, output_file_path_bc)\n",
    "\n",
    "# Define a function to read JSON data line by line\n",
    "def read_json_lines(file_path):\n",
    "    with open(file_path, 'r') as file:\n",
    "        for line in file:\n",
    "            yield json.loads(line)\n",
    "\n",
    "# Use os.path.join to construct file paths\n",
    "submission_data = list(read_json_lines(output_file_path_bs))  # Use the fixed 'Bs.json' file as input\n",
    "comment_data = list(read_json_lines(output_file_path_bc))  # Use the fixed 'Bc.json' file as input\n",
    "\n",
    "# Create DataFrames\n",
    "submission_df = pd.DataFrame(submission_data)\n",
    "comment_df = pd.DataFrame(comment_data)\n",
    "\n",
    "# Filter for Bitcoin-related data (you may need to adjust the filter)\n",
    "bitcoin_submissions = submission_df[submission_df['title'].str.contains('Bitcoin', case=False, na=False)]\n",
    "bitcoin_comments = comment_df[comment_df['body'].str.contains('Bitcoin', case=False, na=False)]\n",
    "\n",
    "# Sample 5000 observations with replacement\n",
    "bitcoin_submissions_sample = bitcoin_submissions.sample(n=5000, replace=True)\n",
    "bitcoin_comments_sample = bitcoin_comments.sample(n=5000, replace=True)\n",
    "\n",
    "# Export to CSV\n",
    "bitcoin_submissions_sample.to_csv('bitcoin_submissions_sample.csv', index=False)\n",
    "bitcoin_comments_sample.to_csv('bitcoin_comments_sample.csv', index=False)\n"
   ]
  },
  {
   "cell_type": "code",
   "execution_count": 4,
   "id": "6e9a497b",
   "metadata": {},
   "outputs": [],
   "source": [
    "# Load the CSV files\n",
    "bitcoin_submissions_df = pd.read_csv('bitcoin_submissions_sample.csv')\n",
    "bitcoin_comments_df = pd.read_csv('bitcoin_comments_sample.csv')\n"
   ]
  },
  {
   "cell_type": "code",
   "execution_count": 5,
   "id": "341cd161",
   "metadata": {},
   "outputs": [
    {
     "name": "stdout",
     "output_type": "stream",
     "text": [
      "Columns in bitcoin_submissions_df:\n",
      "Index(['archived', 'author', 'author_flair_background_color',\n",
      "       'author_flair_css_class', 'author_flair_text',\n",
      "       'author_flair_text_color', 'brand_safe', 'can_gild', 'contest_mode',\n",
      "       'created_utc', 'distinguished', 'domain', 'edited', 'gilded', 'hidden',\n",
      "       'hide_score', 'id', 'is_crosspostable', 'is_reddit_media_domain',\n",
      "       'is_self', 'is_video', 'link_flair_css_class', 'link_flair_richtext',\n",
      "       'link_flair_text', 'link_flair_text_color', 'link_flair_type', 'locked',\n",
      "       'media', 'media_embed', 'no_follow', 'num_comments', 'num_crossposts',\n",
      "       'over_18', 'parent_whitelist_status', 'permalink', 'retrieved_on',\n",
      "       'rte_mode', 'score', 'secure_media', 'secure_media_embed', 'selftext',\n",
      "       'send_replies', 'spoiler', 'stickied', 'subreddit', 'subreddit_id',\n",
      "       'subreddit_name_prefixed', 'subreddit_type', 'suggested_sort',\n",
      "       'thumbnail', 'thumbnail_height', 'thumbnail_width', 'title', 'url',\n",
      "       'whitelist_status', 'author_flair_richtext', 'author_flair_type',\n",
      "       'is_original_content', 'post_hint', 'preview', 'downs', 'num_reports',\n",
      "       'banned_by', 'name', 'likes', 'clicked', 'saved', 'ups', 'approved_by',\n",
      "       'selftext_html', 'created'],\n",
      "      dtype='object')\n",
      "Sample data in bitcoin_submissions_df:\n",
      "  archived      author  author_flair_background_color  author_flair_css_class  \\\n",
      "0      NaN     DTanner                            NaN                     NaN   \n",
      "1      NaN   [deleted]                            NaN                     NaN   \n",
      "2      NaN      bitmit                            NaN                     NaN   \n",
      "3      NaN       xoday                            NaN                     NaN   \n",
      "4      NaN  hackerkiba                            NaN                     NaN   \n",
      "\n",
      "   author_flair_text author_flair_text_color brand_safe can_gild contest_mode  \\\n",
      "0                NaN                     NaN        NaN      NaN          NaN   \n",
      "1                NaN                     NaN        NaN      NaN          NaN   \n",
      "2                NaN                     NaN        NaN      NaN          NaN   \n",
      "3                NaN                     NaN        NaN      NaN          NaN   \n",
      "4                NaN                     NaN        NaN      NaN          NaN   \n",
      "\n",
      "   created_utc  ... num_reports banned_by      name  likes  clicked  saved  \\\n",
      "0   1308243130  ...         NaN       NaN  t3_i1cnt    NaN    False  False   \n",
      "1   1306973701  ...         NaN       NaN  t3_hpi3q    NaN    False  False   \n",
      "2   1328217157  ...         NaN       NaN  t3_p88kq    NaN    False  False   \n",
      "3   1315922194  ...         NaN       NaN  t3_ke7ju    NaN    False  False   \n",
      "4   1308057173  ...         NaN       NaN  t3_hzdeb    NaN    False  False   \n",
      "\n",
      "    ups approved_by selftext_html       created  \n",
      "0  55.0         NaN           NaN  1.308247e+09  \n",
      "1   1.0         NaN           NaN  1.306977e+09  \n",
      "2   9.0         NaN           NaN  1.328217e+09  \n",
      "3   6.0         NaN           NaN  1.315926e+09  \n",
      "4   3.0         NaN           NaN  1.308061e+09  \n",
      "\n",
      "[5 rows x 71 columns]\n",
      "Columns in bitcoin_comments_df:\n",
      "Index(['link_id', 'controversiality', 'ups', 'score', 'body', 'gilded',\n",
      "       'edited', 'name', 'archived', 'subreddit', 'parent_id', 'id', 'downs',\n",
      "       'author', 'score_hidden', 'author_flair_css_class', 'author_flair_text',\n",
      "       'subreddit_id', 'distinguished', 'retrieved_on', 'created_utc'],\n",
      "      dtype='object')\n",
      "Sample data in bitcoin_comments_df:\n",
      "    link_id  controversiality  ups  score  \\\n",
      "0  t3_ha3tx                 0    4      4   \n",
      "1  t3_gybg4                 0    1      1   \n",
      "2  t3_hgzez                 0    3      3   \n",
      "3  t3_hdhwo                 0    1      1   \n",
      "4  t3_he664                 0    5      5   \n",
      "\n",
      "                                                body  gilded  edited  \\\n",
      "0  Every bubble that has existed at one time was ...       0   False   \n",
      "1  &gt; \"Illegal stuff will be a niche for Bitcoi...       0   False   \n",
      "2  \"but just as rare works of art are expensive t...       0   False   \n",
      "3  You should do this, or someone who has more bi...       0   False   \n",
      "4  Bitcoin is probably a price deflationary curre...       0   False   \n",
      "\n",
      "         name  archived subreddit  ...       id downs     author score_hidden  \\\n",
      "0  t1_c1ts43v      True   Bitcoin  ...  c1ts43v     0  eddie1996        False   \n",
      "1  t1_c1rbnnp      True   Bitcoin  ...  c1rbnnp     0    bforest        False   \n",
      "2  t1_c1vbvcf      True   Bitcoin  ...  c1vbvcf     0  evil-doer        False   \n",
      "3  t1_c1umxfi      True   Bitcoin  ...  c1umxfi     0     CBJamo        False   \n",
      "4  t1_c1upiz3      True   Bitcoin  ...  c1upiz3     0     hugolp        False   \n",
      "\n",
      "   author_flair_css_class  author_flair_text  subreddit_id distinguished  \\\n",
      "0                     NaN                NaN      t5_2s3qj           NaN   \n",
      "1                     NaN                NaN      t5_2s3qj           NaN   \n",
      "2                     NaN                NaN      t5_2s3qj           NaN   \n",
      "3                     NaN                NaN      t5_2s3qj           NaN   \n",
      "4                     NaN                NaN      t5_2s3qj           NaN   \n",
      "\n",
      "   retrieved_on  created_utc  \n",
      "0    1427142498   1305245196  \n",
      "1    1427099860   1303957428  \n",
      "2    1427169308   1306029646  \n",
      "3    1427157306   1305684473  \n",
      "4    1427158573   1305726875  \n",
      "\n",
      "[5 rows x 21 columns]\n"
     ]
    }
   ],
   "source": [
    "# Display the columns of the DataFrame\n",
    "print(\"Columns in bitcoin_submissions_df:\")\n",
    "print(bitcoin_submissions_df.columns)\n",
    "\n",
    "# Display a sample of the DataFrame\n",
    "print(\"Sample data in bitcoin_submissions_df:\")\n",
    "print(bitcoin_submissions_df.head())\n",
    "\n",
    "# Repeat the same for bitcoin_comments_df if needed\n",
    "print(\"Columns in bitcoin_comments_df:\")\n",
    "print(bitcoin_comments_df.columns)\n",
    "\n",
    "print(\"Sample data in bitcoin_comments_df:\")\n",
    "print(bitcoin_comments_df.head())\n"
   ]
  },
  {
   "cell_type": "code",
   "execution_count": 6,
   "id": "8fea00ac",
   "metadata": {},
   "outputs": [
    {
     "name": "stdout",
     "output_type": "stream",
     "text": [
      "Range of dates available in bitcoin_submissions_df: (Timestamp('2010-11-09 23:40:31'), Timestamp('2012-02-04 22:56:54'))\n",
      "Range of dates available in bitcoin_comments_df: (Timestamp('2010-11-09 23:41:03'), Timestamp('2011-05-24 01:29:19'))\n",
      "\n",
      "Number of posts per day in bitcoin_submissions_df:\n",
      "created_utc\n",
      "2010-11-09     1\n",
      "2010-11-18     1\n",
      "2010-12-01     1\n",
      "2010-12-08     3\n",
      "2010-12-11     6\n",
      "              ..\n",
      "2012-01-31     5\n",
      "2012-02-01    31\n",
      "2012-02-02     7\n",
      "2012-02-03     5\n",
      "2012-02-04    14\n",
      "Length: 344, dtype: int64\n",
      "\n",
      "Number of comments per day in bitcoin_comments_df:\n",
      "created_utc\n",
      "2010-11-09     15\n",
      "2010-12-08      2\n",
      "2010-12-10      5\n",
      "2010-12-13      3\n",
      "2010-12-16      3\n",
      "             ... \n",
      "2011-05-20    199\n",
      "2011-05-21    221\n",
      "2011-05-22    301\n",
      "2011-05-23    225\n",
      "2011-05-24     27\n",
      "Length: 104, dtype: int64\n",
      "\n",
      "Number of unique authors per day in bitcoin_submissions_df:\n",
      "created_utc\n",
      "2010-11-09    1\n",
      "2010-11-18    1\n",
      "2010-12-01    1\n",
      "2010-12-08    1\n",
      "2010-12-11    4\n",
      "             ..\n",
      "2012-01-31    2\n",
      "2012-02-01    9\n",
      "2012-02-02    3\n",
      "2012-02-03    4\n",
      "2012-02-04    5\n",
      "Name: author, Length: 344, dtype: int64\n"
     ]
    }
   ],
   "source": [
    "import pandas as pd\n",
    "\n",
    "# Load the data into DataFrames (assuming you already have them loaded)\n",
    "bitcoin_submissions_df = pd.read_csv('bitcoin_submissions_sample.csv')\n",
    "bitcoin_comments_df = pd.read_csv('bitcoin_comments_sample.csv')\n",
    "\n",
    "# Convert 'created_utc' columns to datetime objects\n",
    "bitcoin_submissions_df['created_utc'] = pd.to_datetime(bitcoin_submissions_df['created_utc'], unit='s')\n",
    "bitcoin_comments_df['created_utc'] = pd.to_datetime(bitcoin_comments_df['created_utc'], unit='s')\n",
    "\n",
    "# Calculate the range of dates available\n",
    "date_range_submissions = bitcoin_submissions_df['created_utc'].min(), bitcoin_submissions_df['created_utc'].max()\n",
    "date_range_comments = bitcoin_comments_df['created_utc'].min(), bitcoin_comments_df['created_utc'].max()\n",
    "\n",
    "print(\"Range of dates available in bitcoin_submissions_df:\", date_range_submissions)\n",
    "print(\"Range of dates available in bitcoin_comments_df:\", date_range_comments)\n",
    "\n",
    "# Calculate the number of posts, comments, and authors for each day\n",
    "posts_per_day_submissions = bitcoin_submissions_df.groupby(bitcoin_submissions_df['created_utc'].dt.date).size()\n",
    "comments_per_day = bitcoin_comments_df.groupby(bitcoin_comments_df['created_utc'].dt.date).size()\n",
    "unique_authors_per_day_submissions = bitcoin_submissions_df.groupby(bitcoin_submissions_df['created_utc'].dt.date)['author'].nunique()\n",
    "\n",
    "# Display the results\n",
    "print(\"\\nNumber of posts per day in bitcoin_submissions_df:\")\n",
    "print(posts_per_day_submissions)\n",
    "print(\"\\nNumber of comments per day in bitcoin_comments_df:\")\n",
    "print(comments_per_day)\n",
    "print(\"\\nNumber of unique authors per day in bitcoin_submissions_df:\")\n",
    "print(unique_authors_per_day_submissions)\n"
   ]
  },
  {
   "cell_type": "markdown",
   "id": "a3316ff9",
   "metadata": {},
   "source": [
    "# Topic Modeling"
   ]
  },
  {
   "cell_type": "code",
   "execution_count": 7,
   "id": "b28bf589",
   "metadata": {},
   "outputs": [],
   "source": [
    "import pandas as pd\n",
    "import numpy as np\n",
    "import nltk\n",
    "from nltk.corpus import stopwords\n",
    "from nltk.tokenize import word_tokenize\n",
    "from nltk.stem import WordNetLemmatizer\n",
    "from sklearn.feature_extraction.text import TfidfVectorizer\n",
    "from gensim import models\n",
    "import gensim.corpora as corpora\n",
    "import gensim"
   ]
  },
  {
   "cell_type": "code",
   "execution_count": 8,
   "id": "e91f20a2",
   "metadata": {},
   "outputs": [],
   "source": [
    "# Load the data into DataFrames (assuming you already have them loaded)\n",
    "bitcoin_submissions_df = pd.read_csv('bitcoin_submissions_sample.csv')\n",
    "bitcoin_comments_df = pd.read_csv('bitcoin_comments_sample.csv')\n",
    "\n",
    "# Convert 'created_utc' columns to datetime objects\n",
    "bitcoin_submissions_df['created_utc'] = pd.to_datetime(bitcoin_submissions_df['created_utc'], unit='s')\n",
    "bitcoin_comments_df['created_utc'] = pd.to_datetime(bitcoin_comments_df['created_utc'], unit='s')\n",
    "\n",
    "# Combine comments and submissions text\n",
    "bitcoin_text = bitcoin_submissions_df['selftext'].dropna().tolist() + bitcoin_comments_df['body'].dropna().tolist()\n"
   ]
  },
  {
   "cell_type": "code",
   "execution_count": 9,
   "id": "d14a7175",
   "metadata": {},
   "outputs": [
    {
     "name": "stderr",
     "output_type": "stream",
     "text": [
      "[nltk_data] Downloading package stopwords to\n",
      "[nltk_data]     /Users/shivanipaunikar/nltk_data...\n",
      "[nltk_data]   Package stopwords is already up-to-date!\n",
      "[nltk_data] Downloading package punkt to\n",
      "[nltk_data]     /Users/shivanipaunikar/nltk_data...\n",
      "[nltk_data]   Package punkt is already up-to-date!\n"
     ]
    }
   ],
   "source": [
    "# Text preprocessing\n",
    "nltk.download('stopwords')\n",
    "nltk.download('punkt')\n",
    "stop_words = set(stopwords.words('english'))\n",
    "lemmatizer = WordNetLemmatizer()\n",
    "\n",
    "def preprocess_text(text):\n",
    "    tokens = word_tokenize(text.lower())\n",
    "    tokens = [lemmatizer.lemmatize(token) for token in tokens if token.isalnum()]\n",
    "    tokens = [token for token in tokens if token not in stop_words]\n",
    "    return tokens\n",
    "\n",
    "bitcoin_text = [preprocess_text(text) for text in bitcoin_text]\n"
   ]
  },
  {
   "cell_type": "code",
   "execution_count": 10,
   "id": "b5777493",
   "metadata": {},
   "outputs": [],
   "source": [
    "# Create a TF-IDF vectorizer\n",
    "tfidf_vectorizer = TfidfVectorizer(max_df=0.95, min_df=2, max_features=1000)\n"
   ]
  },
  {
   "cell_type": "code",
   "execution_count": 11,
   "id": "b62b1b01",
   "metadata": {},
   "outputs": [],
   "source": [
    "# Apply TF-IDF vectorization\n",
    "bitcoin_tfidf = tfidf_vectorizer.fit_transform([' '.join(tokens) for tokens in bitcoin_text])"
   ]
  },
  {
   "cell_type": "code",
   "execution_count": 12,
   "id": "0f2ac4d8",
   "metadata": {},
   "outputs": [
    {
     "name": "stdout",
     "output_type": "stream",
     "text": [
      "Requirement already satisfied: gensim in ./opt/anaconda3/lib/python3.9/site-packages (4.3.0)\n",
      "Requirement already satisfied: matplotlib in ./opt/anaconda3/lib/python3.9/site-packages (3.7.0)\n",
      "Requirement already satisfied: pyLDAvis in ./opt/anaconda3/lib/python3.9/site-packages (3.4.0)\n",
      "Requirement already satisfied: FuzzyTM>=0.4.0 in ./opt/anaconda3/lib/python3.9/site-packages (from gensim) (2.0.5)\n",
      "Requirement already satisfied: scipy>=1.7.0 in ./opt/anaconda3/lib/python3.9/site-packages (from gensim) (1.10.0)\n",
      "Requirement already satisfied: smart-open>=1.8.1 in ./opt/anaconda3/lib/python3.9/site-packages (from gensim) (5.2.1)\n",
      "Requirement already satisfied: numpy>=1.18.5 in ./opt/anaconda3/lib/python3.9/site-packages (from gensim) (1.23.5)\n",
      "Requirement already satisfied: kiwisolver>=1.0.1 in ./opt/anaconda3/lib/python3.9/site-packages (from matplotlib) (1.4.4)\n",
      "Requirement already satisfied: contourpy>=1.0.1 in ./opt/anaconda3/lib/python3.9/site-packages (from matplotlib) (1.0.5)\n",
      "Requirement already satisfied: pyparsing>=2.3.1 in ./opt/anaconda3/lib/python3.9/site-packages (from matplotlib) (3.0.9)\n",
      "Requirement already satisfied: pillow>=6.2.0 in ./opt/anaconda3/lib/python3.9/site-packages (from matplotlib) (9.4.0)\n",
      "Requirement already satisfied: python-dateutil>=2.7 in ./opt/anaconda3/lib/python3.9/site-packages (from matplotlib) (2.8.2)\n",
      "Requirement already satisfied: importlib-resources>=3.2.0 in ./opt/anaconda3/lib/python3.9/site-packages (from matplotlib) (5.2.0)\n",
      "Requirement already satisfied: packaging>=20.0 in ./opt/anaconda3/lib/python3.9/site-packages (from matplotlib) (22.0)\n",
      "Requirement already satisfied: cycler>=0.10 in ./opt/anaconda3/lib/python3.9/site-packages (from matplotlib) (0.11.0)\n",
      "Requirement already satisfied: fonttools>=4.22.0 in ./opt/anaconda3/lib/python3.9/site-packages (from matplotlib) (4.25.0)\n",
      "Requirement already satisfied: jinja2 in ./opt/anaconda3/lib/python3.9/site-packages (from pyLDAvis) (3.1.2)\n",
      "Requirement already satisfied: numexpr in ./opt/anaconda3/lib/python3.9/site-packages (from pyLDAvis) (2.8.4)\n",
      "Requirement already satisfied: funcy in ./opt/anaconda3/lib/python3.9/site-packages (from pyLDAvis) (1.18)\n",
      "Requirement already satisfied: pandas>=1.3.4 in ./opt/anaconda3/lib/python3.9/site-packages (from pyLDAvis) (1.5.3)\n",
      "Requirement already satisfied: joblib>=1.2.0 in ./opt/anaconda3/lib/python3.9/site-packages (from pyLDAvis) (1.2.0)\n",
      "Requirement already satisfied: setuptools in ./opt/anaconda3/lib/python3.9/site-packages (from pyLDAvis) (65.6.3)\n",
      "Requirement already satisfied: scikit-learn>=1.0.0 in ./opt/anaconda3/lib/python3.9/site-packages (from pyLDAvis) (1.2.1)\n",
      "Requirement already satisfied: pyfume in ./opt/anaconda3/lib/python3.9/site-packages (from FuzzyTM>=0.4.0->gensim) (0.2.25)\n",
      "Requirement already satisfied: zipp>=3.1.0 in ./opt/anaconda3/lib/python3.9/site-packages (from importlib-resources>=3.2.0->matplotlib) (3.11.0)\n",
      "Requirement already satisfied: pytz>=2020.1 in ./opt/anaconda3/lib/python3.9/site-packages (from pandas>=1.3.4->pyLDAvis) (2022.7)\n",
      "Requirement already satisfied: six>=1.5 in ./opt/anaconda3/lib/python3.9/site-packages (from python-dateutil>=2.7->matplotlib) (1.16.0)\n",
      "Requirement already satisfied: threadpoolctl>=2.0.0 in ./opt/anaconda3/lib/python3.9/site-packages (from scikit-learn>=1.0.0->pyLDAvis) (2.2.0)\n",
      "Requirement already satisfied: MarkupSafe>=2.0 in ./opt/anaconda3/lib/python3.9/site-packages (from jinja2->pyLDAvis) (2.1.1)\n",
      "Requirement already satisfied: simpful in ./opt/anaconda3/lib/python3.9/site-packages (from pyfume->FuzzyTM>=0.4.0->gensim) (2.10.0)\n",
      "Requirement already satisfied: fst-pso in ./opt/anaconda3/lib/python3.9/site-packages (from pyfume->FuzzyTM>=0.4.0->gensim) (1.8.1)\n",
      "Requirement already satisfied: miniful in ./opt/anaconda3/lib/python3.9/site-packages (from fst-pso->pyfume->FuzzyTM>=0.4.0->gensim) (0.0.6)\n",
      "Requirement already satisfied: requests in ./opt/anaconda3/lib/python3.9/site-packages (from simpful->pyfume->FuzzyTM>=0.4.0->gensim) (2.28.1)\n",
      "Requirement already satisfied: urllib3<1.27,>=1.21.1 in ./opt/anaconda3/lib/python3.9/site-packages (from requests->simpful->pyfume->FuzzyTM>=0.4.0->gensim) (1.26.14)\n",
      "Requirement already satisfied: idna<4,>=2.5 in ./opt/anaconda3/lib/python3.9/site-packages (from requests->simpful->pyfume->FuzzyTM>=0.4.0->gensim) (3.4)\n",
      "Requirement already satisfied: certifi>=2017.4.17 in ./opt/anaconda3/lib/python3.9/site-packages (from requests->simpful->pyfume->FuzzyTM>=0.4.0->gensim) (2022.12.7)\n",
      "Requirement already satisfied: charset-normalizer<3,>=2 in ./opt/anaconda3/lib/python3.9/site-packages (from requests->simpful->pyfume->FuzzyTM>=0.4.0->gensim) (2.0.4)\n",
      "Note: you may need to restart the kernel to use updated packages.\n"
     ]
    }
   ],
   "source": [
    "pip install gensim matplotlib pyLDAvis\n"
   ]
  },
  {
   "cell_type": "code",
   "execution_count": 13,
   "id": "b96205c4",
   "metadata": {},
   "outputs": [],
   "source": [
    "from gensim.corpora import Dictionary\n",
    "from gensim.models import LdaModel\n",
    "import pyLDAvis.gensim_models as gensimvis\n",
    "import pyLDAvis\n",
    "import matplotlib.pyplot as plt\n",
    "\n",
    "# Assuming you have a list of preprocessed tokens called 'bitcoin_text'\n",
    "# You can replace 'bitcoin_text' with your actual data\n",
    "dictionary = Dictionary([tokens for tokens in bitcoin_text])\n",
    "corpus = [dictionary.doc2bow(tokens) for tokens in bitcoin_text]\n",
    "\n",
    "# Perform LDA topic modeling\n",
    "lda_model_bitcoin = LdaModel(corpus=corpus, id2word=dictionary, num_topics=5, passes=2)\n"
   ]
  },
  {
   "cell_type": "code",
   "execution_count": 14,
   "id": "95f34e12",
   "metadata": {},
   "outputs": [
    {
     "name": "stdout",
     "output_type": "stream",
     "text": [
      "Coherence Score: 0.3743\n"
     ]
    }
   ],
   "source": [
    "from gensim.models import CoherenceModel\n",
    "\n",
    "coherence_model_lda = CoherenceModel(model=lda_model_bitcoin, texts=bitcoin_text, dictionary=dictionary, coherence='c_v')\n",
    "coherence_lda = coherence_model_lda.get_coherence()\n",
    "print(f'Coherence Score: {coherence_lda:.4f}')\n"
   ]
  },
  {
   "cell_type": "code",
   "execution_count": 15,
   "id": "fde7224e",
   "metadata": {},
   "outputs": [
    {
     "data": {
      "image/png": "[encoded data removed]",
      "text/plain": [
       "<Figure size 1000x600 with 1 Axes>"
      ]
     },
     "metadata": {},
     "output_type": "display_data"
    }
   ],
   "source": [
    "# Define a range of topic numbers to test\n",
    "topics_range = range(2, 11)\n",
    "coherence_scores = []\n",
    "\n",
    "# Calculate coherence scores for different numbers of topics\n",
    "for num_topics in topics_range:\n",
    "    lda_model = LdaModel(corpus=corpus, id2word=dictionary, num_topics=num_topics, passes=2)\n",
    "    coherence_model = CoherenceModel(model=lda_model, texts=bitcoin_text, dictionary=dictionary, coherence='c_v')\n",
    "    coherence_score = coherence_model.get_coherence()\n",
    "    coherence_scores.append(coherence_score)\n",
    "\n",
    "# Plot the coherence scores\n",
    "plt.figure(figsize=(10, 6))\n",
    "plt.plot(topics_range, coherence_scores, marker='o', linestyle='-', color='b')\n",
    "plt.title('Coherence Scores for Different Numbers of Topics')\n",
    "plt.xlabel('Number of Topics')\n",
    "plt.ylabel('Coherence Score (C_v)')\n",
    "plt.xticks(topics_range)\n",
    "plt.grid(True)\n",
    "plt.show()\n"
   ]
  },
  {
   "cell_type": "code",
   "execution_count": 16,
   "id": "11fecb21",
   "metadata": {},
   "outputs": [
    {
     "name": "stdout",
     "output_type": "stream",
     "text": [
      "(0, '0.028*\"bitcoin\" + 0.022*\"would\" + 0.014*\"bitcoins\"')\n",
      "(1, '0.023*\"http\" + 0.016*\"bitcoins\" + 0.016*\"mining\"')\n",
      "(2, '0.039*\"bitcoin\" + 0.012*\"would\" + 0.009*\"people\"')\n",
      "(3, '0.027*\"bitcoin\" + 0.016*\"bitcoins\" + 0.011*\"would\"')\n",
      "(4, '0.020*\"bitcoin\" + 0.016*\"transaction\" + 0.015*\"block\"')\n"
     ]
    }
   ],
   "source": [
    "# Print the topics generated by the LDA model\n",
    "topics = lda_model_bitcoin.print_topics(num_words=3)  # You can adjust the number of words per topic\n",
    "for topic in topics:\n",
    "    print(topic)\n"
   ]
  },
  {
   "cell_type": "markdown",
   "id": "2447ee66",
   "metadata": {},
   "source": [
    "# Sentiment Analysis"
   ]
  },
  {
   "cell_type": "code",
   "execution_count": 17,
   "id": "77cd3053",
   "metadata": {},
   "outputs": [
    {
     "name": "stderr",
     "output_type": "stream",
     "text": [
      "[nltk_data] Downloading package stopwords to\n",
      "[nltk_data]     /Users/shivanipaunikar/nltk_data...\n",
      "[nltk_data]   Package stopwords is already up-to-date!\n",
      "[nltk_data] Downloading package punkt to\n",
      "[nltk_data]     /Users/shivanipaunikar/nltk_data...\n",
      "[nltk_data]   Package punkt is already up-to-date!\n"
     ]
    }
   ],
   "source": [
    "from textblob import TextBlob\n",
    "\n",
    "# Combine Ethereum submissions and comments text into a single list\n",
    "bitcoin_text = bitcoin_submissions_df['selftext'].dropna().tolist() + bitcoin_comments_df['body'].dropna().tolist()\n",
    "\n",
    "# Preprocess the text data (if you haven't done this already)\n",
    "nltk.download('stopwords')\n",
    "nltk.download('punkt')\n",
    "stop_words = set(stopwords.words('english'))\n",
    "lemmatizer = WordNetLemmatizer()\n",
    "\n",
    "def preprocess_text(text):\n",
    "    tokens = word_tokenize(text.lower())\n",
    "    tokens = [lemmatizer.lemmatize(token) for token in tokens if token.isalnum()]\n",
    "    tokens = [token for token in tokens if token not in stop_words]\n",
    "    return ' '.join(tokens)  # Join tokens into a single string\n",
    "\n",
    "bitcoin_text = [preprocess_text(text) for text in bitcoin_text]"
   ]
  },
  {
   "cell_type": "code",
   "execution_count": 18,
   "id": "d940846f",
   "metadata": {},
   "outputs": [
    {
     "name": "stderr",
     "output_type": "stream",
     "text": [
      "[nltk_data] Downloading package stopwords to\n",
      "[nltk_data]     /Users/shivanipaunikar/nltk_data...\n",
      "[nltk_data]   Package stopwords is already up-to-date!\n",
      "[nltk_data] Downloading package punkt to\n",
      "[nltk_data]     /Users/shivanipaunikar/nltk_data...\n",
      "[nltk_data]   Package punkt is already up-to-date!\n"
     ]
    }
   ],
   "source": [
    "# Example preprocessing using NLTK\n",
    "import nltk\n",
    "from nltk.corpus import stopwords\n",
    "from nltk.tokenize import word_tokenize\n",
    "\n",
    "nltk.download('stopwords')\n",
    "nltk.download('punkt')\n",
    "\n",
    "# Define a function to preprocess text\n",
    "def preprocess_text(text):\n",
    "    # Tokenize the text\n",
    "    tokens = word_tokenize(text)\n",
    "    \n",
    "    # Remove stopwords\n",
    "    tokens = [word for word in tokens if word.lower() not in stopwords.words('english')]\n",
    "    \n",
    "    # Other text cleaning steps (e.g., removing punctuation, stemming) can be added\n",
    "    \n",
    "    return \" \".join(tokens)  # Convert tokens back to text\n",
    "\n",
    "# Apply preprocessing to your text data\n",
    "bitcoin_comments_df['cleaned_text'] = bitcoin_comments_df['body'].apply(preprocess_text)\n"
   ]
  },
  {
   "cell_type": "code",
   "execution_count": 19,
   "id": "f46fe94c",
   "metadata": {},
   "outputs": [],
   "source": [
    "# Define a function to get sentiment\n",
    "def get_sentiment(text):\n",
    "    analysis = TextBlob(text)\n",
    "    polarity = analysis.sentiment.polarity\n",
    "\n",
    "    if polarity > 0.1:\n",
    "        return \"positive\"\n",
    "    elif polarity < -0.1:\n",
    "        return \"negative\"\n",
    "    else:\n",
    "        return \"neutral\""
   ]
  },
  {
   "cell_type": "code",
   "execution_count": 20,
   "id": "4fc1070d",
   "metadata": {},
   "outputs": [],
   "source": [
    "# Apply sentiment analysis to your preprocessed text data\n",
    "sentiments = [get_sentiment(text) for text in bitcoin_text]\n"
   ]
  },
  {
   "cell_type": "code",
   "execution_count": 21,
   "id": "47f67740",
   "metadata": {},
   "outputs": [],
   "source": [
    "# Create a DataFrame to store sentiments (optional)\n",
    "sentiments_df = pd.DataFrame({'Sentiment': sentiments})"
   ]
  },
  {
   "cell_type": "code",
   "execution_count": 22,
   "id": "4760f4b3",
   "metadata": {},
   "outputs": [
    {
     "name": "stdout",
     "output_type": "stream",
     "text": [
      "neutral     3145\n",
      "positive    3091\n",
      "negative     649\n",
      "Name: Sentiment, dtype: int64\n"
     ]
    }
   ],
   "source": [
    "# Print or analyze the sentiment results as needed\n",
    "print(sentiments_df['Sentiment'].value_counts())  # Display sentiment counts\n"
   ]
  },
  {
   "cell_type": "code",
   "execution_count": 26,
   "id": "31d5ff5f",
   "metadata": {},
   "outputs": [
    {
     "name": "stdout",
     "output_type": "stream",
     "text": [
      "Comment 1:\n",
      "Text: Also, say I'm taking payouts from mining pools at my locally hosted address.  What happens when a payout gets sent to me while my client is offline?  Is there any risk of losing those coins?\n",
      "Sentiment: neutral\n",
      "\n",
      "Comment 2:\n",
      "Text: Holiday spirit and all that shit, plus I can't think of something fun online for people to do, so screw it, just give me either one Litecoin address or one Solidcoin address and I will present you with an Alternate Currency to check out, but.. you may only choose one! \n",
      "\n",
      "Litecoin client at http://litecoin.org/\n",
      "\n",
      "Solidcoin client at http://solidcoin.info/\n",
      "\n",
      "One per person, keep it clean or make fun of anything that isn't Bitcoin, I don't care.   I'll check back on this later tonight. \n",
      "\n",
      "Edit: Now open to Bitcointalk, replies there count toward a reply here https://bitcointalk.org/index.php?topic=55457.0\n",
      "Sentiment: neutral\n",
      "\n",
      "Comment 3:\n",
      "Text: This is Bitcoin's first foray into the mainstream.  Millions of regular, technologically naive, financially uninformed people will get a taste of BTC.  So... Was the show informative?  Fair?  Will it increase adoption, or government scrutiny?  Will Mt. Gox peak or panic?  Post your thoughts about the show below.\n",
      "Sentiment: positive\n",
      "\n",
      "Comment 4:\n",
      "Text: What's to stop me from making a Bitcoin app that is exactly the same but I call it \"D Harry coin\" and it operates exactly the same?\n",
      "Sentiment: positive\n",
      "\n",
      "Comment 5:\n",
      "Text:  Been reading about BTC for a while now and finally decided to start mining. Hopped into /mtred and starting in that pool... with 75 weak GPU but I figure what I lack in raw power I can make up for in numbers (I'm not paying electricity so I don't have to factor that into costs) current mhs is ~1100 so I think I'll be able to get a fair return on the mining.\n",
      "\n",
      "My question is after looking at http://bitcoincharts.com/markets/ it appears to me that different sites place different values on BTC at any given time with variances of up to a few dollars in some cases. Now with the right amount of time, money, and planning what is stopping me from simply buying low at x and selling a bit higher at y and turning a profit without ever directly mining BTC myslef? \n",
      "\n",
      "I looked around for a bit but could not find any exact answers or restriction that would delay the transaction between x and y. So then can anyone explain this to me or point me to where I can find out more information.\n",
      "Sentiment: neutral\n",
      "\n",
      "Submission 1:\n",
      "Text: One of the big challenges with bitcoin, aside from awareness, is the hesitance of businesses to accept the currency due to price volatility and the incomplete loop. For most businesses, bitcoins must be eventually realized back into dollars in order to pay employees, buy supplies, and inevitably pay taxes.\n",
      "\n",
      "To overcome part of this problem, I propose the following ideas:\n",
      "Each small business that accepts bitcoins shoud not only accept them as payment for goods and services, but also become their own local exchange as well. Essentially a \"coin shop\" if you will. These locations would be known from a published list somewhere, perhaps a community driven Google map, as a place where users could go to immediately buy bitcoins for other uses as opposed to going through the whole online exchange process. This would allow the business to convert their coins into cash for a bit of extra markup. Conversely, the more savvy local businesses who know how to set up an account for online exchange may even be willing to buy bitcoins at a discount.\n",
      "\n",
      "Coin shops operate in this same manner. The spread between the price they will buy coins and sell coins is enough to support their business. Restaurants and the like would simply become \"bitcoin shops\" on top of their usual business. Perhaps they would also allow patrons to send bitcoin payments from their establishment for a small fee as well.\n",
      "\n",
      "I think this is the only natural way a business can safely accept bitcoin, but a little infrastructure needs to be in place for them to register their presence, their exchange rate, etc.\n",
      "\n",
      "Ultimately such registry should have a brief overview of how/why businesses would want to do this. Perhaps a brief overview video in the style of the WeUseCoins form. Hopefully such registry could be implemented by some of the existing bitcoin sites out there not seeking to profit from the registry list.\n",
      "\n",
      "tl;dr - Local merchants also become local exchange locations, primarily selling their received bitcoins at a slight profit, allowing local users to buy anonymously without going through the online exchange process.\n",
      "Sentiment: neutral\n",
      "\n",
      "Submission 2:\n",
      "Text: I know that Bitcoin is set up as an entirely separate currency, acting more like a commodity against the USD, but what if it had been linked by fiat to 1 BTC = 1 USD? (The exact ratio doesn't matter.)\n",
      "\n",
      "Would Bitcoin still have seen the same adoption? It wouldn't have had the programmed deflation, but it also wouldn't have been so volatile.\n",
      "\n",
      "(Apologies for being so terse; I have developed carpal tunnel or something and am trying to use this damn ergonomic keyboard.)\n",
      "\n",
      "**Edit:** Oh yeah, I almost forgot: If BTC like that took off, would that be like printing USD, causing inflation?\n",
      "Sentiment: neutral\n",
      "\n",
      "Submission 3:\n",
      "Text: I decided to play with the BTC market on MtGox. My transfer didn't hit in time for the last bottom out in the market...so I waited patiently for the price to drop again. I had an order for $9 per BTC up for over a week...then the convention in NYC happened and I was concerned it would increase the price along with the potential for higher difficulty.\n",
      "\n",
      "Well, I missed it. I raised my bid to $10.50 and now MtGox is trading at like $9.20. Anyone else ever, or especially this time, screw up a potentially profitable trade?\n",
      "Sentiment: neutral\n",
      "\n",
      "Submission 4:\n",
      "Text: Silk Road introduced some time ago a hedging feature, which basically reduces the risk of sellers from BTC/USD exchange rate volatility. It works probably as following: when a order arrives, bitcoins are sold on some exchange for current exchange rate, and are held in escrow as USD. When the buyer releases the escrow, funds are converted to BTC again at the current exchange rate.\n",
      "\n",
      "This means following things:\n",
      "\n",
      "- Money is kept as USD instead of BTC, therefore less demand for BTC\n",
      "- Exchange places such as mtgox probably profit from this as fees :)\n",
      "- Exchange places probably \"launder\" the bitcoins used in silk road, this is bad news for those who don't want their bitcoins mixed with bitcoins from illegal places\n",
      "- More liquidity in the markets\n",
      "Sentiment: negative\n",
      "\n",
      "Submission 5:\n",
      "Text: (Before the current monster spike) I was using MTGox to trade BTC as a commodity. I was making about .3 BTC a day. Is anyone else doing this? Is it bad for the bitcoinimy?\n",
      "Sentiment: negative\n",
      "\n"
     ]
    }
   ],
   "source": [
    "# Assuming you have already performed sentiment analysis and stored results in 'sentiments' list\n",
    "# Combine both comments and submissions text into a single list\n",
    "bitcoin_text = bitcoin_submissions_df['selftext'].dropna().tolist() + bitcoin_comments_df['body'].dropna().tolist()\n",
    "\n",
    "\n",
    "# Print the first few comments and submissions with their sentiments\n",
    "for i, (text, sentiment) in enumerate(zip(bitcoin_text, sentiments)):\n",
    "    if i >= 10:  # Print the first 10 (5 comments + 5 submissions)\n",
    "        break\n",
    "    if i < 5:\n",
    "        print(f\"Comment {i + 1}:\")\n",
    "    else:\n",
    "        print(f\"Submission {i - 4}:\")\n",
    "    print(\"Text:\", text)\n",
    "    print(\"Sentiment:\", sentiment)\n",
    "    print()\n"
   ]
  },
  {
   "cell_type": "code",
   "execution_count": 23,
   "id": "051b6fe0",
   "metadata": {},
   "outputs": [
    {
     "data": {
      "image/png": "[encoded data removed]",
      "text/plain": [
       "<Figure size 800x600 with 1 Axes>"
      ]
     },
     "metadata": {},
     "output_type": "display_data"
    }
   ],
   "source": [
    "import matplotlib.pyplot as plt\n",
    "import pandas as pd\n",
    "\n",
    "# Assuming you have already performed sentiment analysis and have a DataFrame 'sentiments_df'\n",
    "# with a 'Sentiment' column containing sentiment labels (positive, negative, neutral)\n",
    "\n",
    "# Count the occurrences of each sentiment label\n",
    "sentiment_counts = sentiments_df['Sentiment'].value_counts()\n",
    "\n",
    "# Create a bar plot\n",
    "plt.figure(figsize=(8, 6))\n",
    "sentiment_counts.plot(kind='bar', color=['green', 'red', 'blue'], alpha=0.7)\n",
    "plt.title('Sentiment Analysis of Bitcoin ')\n",
    "plt.xlabel('Sentiment')\n",
    "plt.ylabel('Count')\n",
    "\n",
    "# Annotate the bars with counts\n",
    "for i, count in enumerate(sentiment_counts):\n",
    "    plt.text(i, count, str(count), ha='center', va='bottom', fontsize=12)\n",
    "\n",
    "# Show the plot\n",
    "plt.xticks(rotation=0)\n",
    "plt.tight_layout()\n",
    "plt.show()\n"
   ]
  },
  {
   "cell_type": "markdown",
   "id": "c50ab952",
   "metadata": {},
   "source": [
    "# Emotion Analysis"
   ]
  },
  {
   "cell_type": "code",
   "execution_count": 24,
   "id": "4643aa2a",
   "metadata": {},
   "outputs": [
    {
     "name": "stdout",
     "output_type": "stream",
     "text": [
      "Requirement already satisfied: transformers in ./opt/anaconda3/lib/python3.9/site-packages (4.24.0)\n",
      "Requirement already satisfied: torch in ./opt/anaconda3/lib/python3.9/site-packages (1.12.1)\n",
      "Requirement already satisfied: pyyaml>=5.1 in ./opt/anaconda3/lib/python3.9/site-packages (from transformers) (6.0)\n",
      "Requirement already satisfied: packaging>=20.0 in ./opt/anaconda3/lib/python3.9/site-packages (from transformers) (22.0)\n",
      "Requirement already satisfied: filelock in ./opt/anaconda3/lib/python3.9/site-packages (from transformers) (3.9.0)\n",
      "Requirement already satisfied: regex!=2019.12.17 in ./opt/anaconda3/lib/python3.9/site-packages (from transformers) (2022.7.9)\n",
      "Requirement already satisfied: numpy>=1.17 in ./opt/anaconda3/lib/python3.9/site-packages (from transformers) (1.23.5)\n",
      "Requirement already satisfied: tokenizers!=0.11.3,<0.14,>=0.11.1 in ./opt/anaconda3/lib/python3.9/site-packages (from transformers) (0.11.4)\n",
      "Requirement already satisfied: requests in ./opt/anaconda3/lib/python3.9/site-packages (from transformers) (2.28.1)\n",
      "Requirement already satisfied: tqdm>=4.27 in ./opt/anaconda3/lib/python3.9/site-packages (from transformers) (4.64.1)\n",
      "Requirement already satisfied: huggingface-hub<1.0,>=0.10.0 in ./opt/anaconda3/lib/python3.9/site-packages (from transformers) (0.10.1)\n",
      "Requirement already satisfied: typing_extensions in ./opt/anaconda3/lib/python3.9/site-packages (from torch) (4.4.0)\n",
      "Requirement already satisfied: urllib3<1.27,>=1.21.1 in ./opt/anaconda3/lib/python3.9/site-packages (from requests->transformers) (1.26.14)\n",
      "Requirement already satisfied: certifi>=2017.4.17 in ./opt/anaconda3/lib/python3.9/site-packages (from requests->transformers) (2022.12.7)\n",
      "Requirement already satisfied: charset-normalizer<3,>=2 in ./opt/anaconda3/lib/python3.9/site-packages (from requests->transformers) (2.0.4)\n",
      "Requirement already satisfied: idna<4,>=2.5 in ./opt/anaconda3/lib/python3.9/site-packages (from requests->transformers) (3.4)\n",
      "Note: you may need to restart the kernel to use updated packages.\n"
     ]
    }
   ],
   "source": [
    "pip install transformers torch\n"
   ]
  },
  {
   "cell_type": "code",
   "execution_count": null,
   "id": "fdf8ad7e",
   "metadata": {},
   "outputs": [],
   "source": [
    "from transformers import AutoModelForSequenceClassification, AutoTokenizer\n",
    "\n",
    "model_name = \"michellejieli/emotion_text_classifier\"\n",
    "tokenizer = AutoTokenizer.from_pretrained(model_name)\n",
    "model = AutoModelForSequenceClassification.from_pretrained(model_name)\n"
   ]
  },
  {
   "cell_type": "code",
   "execution_count": null,
   "id": "ac16b012",
   "metadata": {},
   "outputs": [],
   "source": [
    "import torch\n",
    "\n",
    "def get_emotion(text):\n",
    "    inputs = tokenizer(text, return_tensors=\"pt\", truncation=True, padding=True)\n",
    "    with torch.no_grad():\n",
    "        logits = model(**inputs).logits\n",
    "    predicted_class = torch.argmax(logits, dim=1).item()\n",
    "    emotion_labels = [\"anger\", \"fear\", \"joy\", \"sadness\", \"surprise\"]\n",
    "    return emotion_labels[predicted_class]\n"
   ]
  },
  {
   "cell_type": "code",
   "execution_count": null,
   "id": "8c9d4f59",
   "metadata": {},
   "outputs": [],
   "source": [
    "bitcoin_comments_df['emotion'] = bitcoin_comments_df['cleaned_text'].apply(get_emotion)"
   ]
  },
  {
   "cell_type": "code",
   "execution_count": null,
   "id": "27079674",
   "metadata": {},
   "outputs": [],
   "source": [
    "import matplotlib.pyplot as plt\n",
    "\n",
    "# Count the occurrences of each emotion label\n",
    "emotion_counts = bitcoin_comments_df['emotion'].value_counts()\n",
    "\n",
    "# Create a bar plot\n",
    "plt.figure(figsize=(8, 6))\n",
    "emotion_counts.plot(kind='bar', color=['red', 'blue', 'green', 'purple', 'orange'], alpha=0.7)\n",
    "plt.title('Emotional Analysis of bitcoin Comments')\n",
    "plt.xlabel('Emotion')\n",
    "plt.ylabel('Count')\n",
    "\n",
    "# Annotate the bars with counts\n",
    "for i, count in enumerate(emotion_counts):\n",
    "    plt.text(i, count, str(count), ha='center', va='bottom', fontsize=12)\n",
    "\n",
    "# Show the plot\n",
    "plt.xticks(rotation=0)\n",
    "plt.tight_layout()\n",
    "plt.show()\n"
   ]
  }
 ],
 "metadata": {
  "kernelspec": {
   "display_name": "Python 3 (ipykernel)",
   "language": "python",
   "name": "python3"
  },
  "language_info": {
   "codemirror_mode": {
    "name": "ipython",
    "version": 3
   },
   "file_extension": ".py",
   "mimetype": "text/x-python",
   "name": "python",
   "nbconvert_exporter": "python",
   "pygments_lexer": "ipython3",
   "version": "3.9.16"
  }
 },
 "nbformat": 4,
 "nbformat_minor": 5
}
